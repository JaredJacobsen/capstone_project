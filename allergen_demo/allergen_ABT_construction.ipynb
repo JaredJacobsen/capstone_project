{
 "cells": [
  {
   "cell_type": "code",
   "execution_count": 1,
   "metadata": {
    "collapsed": false
   },
   "outputs": [],
   "source": [
    "import pandas as pd\n",
    "import numpy as np\n",
    "import math\n",
    "import re\n",
    "\n",
    "from Bio import SeqIO\n",
    "from Bio.SeqUtils.ProtParam import ProteinAnalysis"
   ]
  },
  {
   "cell_type": "code",
   "execution_count": 2,
   "metadata": {
    "collapsed": true
   },
   "outputs": [],
   "source": [
    "df = pd.read_csv('AllergenOnline - Browse the Database.csv')"
   ]
  },
  {
   "cell_type": "code",
   "execution_count": 3,
   "metadata": {
    "collapsed": true
   },
   "outputs": [],
   "source": [
    "#get GI nums to query uniprot to obtain fasta. Results stored in allergens.fasta\n",
    "gi_nums = df['GI#@'].dropna().apply(lambda x: str(int(x))).values.tolist()\n",
    "gi_nums = ' '.join(gi_nums)"
   ]
  },
  {
   "cell_type": "code",
   "execution_count": 4,
   "metadata": {
    "collapsed": false
   },
   "outputs": [],
   "source": [
    "def get_sequences_from_fasta(fin):\n",
    "    fasta_sequences = SeqIO.parse(fin,'fasta')\n",
    "    return [str(fasta.seq) for fasta in fasta_sequences]"
   ]
  },
  {
   "cell_type": "code",
   "execution_count": 5,
   "metadata": {
    "collapsed": false
   },
   "outputs": [],
   "source": [
    "ao_sequences = get_sequences_from_fasta(open('allergens.fasta'))"
   ]
  },
  {
   "cell_type": "code",
   "execution_count": 6,
   "metadata": {
    "collapsed": false
   },
   "outputs": [],
   "source": [
    "ao_df = pd.DataFrame({'sequence': ao_sequences})"
   ]
  },
  {
   "cell_type": "code",
   "execution_count": 7,
   "metadata": {
    "collapsed": false
   },
   "outputs": [
    {
     "data": {
      "text/plain": [
       "(1666, 1)"
      ]
     },
     "execution_count": 7,
     "metadata": {},
     "output_type": "execute_result"
    }
   ],
   "source": [
    "ao_df.shape"
   ]
  },
  {
   "cell_type": "markdown",
   "metadata": {},
   "source": [
    "<h1> Uniprot Allergens </h1>"
   ]
  },
  {
   "cell_type": "code",
   "execution_count": 8,
   "metadata": {
    "collapsed": false
   },
   "outputs": [],
   "source": [
    "with open('allergens.txt', 'r') as fin:\n",
    "    pattern = '\\(([\\w\\d]{6})\\)'\n",
    "    accession_nums = [re.search(pattern, l).group(1) for l in fin.readlines()]"
   ]
  },
  {
   "cell_type": "code",
   "execution_count": 9,
   "metadata": {
    "collapsed": false
   },
   "outputs": [],
   "source": [
    "allergen_sequences = get_sequences_from_fasta(open('uniprot_allergens.fasta'))\n",
    "non_allergen_sequences = get_sequences_from_fasta(open('uniprot_sprot.fasta'))"
   ]
  },
  {
   "cell_type": "code",
   "execution_count": 10,
   "metadata": {
    "collapsed": false
   },
   "outputs": [],
   "source": [
    "def create_balanced_df(allergen_sequences, non_allergen_sequences):\n",
    "    allergen_set = set(allergen_sequences)\n",
    "    non_allergen_sequences = [seq for seq in non_allergen_sequences if seq not in allergen_set]\n",
    "    non_allergen_sequences = np.random.choice(non_allergen_sequences, len(allergen_sequences)).tolist()\n",
    "    balanced_df = pd.DataFrame({'sequence': allergen_sequences + non_allergen_sequences,\n",
    "                                'allergen': [1]*len(allergen_sequences) + [0]*len(non_allergen_sequences)})\n",
    "    return balanced_df"
   ]
  },
  {
   "cell_type": "code",
   "execution_count": 12,
   "metadata": {
    "collapsed": false
   },
   "outputs": [],
   "source": [
    "def add_protein_characteristics(df):\n",
    "    aa_list = ['A', 'C','E','D','G','F','I','H','K','M','L','N','Q','P','S','R','T','W','V','Y']\n",
    "    aa_dict = {}\n",
    "    for aa in aa_list:\n",
    "        aa_dict[aa] = []\n",
    "    prop_dict = {'aromaticity': [], 'instability_index': [], 'helix': [], 'turn': [], 'sheet': []}\n",
    "    for i, s in enumerate(df['sequence']):\n",
    "        pa = ProteinAnalysis(s)\n",
    "        prop_dict['aromaticity'].append(pa.aromaticity())\n",
    "        prop_dict['instability_index'].append(pa.aromaticity())\n",
    "        for fraction, ss in zip(pa.secondary_structure_fraction(), ['helix', 'turn', 'sheet']):\n",
    "            prop_dict[ss].append(fraction)\n",
    "        for k, v in pa.get_amino_acids_percent().items():\n",
    "            aa_dict[k].append(v)\n",
    "    for k, v in aa_dict.items():\n",
    "        df[k] = v\n",
    "    for k, v in prop_dict.items():\n",
    "        df[k] = v\n",
    "    return df\n",
    "\n",
    "uniprot_df = create_balanced_df(allergen_sequences, non_allergen_sequences)\n",
    "uniprot_final_df = add_protein_characteristics(uniprot_df)    "
   ]
  },
  {
   "cell_type": "code",
   "execution_count": 13,
   "metadata": {
    "collapsed": false
   },
   "outputs": [
    {
     "name": "stdout",
     "output_type": "stream",
     "text": [
      "cross validation score: 0.808974358974\n",
      "\n"
     ]
    }
   ],
   "source": [
    "from sklearn.ensemble import RandomForestClassifier\n",
    "from sklearn.model_selection import cross_val_score\n",
    "from sklearn.metrics import accuracy_score\n",
    "\n",
    "X = uniprot_final_df.drop(['sequence','allergen'], axis=1)\n",
    "y = uniprot_final_df['allergen']\n",
    "\n",
    "rf = RandomForestClassifier()\n",
    "\n",
    "print 'cross validation score: ' + str(np.mean(cross_val_score(rf, X, y, cv=5))) + '\\n'"
   ]
  },
  {
   "cell_type": "code",
   "execution_count": 15,
   "metadata": {
    "collapsed": false
   },
   "outputs": [],
   "source": [
    "ao_df = create_balanced_df(ao_sequences, non_allergen_sequences)\n",
    "ao_final_df = add_protein_characteristics(ao_df)"
   ]
  },
  {
   "cell_type": "code",
   "execution_count": 16,
   "metadata": {
    "collapsed": false
   },
   "outputs": [
    {
     "name": "stdout",
     "output_type": "stream",
     "text": [
      "cross validation score: 0.824439409469\n",
      "\n"
     ]
    }
   ],
   "source": [
    "X = ao_final_df.drop(['sequence','allergen'], axis=1)\n",
    "y = ao_final_df['allergen']\n",
    "\n",
    "rf = RandomForestClassifier()\n",
    "\n",
    "print 'cross validation score: ' + str(np.mean(cross_val_score(rf, X, y, cv=5))) + '\\n'"
   ]
  },
  {
   "cell_type": "markdown",
   "metadata": {
    "collapsed": true
   },
   "source": [
    "## Dont forget to add n_grams"
   ]
  },
  {
   "cell_type": "code",
   "execution_count": null,
   "metadata": {
    "collapsed": true
   },
   "outputs": [],
   "source": []
  },
  {
   "cell_type": "code",
   "execution_count": null,
   "metadata": {
    "collapsed": true
   },
   "outputs": [],
   "source": []
  },
  {
   "cell_type": "code",
   "execution_count": null,
   "metadata": {
    "collapsed": false
   },
   "outputs": [],
   "source": [
    "import urllib,urllib2\n",
    "\n",
    "url = 'http://www.uniprot.org/uploadlists/'\n",
    "\n",
    "params = {\n",
    "'from':'ACC',\n",
    "'to':'ACC',\n",
    "'format':'fasta',\n",
    "'query':'P31946 P62258',\n",
    "'columns': 'organism, id, Sequence'\n",
    "}\n",
    "\n",
    "data = urllib.urlencode(params)\n",
    "request = urllib2.Request(url, data)\n",
    "contact = \"jaredtjacobsen@gmail.com\"\n",
    "request.add_header('User-Agent', 'Python %s' % contact)\n",
    "response = urllib2.urlopen(request)\n",
    "page = response.read(200000)"
   ]
  },
  {
   "cell_type": "code",
   "execution_count": null,
   "metadata": {
    "collapsed": false
   },
   "outputs": [],
   "source": [
    "print page"
   ]
  },
  {
   "cell_type": "code",
   "execution_count": null,
   "metadata": {
    "collapsed": false
   },
   "outputs": [],
   "source": [
    "import requests\n",
    "url = 'http://www.uniprot.org/uploadlists/'\n",
    "params = {\n",
    "'from':'ACC',\n",
    "'to':'ACC',\n",
    "'format':'fasta',\n",
    "'query':'P31946 P62258',\n",
    "}\n",
    "\n",
    "response = requests.get(url, params)"
   ]
  },
  {
   "cell_type": "code",
   "execution_count": null,
   "metadata": {
    "collapsed": false
   },
   "outputs": [],
   "source": [
    "[''.join(i.split('\\n')[1:]) for i in response.text.split('>')[1:]]"
   ]
  },
  {
   "cell_type": "code",
   "execution_count": null,
   "metadata": {
    "collapsed": false
   },
   "outputs": [],
   "source": [
    "s = [1,2,3]\n",
    "'g'.join(map(str, s))"
   ]
  },
  {
   "cell_type": "code",
   "execution_count": null,
   "metadata": {
    "collapsed": false
   },
   "outputs": [],
   "source": [
    "from Bio import SeqIO\n",
    "fasta_sequences = SeqIO.parse(response.text,'fasta')\n",
    "return [str(fasta.seq) for fasta in fasta_sequences]"
   ]
  },
  {
   "cell_type": "code",
   "execution_count": null,
   "metadata": {
    "collapsed": false
   },
   "outputs": [],
   "source": [
    "'>g'.split('>')"
   ]
  },
  {
   "cell_type": "code",
   "execution_count": null,
   "metadata": {
    "collapsed": true
   },
   "outputs": [],
   "source": []
  }
 ],
 "metadata": {
  "anaconda-cloud": {},
  "kernelspec": {
   "display_name": "Python 2",
   "language": "python",
   "name": "python2"
  },
  "language_info": {
   "codemirror_mode": {
    "name": "ipython",
    "version": 2
   },
   "file_extension": ".py",
   "mimetype": "text/x-python",
   "name": "python",
   "nbconvert_exporter": "python",
   "pygments_lexer": "ipython2",
   "version": "2.7.11"
  }
 },
 "nbformat": 4,
 "nbformat_minor": 0
}
