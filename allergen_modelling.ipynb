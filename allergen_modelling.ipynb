{
 "cells": [
  {
   "cell_type": "code",
   "execution_count": 23,
   "metadata": {
    "collapsed": false,
    "scrolled": false
   },
   "outputs": [],
   "source": [
    "import pandas as pd\n",
    "import numpy as np\n",
    "import cPickle as pickle\n",
    "from sklearn import metrics\n",
    "import matplotlib.pyplot as plt\n",
    "%matplotlib inline\n",
    "from scipy import interp\n",
    "from itertools import cycle\n",
    "\n",
    "from sklearn import metrics\n",
    "from sklearn import svm, datasets\n",
    "from sklearn.metrics import roc_curve, auc, confusion_matrix, classification_report, precision_recall_curve, average_precision_score, f1_score, accuracy_score\n",
    "from sklearn.model_selection import StratifiedKFold, cross_val_score, train_test_split, GridSearchCV, RandomizedSearchCV\n",
    "from sklearn.cross_validation import StratifiedShuffleSplit\n",
    "from sklearn.ensemble import GradientBoostingClassifier, RandomForestClassifier\n",
    "from sklearn.preprocessing import StandardScaler\n",
    "from sklearn.semi_supervised import label_propagation\n",
    "from sklearn.naive_bayes import GaussianNB, MultinomialNB, BernoulliNB\n",
    "from sklearn.feature_extraction.text import TfidfVectorizer\n",
    "from sklearn.metrics.pairwise import cosine_similarity\n",
    "from sklearn.pipeline import Pipeline, FeatureUnion\n",
    "from sklearn.linear_model import LogisticRegressionCV\n",
    "from sklearn.svm import SVC\n",
    "\n",
    "def cross_val_roc(classifier, X, y, n_splits=3, balance=False, test_size=0.25):\n",
    "    # Run classifier with cross-validation and plot ROC curves\n",
    "    mean_tpr = 0.0\n",
    "    mean_fpr = np.linspace(0, 1, 100)\n",
    "\n",
    "    colors = cycle(['cyan', 'indigo', 'seagreen', 'yellow', 'blue', 'darkorange'])\n",
    "    lw = 2\n",
    "    plt.clf()\n",
    "    plt.figure(figsize=(8,6));\n",
    "    \n",
    "    if balance:\n",
    "        splits = StratifiedShuffleSplit(y, n_splits, test_size=test_size)\n",
    "    else:\n",
    "        splits = StratifiedKFold(n_splits=n_splits, shuffle=True).split(X, y)\n",
    "    \n",
    "    i = 0\n",
    "    for (train, test), color in zip(splits, colors):\n",
    "        X_train, X_test = X.ix[train], X.ix[test]\n",
    "        y_train, y_test = y.ix[train], y.ix[test]\n",
    "        if balance:\n",
    "            X_train, y_train = balance_train_index(X_train, y_train)\n",
    "        \n",
    "        probas_ = classifier.fit(X_train, y_train).predict_proba(X_test)\n",
    "        # Compute ROC curve and area the curve\n",
    "        fpr, tpr, thresholds = roc_curve(y_test, probas_[:, 1])\n",
    "        mean_tpr += interp(mean_fpr, fpr, tpr)\n",
    "        mean_tpr[0] = 0.0\n",
    "        roc_auc = auc(fpr, tpr)\n",
    "        plt.plot(fpr, tpr, lw=lw, color=color,\n",
    "                 label='ROC fold %d (area = %0.2f)' % (i, roc_auc))\n",
    "\n",
    "        i += 1\n",
    "    plt.plot([0, 1], [0, 1], linestyle='--', lw=lw, color='k',\n",
    "             label='Luck')\n",
    "\n",
    "    mean_tpr /= n_splits\n",
    "    mean_tpr[-1] = 1.0\n",
    "    mean_auc = auc(mean_fpr, mean_tpr)\n",
    "    plt.plot(mean_fpr, mean_tpr, color='g', linestyle='--',\n",
    "             label='Mean ROC (area = %0.2f)' % mean_auc, lw=lw)\n",
    "\n",
    "    plt.xlim([-0.05, 1.05])\n",
    "    plt.ylim([-0.05, 1.05])\n",
    "    plt.xlabel('False Positive Rate')\n",
    "    plt.ylabel('True Positive Rate')\n",
    "    plt.title('Receiver operating characteristic example')\n",
    "    plt.legend(loc=\"lower right\")\n",
    "    plt.show();\n",
    "\n",
    "def cv_score(clf, X, y, cv=5, scoring='f1'):\n",
    "    print scoring + ' cross validation score: ' + str(np.mean(cross_val_score(rf, X, y, cv=cv, scoring=scoring)))\n",
    "    \n",
    "def combine_and_balance_dfs(df1, df2, minority_fraction=0.5, ignore_index=True):\n",
    "    if df1.shape[0] > df2.shape[0]:\n",
    "        df1, df2 = df2, df1\n",
    "    m = int(df1.shape[0]*(1.0/minority_fraction - 1))\n",
    "    if m > df2.shape[0]:\n",
    "        print 'majority df too small to achieve desired minority fraction'\n",
    "        m = df2.shape[0]\n",
    "    return df1.append(df2.sample(m), ignore_index=ignore_index)\n",
    "\n",
    "def balance_train_index(X_train, y_train):\n",
    "    pos_index = y_train[y_train == 1].index\n",
    "    neg_index = y_train[y_train == 0].index\n",
    "    reduced_neg_index = np.random.choice(neg_index, pos_index.shape[0], replace=False)\n",
    "    b_index = pos_index.tolist() + reduced_neg_index.tolist()\n",
    "    return X_train.ix[b_index], y_train.ix[b_index]\n",
    "\n",
    "#Balances training split but not testing split\n",
    "def balanced_train_test_split(X, y, test_size=0.5):\n",
    "    X_train, X_test, y_train, y_test = train_test_split(X, y, test_size=test_size)\n",
    "    X_train, y_train = balance_train_index(X_train, y_train)\n",
    "    return X_train, X_test, y_train, y_test\n",
    "\n",
    "def plot_multiple_precision_recall_curves(y_true, y_pred_probas, baseline=0):\n",
    "    plt.clf();\n",
    "    n_rows = len(y_true)/2 if len(y_true) % 2 == 0 else len(y_true)/2 + 1\n",
    "    fig, axes = plt.subplots(n_rows, 2, figsize=(20,20))\n",
    "    for ax, tup in zip(axes.flatten(), zip(y_true, y_pred_probas)):\n",
    "        yt, yp = tup   \n",
    "        precision, recall, _ = precision_recall_curve(yt, yp)\n",
    "        avg_precision = average_precision_score(yt, yp)\n",
    "        ax.plot(recall, precision, color='navy', label='Naive Bayes');\n",
    "        ax.plot([0, 1], [baseline, baseline], linestyle='--', label='Baseline')\n",
    "        ax.set_xlabel('Recall')\n",
    "        ax.set_ylabel('Precision')\n",
    "        ax.set_ylim([0.0, 1.05])\n",
    "        ax.set_xlim([0.0, 1.0])\n",
    "        ax.set_title('Area Under Curve={0:0.2f}'.format(avg_precision))\n",
    "        ax.legend(loc=\"lower left\")\n",
    "    plt.show();\n",
    "\n",
    "def cross_val_pr_curve(classifier, X, y, n_splits=4, baseline=0, balance=False):\n",
    "    plt.clf()\n",
    "    plt.figure(figsize=(8,6));\n",
    "\n",
    "    splits = StratifiedKFold(n_splits=n_splits, shuffle=True).split(X, y)\n",
    "    AUCs = []\n",
    "    \n",
    "    for (train, test) in splits:\n",
    "        X_train, X_test = X.ix[train], X.ix[test]\n",
    "        y_train, y_test = y.ix[train], y.ix[test]\n",
    "        if balance:\n",
    "            X_train, y_train = balance_train_index(X_train, y_train)\n",
    "        probas_ = classifier.fit(X_train, y_train).predict_proba(X_test)\n",
    "        # Compute ROC curve and area the curve\n",
    "        precision, recall, _ = precision_recall_curve(y_test, probas_[:, 1])\n",
    "        AUCs.append(average_precision_score(y_test, probas_[:, 1]))\n",
    "        plt.plot(recall, precision, color='navy', label='Precision-Recall curve');\n",
    "        \n",
    "    plt.plot([0, 1], [baseline, baseline], linestyle='--', label='Baseline')\n",
    "    plt.xlabel('Recall')\n",
    "    plt.ylabel('Precision')\n",
    "    plt.ylim([0.0, 1.05])\n",
    "    plt.xlim([0.0, 1.0])\n",
    "    plt.title('Area Under Curve={0:0.2f}'.format(np.mean(AUCs)))\n",
    "    plt.legend(loc=\"lower left\")\n",
    "    plt.show();\n",
    "    \n",
    "def plot_precision_recall_curve(y_true, y_pred_probas, baseline=0):\n",
    "    plt.clf();\n",
    "    plt.figure(figsize=(12,8));\n",
    "    precision, recall, _ = precision_recall_curve(y_true, y_pred_probas)\n",
    "    avg_precision = average_precision_score(y_true, y_pred_probas)\n",
    "    plt.plot(recall, precision, color='navy', label='Naive Bayes PR Curve');\n",
    "#     plt.plot([0, 1], [baseline, baseline], linestyle='--', label='Baseline')\n",
    "    plt.xlabel('Recall', fontsize=27)\n",
    "    plt.ylabel('Precision', fontsize=27)\n",
    "    plt.ylim([0.0, 1.05])\n",
    "    plt.xlim([0.0, 1.0])\n",
    "    plt.title('Area Under Curve={0:0.2f}'.format(avg_precision), fontsize=27)\n",
    "    plt.legend(loc=\"lower left\")\n",
    "    plt.savefig(\"nb_pr_curve.pdf\")\n",
    "    plt.show();\n",
    "\n",
    "def rebalance_df(df, minority_fraction=0.5):\n",
    "    pos_df = df[df['allergen'] == 1]\n",
    "    neg_df = df[df['allergen'] == 0]\n",
    "    return combine_and_balance_dfs(pos_df, neg_df, minority_fraction=minority_fraction)\n",
    "\n",
    "def df_ratio(df):\n",
    "    return df[df['allergen'] == 1].shape[0]*1.0/df.shape[0]"
   ]
  },
  {
   "cell_type": "code",
   "execution_count": 2,
   "metadata": {
    "collapsed": false,
    "scrolled": true
   },
   "outputs": [],
   "source": [
    "with open('pickles/full_ABT_df.pkl', 'r') as fin:\n",
    "    df = pickle.load(fin)"
   ]
  },
  {
   "cell_type": "code",
   "execution_count": 3,
   "metadata": {
    "collapsed": false
   },
   "outputs": [],
   "source": [
    "percents = [0.004, 0.007, 0.01, 0.05, 0.2, 0.4, 0.5]\n",
    "percent_dfs = []\n",
    "for p in percents:\n",
    "    percent_dfs.append(rebalance_df(df, minority_fraction=p))\n",
    "\n",
    "sdf = df.sample(50000).reset_index(drop=True)"
   ]
  },
  {
   "cell_type": "code",
   "execution_count": 4,
   "metadata": {
    "collapsed": false,
    "scrolled": true
   },
   "outputs": [
    {
     "name": "stdout",
     "output_type": "stream",
     "text": [
      "0.00217825463177\n",
      "0.00224\n",
      "0.004\n",
      "0.00700002297601\n",
      "0.01\n",
      "0.05\n",
      "0.2\n",
      "0.4\n",
      "0.5\n"
     ]
    }
   ],
   "source": [
    "print df_ratio(df)\n",
    "print df_ratio(sdf)\n",
    "for percent_df in percent_dfs:\n",
    "    print df_ratio(percent_df)"
   ]
  },
  {
   "cell_type": "code",
   "execution_count": 18,
   "metadata": {
    "collapsed": false
   },
   "outputs": [
    {
     "name": "stdout",
     "output_type": "stream",
     "text": [
      "914 419602 0.00225 99.78\n"
     ]
    }
   ],
   "source": [
    "print df[df['allergen'] == 1].shape[0], df.shape[0], 900.0/400000, 100-0.22"
   ]
  },
  {
   "cell_type": "markdown",
   "metadata": {},
   "source": [
    "## balanced versus unbalanced training"
   ]
  },
  {
   "cell_type": "code",
   "execution_count": 5,
   "metadata": {
    "collapsed": true
   },
   "outputs": [],
   "source": [
    "class TfidfVectorizerPlus:\n",
    "    def __init__(self, ngram_range=(1,3)):\n",
    "        self.vectorizer = TfidfVectorizer(analyzer='char', ngram_range=ngram_range)\n",
    "        \n",
    "    def fit_transform(self, X, y):\n",
    "        self.fit(X, y)\n",
    "        return self.transform(X)\n",
    "\n",
    "    def fit(self, X, y):\n",
    "        self.vectorizer.fit(X['sequence'].copy())\n",
    "\n",
    "    def transform(self, X):\n",
    "        tfidf = pd.DataFrame(self.vectorizer.transform(X['sequence'].copy()).toarray())\n",
    "        return pd.concat([pd.DataFrame(X.drop('sequence', axis=1).as_matrix())\n",
    "                          ,tfidf], axis=1)\n",
    "        "
   ]
  },
  {
   "cell_type": "code",
   "execution_count": 6,
   "metadata": {
    "collapsed": false,
    "scrolled": true
   },
   "outputs": [],
   "source": [
    "rf = RandomForestClassifier()\n",
    "svc = SVC(probability=True)\n",
    "lr = LogisticRegressionCV()\n",
    "\n",
    "gb = GradientBoostingClassifier(n_estimators=100, learning_rate=0.1, max_depth=5, min_samples_leaf=17)\n",
    "\n",
    "gb_tfidf = Pipeline([('vect', TfidfVectorizerPlus(ngram_range=(1,2))), \n",
    "                     ('gb', gb)])\n",
    "\n",
    "gb_tfidf_no_features = Pipeline([('vect', TfidfVectorizer(analyzer='char', ngram_range=(1,1))), \n",
    "                       ('gb', gb)])\n",
    "\n",
    "rf_tfidf = Pipeline([('vect', TfidfVectorizerPlus(ngram_range=(2,2))), \n",
    "                     ('rf', rf)])\n",
    "\n",
    "rf_tfidf_no_features = Pipeline([('vect', TfidfVectorizer(analyzer='char', ngram_range=(1,2))), \n",
    "                       ('rf', rf)])\n",
    "\n",
    "svc_tfidf = Pipeline([('vect', TfidfVectorizerPlus(ngram_range=(1,2))), \n",
    "                     ('svc', svc)])\n",
    "\n",
    "lr_tfidf = Pipeline([('vect', TfidfVectorizerPlus(ngram_range=(1,4))), \n",
    "                     ('lr', lr)])\n",
    "\n",
    "#class_prior=(1 - df_ratio(df), df_ratio(df))\n",
    "nb = Pipeline([('vect', TfidfVectorizer(analyzer='char', ngram_range=(4,5))), \n",
    "               ('nb', MultinomialNB(class_prior=(1 - df_ratio(df), df_ratio(df))))])\n",
    "\n",
    "\n",
    "def evaluate_models(tests, classifiers, balance=False):\n",
    "    for X, y, m in tests:\n",
    "        for bal in list(balance):\n",
    "            for clf in classifiers:\n",
    "                print '\\n\\n', m\n",
    "                print 'balanced training data: ', str(bal)\n",
    "                print str(clf).split('(')[0]\n",
    "                if bal:\n",
    "                    X_train, X_test, y_train, y_test = balanced_train_test_split(X, y, test_size=.25)\n",
    "                else:\n",
    "                    X_train, X_test, y_train, y_test = train_test_split(X, y, test_size=.25)\n",
    "                clf.fit(X_train, y_train)\n",
    "                y_pred = clf.predict(X_test)\n",
    "                y_pred_proba = clf.predict_proba(X_test)\n",
    "                print 'f1 score: ', f1_score(y_test, y_pred)\n",
    "                print 'allergens in y_test and y_pred: ', sum(y_test), sum(y_pred)\n",
    "                plot_precision_recall_curve(y_test, y_pred_proba[:, 1], baseline=m[0])\n",
    "#                 cross_val_pr_curve(clf, X, y, baseline=m[0], balance=bal)\n",
    "#                 cross_val_roc(clf, X, y, balance=bal)\n",
    "                print '\\n\\n'"
   ]
  },
  {
   "cell_type": "markdown",
   "metadata": {},
   "source": [
    "### dropping aa frequencies significantly decreases performance for GB"
   ]
  },
  {
   "cell_type": "code",
   "execution_count": 8,
   "metadata": {
    "collapsed": true
   },
   "outputs": [
    {
     "name": "stdout",
     "output_type": "stream",
     "text": [
      "\n",
      "\n",
      "('0.00217825463177', 'df')\n",
      "balanced training data:  False\n",
      "GradientBoostingClassifier\n",
      "f1 score:  0.00778210116732\n",
      "allergens in y_test and y_pred:  237 20\n"
     ]
    },
    {
     "data": {
      "text/plain": [
       "<matplotlib.figure.Figure at 0x11e8b0c50>"
      ]
     },
     "metadata": {},
     "output_type": "display_data"
    },
    {
     "data": {
      "image/png": "[encoded data removed]",
      "text/plain": [
       "<matplotlib.figure.Figure at 0x1179eb150>"
      ]
     },
     "metadata": {},
     "output_type": "display_data"
    },
    {
     "name": "stdout",
     "output_type": "stream",
     "text": [
      "\n",
      "\n",
      "\n"
     ]
    }
   ],
   "source": [
    "# X = df[[u'gravy', u'sheet', u'isoelectric_point', u'turn', u'helix', u'aromaticity']].copy()\n",
    "X = df.drop(['sequence','allergen'], axis=1)\n",
    "y = df['allergen'].copy()\n",
    "m = (str(df_ratio(df)), 'df')\n",
    "classifiers = [gb]\n",
    "tests = [(X, y, m)]\n",
    "evaluate_models(tests, classifiers, balance=[False])"
   ]
  },
  {
   "cell_type": "markdown",
   "metadata": {},
   "source": [
    "### rf versus rf_tfidf versus rf_tfidf_no_features"
   ]
  },
  {
   "cell_type": "code",
   "execution_count": 14,
   "metadata": {
    "collapsed": true
   },
   "outputs": [
    {
     "name": "stdout",
     "output_type": "stream",
     "text": [
      "\n",
      "\n",
      "('0.00217825463177', 'df')\n",
      "balanced training data:  False\n",
      "RandomForestClassifier\n",
      "f1 score:  0.0779220779221\n",
      "allergens in y_test and y_pred:  219 12\n"
     ]
    },
    {
     "data": {
      "text/plain": [
       "<matplotlib.figure.Figure at 0x115065890>"
      ]
     },
     "metadata": {},
     "output_type": "display_data"
    },
    {
     "data": {
      "image/png": "[encoded data removed]",
      "text/plain": [
       "<matplotlib.figure.Figure at 0x124a84c90>"
      ]
     },
     "metadata": {},
     "output_type": "display_data"
    },
    {
     "name": "stdout",
     "output_type": "stream",
     "text": [
      "\n",
      "\n",
      "\n"
     ]
    }
   ],
   "source": [
    "X = df.drop(['sequence','allergen'], axis=1)\n",
    "y = df['allergen'].copy()\n",
    "m = (str(df_ratio(df)), 'df')\n",
    "classifiers = [rf]\n",
    "tests = [(X, y, m)]\n",
    "evaluate_models(tests, classifiers, balance=[False])"
   ]
  },
  {
   "cell_type": "code",
   "execution_count": 79,
   "metadata": {
    "collapsed": true
   },
   "outputs": [
    {
     "name": "stdout",
     "output_type": "stream",
     "text": [
      "\n",
      "\n",
      "('0.00283653147693', 'df')\n",
      "balanced training data:  False\n",
      "Pipeline\n",
      "f1 score:  0.289215686275\n",
      "allergens in y_test and y_pred:  344 64\n"
     ]
    },
    {
     "data": {
      "text/plain": [
       "<matplotlib.figure.Figure at 0x129262790>"
      ]
     },
     "metadata": {},
     "output_type": "display_data"
    },
    {
     "data": {
      "image/png": "[encoded data removed]",
      "text/plain": [
       "<matplotlib.figure.Figure at 0x12924c810>"
      ]
     },
     "metadata": {},
     "output_type": "display_data"
    },
    {
     "name": "stdout",
     "output_type": "stream",
     "text": [
      "\n",
      "\n",
      "\n"
     ]
    }
   ],
   "source": [
    "X = df.drop(['allergen'], axis=1)\n",
    "y = df['allergen'].copy()\n",
    "m = (str(df_ratio(df)), 'df')\n",
    "classifiers = [rf_tfidf]\n",
    "tests = [(X, y, m)]\n",
    "evaluate_models(tests, classifiers, balance=[False])"
   ]
  },
  {
   "cell_type": "code",
   "execution_count": 80,
   "metadata": {
    "collapsed": true
   },
   "outputs": [
    {
     "name": "stdout",
     "output_type": "stream",
     "text": [
      "\n",
      "\n",
      "('0.00283653147693', 'df')\n",
      "balanced training data:  False\n",
      "Pipeline\n",
      "f1 score:  0.244444444444\n",
      "allergens in y_test and y_pred:  313 47\n"
     ]
    },
    {
     "data": {
      "text/plain": [
       "<matplotlib.figure.Figure at 0x129261dd0>"
      ]
     },
     "metadata": {},
     "output_type": "display_data"
    },
    {
     "data": {
      "image/png": "[encoded data removed]",
      "text/plain": [
       "<matplotlib.figure.Figure at 0x15a57e590>"
      ]
     },
     "metadata": {},
     "output_type": "display_data"
    },
    {
     "name": "stdout",
     "output_type": "stream",
     "text": [
      "\n",
      "\n",
      "\n"
     ]
    }
   ],
   "source": [
    "X = df['sequence'].copy()\n",
    "y = df['allergen'].copy()\n",
    "m = (str(df_ratio(df)), 'df')\n",
    "classifiers = [rf_tfidf_no_features]\n",
    "tests = [(X, y, m)]\n",
    "evaluate_models(tests, classifiers, balance=[False])"
   ]
  },
  {
   "cell_type": "markdown",
   "metadata": {},
   "source": [
    "### naive bayes performs best with "
   ]
  },
  {
   "cell_type": "code",
   "execution_count": null,
   "metadata": {
    "collapsed": false
   },
   "outputs": [],
   "source": []
  },
  {
   "cell_type": "code",
   "execution_count": 25,
   "metadata": {
    "collapsed": false,
    "scrolled": false
   },
   "outputs": [
    {
     "name": "stdout",
     "output_type": "stream",
     "text": [
      "(4, 5)\n",
      "\n",
      "\n",
      "('0.00217825463177', 'sdf')\n",
      "balanced training data:  True\n",
      "Pipeline\n",
      "f1 score:  0.0515717803853\n",
      "allergens in y_test and y_pred:  212 6691\n"
     ]
    },
    {
     "data": {
      "text/plain": [
       "<matplotlib.figure.Figure at 0x103f00d90>"
      ]
     },
     "metadata": {},
     "output_type": "display_data"
    },
    {
     "data": {
      "image/png": "[encoded data removed]",
      "text/plain": [
       "<matplotlib.figure.Figure at 0x116c43f90>"
      ]
     },
     "metadata": {},
     "output_type": "display_data"
    },
    {
     "name": "stdout",
     "output_type": "stream",
     "text": [
      "\n",
      "\n",
      "\n"
     ]
    }
   ],
   "source": [
    "# for i in range(3):\n",
    "sdf = df.sample(1000).reset_index(drop=True)\n",
    "for r in [(4,5)]:\n",
    "    print r\n",
    "    nb = Pipeline([('vect', TfidfVectorizer(analyzer='char', ngram_range=r)), \n",
    "       ('nb', MultinomialNB())])\n",
    "    X = df['sequence'].copy()\n",
    "    y = df['allergen'].copy()\n",
    "    m = (str(df_ratio(df)), 'sdf')\n",
    "    classifiers = [nb]\n",
    "    tests = [(X, y, m)]\n",
    "    evaluate_models(tests, classifiers, balance=[True])"
   ]
  },
  {
   "cell_type": "markdown",
   "metadata": {},
   "source": [
    "### SVM"
   ]
  },
  {
   "cell_type": "code",
   "execution_count": 10,
   "metadata": {
    "collapsed": true
   },
   "outputs": [
    {
     "name": "stdout",
     "output_type": "stream",
     "text": [
      "\n",
      "\n",
      "('0.00283653147693', 'df')\n",
      "balanced training data:  True\n",
      "Pipeline\n"
     ]
    },
    {
     "ename": "KeyboardInterrupt",
     "evalue": "",
     "output_type": "error",
     "traceback": [
      "\u001b[0;31m---------------------------------------------------------------------------\u001b[0m",
      "\u001b[0;31mKeyboardInterrupt\u001b[0m                         Traceback (most recent call last)",
      "\u001b[0;32m<ipython-input-10-526fd34f7121>\u001b[0m in \u001b[0;36m<module>\u001b[0;34m()\u001b[0m\n\u001b[1;32m      4\u001b[0m \u001b[0mclassifiers\u001b[0m \u001b[0;34m=\u001b[0m \u001b[0;34m[\u001b[0m\u001b[0msvc_tfidf\u001b[0m\u001b[0;34m]\u001b[0m\u001b[0;34m\u001b[0m\u001b[0m\n\u001b[1;32m      5\u001b[0m \u001b[0mtests\u001b[0m \u001b[0;34m=\u001b[0m \u001b[0;34m[\u001b[0m\u001b[0;34m(\u001b[0m\u001b[0mX\u001b[0m\u001b[0;34m,\u001b[0m \u001b[0my\u001b[0m\u001b[0;34m,\u001b[0m \u001b[0mm\u001b[0m\u001b[0;34m)\u001b[0m\u001b[0;34m]\u001b[0m\u001b[0;34m\u001b[0m\u001b[0m\n\u001b[0;32m----> 6\u001b[0;31m \u001b[0mevaluate_models\u001b[0m\u001b[0;34m(\u001b[0m\u001b[0mtests\u001b[0m\u001b[0;34m,\u001b[0m \u001b[0mclassifiers\u001b[0m\u001b[0;34m,\u001b[0m \u001b[0mbalance\u001b[0m\u001b[0;34m=\u001b[0m\u001b[0;34m[\u001b[0m\u001b[0mTrue\u001b[0m\u001b[0;34m,\u001b[0m \u001b[0mFalse\u001b[0m\u001b[0;34m]\u001b[0m\u001b[0;34m)\u001b[0m\u001b[0;34m\u001b[0m\u001b[0m\n\u001b[0m",
      "\u001b[0;32m<ipython-input-7-081dcd8eaf3b>\u001b[0m in \u001b[0;36mevaluate_models\u001b[0;34m(tests, classifiers, balance)\u001b[0m\n\u001b[1;32m     40\u001b[0m                     \u001b[0mX_train\u001b[0m\u001b[0;34m,\u001b[0m \u001b[0mX_test\u001b[0m\u001b[0;34m,\u001b[0m \u001b[0my_train\u001b[0m\u001b[0;34m,\u001b[0m \u001b[0my_test\u001b[0m \u001b[0;34m=\u001b[0m \u001b[0mtrain_test_split\u001b[0m\u001b[0;34m(\u001b[0m\u001b[0mX\u001b[0m\u001b[0;34m,\u001b[0m \u001b[0my\u001b[0m\u001b[0;34m,\u001b[0m \u001b[0mtest_size\u001b[0m\u001b[0;34m=\u001b[0m\u001b[0;36m.25\u001b[0m\u001b[0;34m)\u001b[0m\u001b[0;34m\u001b[0m\u001b[0m\n\u001b[1;32m     41\u001b[0m                 \u001b[0mclf\u001b[0m\u001b[0;34m.\u001b[0m\u001b[0mfit\u001b[0m\u001b[0;34m(\u001b[0m\u001b[0mX_train\u001b[0m\u001b[0;34m,\u001b[0m \u001b[0my_train\u001b[0m\u001b[0;34m)\u001b[0m\u001b[0;34m\u001b[0m\u001b[0m\n\u001b[0;32m---> 42\u001b[0;31m                 \u001b[0my_pred\u001b[0m \u001b[0;34m=\u001b[0m \u001b[0mclf\u001b[0m\u001b[0;34m.\u001b[0m\u001b[0mpredict\u001b[0m\u001b[0;34m(\u001b[0m\u001b[0mX_test\u001b[0m\u001b[0;34m)\u001b[0m\u001b[0;34m\u001b[0m\u001b[0m\n\u001b[0m\u001b[1;32m     43\u001b[0m                 \u001b[0my_pred_proba\u001b[0m \u001b[0;34m=\u001b[0m \u001b[0mclf\u001b[0m\u001b[0;34m.\u001b[0m\u001b[0mpredict_proba\u001b[0m\u001b[0;34m(\u001b[0m\u001b[0mX_test\u001b[0m\u001b[0;34m)\u001b[0m\u001b[0;34m\u001b[0m\u001b[0m\n\u001b[1;32m     44\u001b[0m                 \u001b[0;32mprint\u001b[0m \u001b[0;34m'f1 score: '\u001b[0m\u001b[0;34m,\u001b[0m \u001b[0mf1_score\u001b[0m\u001b[0;34m(\u001b[0m\u001b[0my_test\u001b[0m\u001b[0;34m,\u001b[0m \u001b[0my_pred\u001b[0m\u001b[0;34m)\u001b[0m\u001b[0;34m\u001b[0m\u001b[0m\n",
      "\u001b[0;32m/Users/Jake1/anaconda/lib/python2.7/site-packages/sklearn/utils/metaestimators.pyc\u001b[0m in \u001b[0;36m<lambda>\u001b[0;34m(*args, **kwargs)\u001b[0m\n\u001b[1;32m     52\u001b[0m \u001b[0;34m\u001b[0m\u001b[0m\n\u001b[1;32m     53\u001b[0m         \u001b[0;31m# lambda, but not partial, allows help() to work with update_wrapper\u001b[0m\u001b[0;34m\u001b[0m\u001b[0;34m\u001b[0m\u001b[0m\n\u001b[0;32m---> 54\u001b[0;31m         \u001b[0mout\u001b[0m \u001b[0;34m=\u001b[0m \u001b[0;32mlambda\u001b[0m \u001b[0;34m*\u001b[0m\u001b[0margs\u001b[0m\u001b[0;34m,\u001b[0m \u001b[0;34m**\u001b[0m\u001b[0mkwargs\u001b[0m\u001b[0;34m:\u001b[0m \u001b[0mself\u001b[0m\u001b[0;34m.\u001b[0m\u001b[0mfn\u001b[0m\u001b[0;34m(\u001b[0m\u001b[0mobj\u001b[0m\u001b[0;34m,\u001b[0m \u001b[0;34m*\u001b[0m\u001b[0margs\u001b[0m\u001b[0;34m,\u001b[0m \u001b[0;34m**\u001b[0m\u001b[0mkwargs\u001b[0m\u001b[0;34m)\u001b[0m\u001b[0;34m\u001b[0m\u001b[0m\n\u001b[0m\u001b[1;32m     55\u001b[0m         \u001b[0;31m# update the docstring of the returned function\u001b[0m\u001b[0;34m\u001b[0m\u001b[0;34m\u001b[0m\u001b[0m\n\u001b[1;32m     56\u001b[0m         \u001b[0mupdate_wrapper\u001b[0m\u001b[0;34m(\u001b[0m\u001b[0mout\u001b[0m\u001b[0;34m,\u001b[0m \u001b[0mself\u001b[0m\u001b[0;34m.\u001b[0m\u001b[0mfn\u001b[0m\u001b[0;34m)\u001b[0m\u001b[0;34m\u001b[0m\u001b[0m\n",
      "\u001b[0;32m/Users/Jake1/anaconda/lib/python2.7/site-packages/sklearn/pipeline.pyc\u001b[0m in \u001b[0;36mpredict\u001b[0;34m(self, X)\u001b[0m\n\u001b[1;32m    325\u001b[0m             \u001b[0;32mif\u001b[0m \u001b[0mtransform\u001b[0m \u001b[0;32mis\u001b[0m \u001b[0;32mnot\u001b[0m \u001b[0mNone\u001b[0m\u001b[0;34m:\u001b[0m\u001b[0;34m\u001b[0m\u001b[0m\n\u001b[1;32m    326\u001b[0m                 \u001b[0mXt\u001b[0m \u001b[0;34m=\u001b[0m \u001b[0mtransform\u001b[0m\u001b[0;34m.\u001b[0m\u001b[0mtransform\u001b[0m\u001b[0;34m(\u001b[0m\u001b[0mXt\u001b[0m\u001b[0;34m)\u001b[0m\u001b[0;34m\u001b[0m\u001b[0m\n\u001b[0;32m--> 327\u001b[0;31m         \u001b[0;32mreturn\u001b[0m \u001b[0mself\u001b[0m\u001b[0;34m.\u001b[0m\u001b[0msteps\u001b[0m\u001b[0;34m[\u001b[0m\u001b[0;34m-\u001b[0m\u001b[0;36m1\u001b[0m\u001b[0;34m]\u001b[0m\u001b[0;34m[\u001b[0m\u001b[0;34m-\u001b[0m\u001b[0;36m1\u001b[0m\u001b[0;34m]\u001b[0m\u001b[0;34m.\u001b[0m\u001b[0mpredict\u001b[0m\u001b[0;34m(\u001b[0m\u001b[0mXt\u001b[0m\u001b[0;34m)\u001b[0m\u001b[0;34m\u001b[0m\u001b[0m\n\u001b[0m\u001b[1;32m    328\u001b[0m \u001b[0;34m\u001b[0m\u001b[0m\n\u001b[1;32m    329\u001b[0m     \u001b[0;34m@\u001b[0m\u001b[0mif_delegate_has_method\u001b[0m\u001b[0;34m(\u001b[0m\u001b[0mdelegate\u001b[0m\u001b[0;34m=\u001b[0m\u001b[0;34m'_final_estimator'\u001b[0m\u001b[0;34m)\u001b[0m\u001b[0;34m\u001b[0m\u001b[0m\n",
      "\u001b[0;32m/Users/Jake1/anaconda/lib/python2.7/site-packages/sklearn/svm/base.pyc\u001b[0m in \u001b[0;36mpredict\u001b[0;34m(self, X)\u001b[0m\n\u001b[1;32m    571\u001b[0m             \u001b[0mClass\u001b[0m \u001b[0mlabels\u001b[0m \u001b[0;32mfor\u001b[0m \u001b[0msamples\u001b[0m \u001b[0;32min\u001b[0m \u001b[0mX\u001b[0m\u001b[0;34m.\u001b[0m\u001b[0;34m\u001b[0m\u001b[0m\n\u001b[1;32m    572\u001b[0m         \"\"\"\n\u001b[0;32m--> 573\u001b[0;31m         \u001b[0my\u001b[0m \u001b[0;34m=\u001b[0m \u001b[0msuper\u001b[0m\u001b[0;34m(\u001b[0m\u001b[0mBaseSVC\u001b[0m\u001b[0;34m,\u001b[0m \u001b[0mself\u001b[0m\u001b[0;34m)\u001b[0m\u001b[0;34m.\u001b[0m\u001b[0mpredict\u001b[0m\u001b[0;34m(\u001b[0m\u001b[0mX\u001b[0m\u001b[0;34m)\u001b[0m\u001b[0;34m\u001b[0m\u001b[0m\n\u001b[0m\u001b[1;32m    574\u001b[0m         \u001b[0;32mreturn\u001b[0m \u001b[0mself\u001b[0m\u001b[0;34m.\u001b[0m\u001b[0mclasses_\u001b[0m\u001b[0;34m.\u001b[0m\u001b[0mtake\u001b[0m\u001b[0;34m(\u001b[0m\u001b[0mnp\u001b[0m\u001b[0;34m.\u001b[0m\u001b[0masarray\u001b[0m\u001b[0;34m(\u001b[0m\u001b[0my\u001b[0m\u001b[0;34m,\u001b[0m \u001b[0mdtype\u001b[0m\u001b[0;34m=\u001b[0m\u001b[0mnp\u001b[0m\u001b[0;34m.\u001b[0m\u001b[0mintp\u001b[0m\u001b[0;34m)\u001b[0m\u001b[0;34m)\u001b[0m\u001b[0;34m\u001b[0m\u001b[0m\n\u001b[1;32m    575\u001b[0m \u001b[0;34m\u001b[0m\u001b[0m\n",
      "\u001b[0;32m/Users/Jake1/anaconda/lib/python2.7/site-packages/sklearn/svm/base.pyc\u001b[0m in \u001b[0;36mpredict\u001b[0;34m(self, X)\u001b[0m\n\u001b[1;32m    310\u001b[0m         \u001b[0mX\u001b[0m \u001b[0;34m=\u001b[0m \u001b[0mself\u001b[0m\u001b[0;34m.\u001b[0m\u001b[0m_validate_for_predict\u001b[0m\u001b[0;34m(\u001b[0m\u001b[0mX\u001b[0m\u001b[0;34m)\u001b[0m\u001b[0;34m\u001b[0m\u001b[0m\n\u001b[1;32m    311\u001b[0m         \u001b[0mpredict\u001b[0m \u001b[0;34m=\u001b[0m \u001b[0mself\u001b[0m\u001b[0;34m.\u001b[0m\u001b[0m_sparse_predict\u001b[0m \u001b[0;32mif\u001b[0m \u001b[0mself\u001b[0m\u001b[0;34m.\u001b[0m\u001b[0m_sparse\u001b[0m \u001b[0;32melse\u001b[0m \u001b[0mself\u001b[0m\u001b[0;34m.\u001b[0m\u001b[0m_dense_predict\u001b[0m\u001b[0;34m\u001b[0m\u001b[0m\n\u001b[0;32m--> 312\u001b[0;31m         \u001b[0;32mreturn\u001b[0m \u001b[0mpredict\u001b[0m\u001b[0;34m(\u001b[0m\u001b[0mX\u001b[0m\u001b[0;34m)\u001b[0m\u001b[0;34m\u001b[0m\u001b[0m\n\u001b[0m\u001b[1;32m    313\u001b[0m \u001b[0;34m\u001b[0m\u001b[0m\n\u001b[1;32m    314\u001b[0m     \u001b[0;32mdef\u001b[0m \u001b[0m_dense_predict\u001b[0m\u001b[0;34m(\u001b[0m\u001b[0mself\u001b[0m\u001b[0;34m,\u001b[0m \u001b[0mX\u001b[0m\u001b[0;34m)\u001b[0m\u001b[0;34m:\u001b[0m\u001b[0;34m\u001b[0m\u001b[0m\n",
      "\u001b[0;32m/Users/Jake1/anaconda/lib/python2.7/site-packages/sklearn/svm/base.pyc\u001b[0m in \u001b[0;36m_dense_predict\u001b[0;34m(self, X)\u001b[0m\n\u001b[1;32m    333\u001b[0m             \u001b[0mself\u001b[0m\u001b[0;34m.\u001b[0m\u001b[0mprobA_\u001b[0m\u001b[0;34m,\u001b[0m \u001b[0mself\u001b[0m\u001b[0;34m.\u001b[0m\u001b[0mprobB_\u001b[0m\u001b[0;34m,\u001b[0m \u001b[0msvm_type\u001b[0m\u001b[0;34m=\u001b[0m\u001b[0msvm_type\u001b[0m\u001b[0;34m,\u001b[0m \u001b[0mkernel\u001b[0m\u001b[0;34m=\u001b[0m\u001b[0mkernel\u001b[0m\u001b[0;34m,\u001b[0m\u001b[0;34m\u001b[0m\u001b[0m\n\u001b[1;32m    334\u001b[0m             \u001b[0mdegree\u001b[0m\u001b[0;34m=\u001b[0m\u001b[0mself\u001b[0m\u001b[0;34m.\u001b[0m\u001b[0mdegree\u001b[0m\u001b[0;34m,\u001b[0m \u001b[0mcoef0\u001b[0m\u001b[0;34m=\u001b[0m\u001b[0mself\u001b[0m\u001b[0;34m.\u001b[0m\u001b[0mcoef0\u001b[0m\u001b[0;34m,\u001b[0m \u001b[0mgamma\u001b[0m\u001b[0;34m=\u001b[0m\u001b[0mself\u001b[0m\u001b[0;34m.\u001b[0m\u001b[0m_gamma\u001b[0m\u001b[0;34m,\u001b[0m\u001b[0;34m\u001b[0m\u001b[0m\n\u001b[0;32m--> 335\u001b[0;31m             cache_size=self.cache_size)\n\u001b[0m\u001b[1;32m    336\u001b[0m \u001b[0;34m\u001b[0m\u001b[0m\n\u001b[1;32m    337\u001b[0m     \u001b[0;32mdef\u001b[0m \u001b[0m_sparse_predict\u001b[0m\u001b[0;34m(\u001b[0m\u001b[0mself\u001b[0m\u001b[0;34m,\u001b[0m \u001b[0mX\u001b[0m\u001b[0;34m)\u001b[0m\u001b[0;34m:\u001b[0m\u001b[0;34m\u001b[0m\u001b[0m\n",
      "\u001b[0;31mKeyboardInterrupt\u001b[0m: "
     ]
    }
   ],
   "source": [
    "X = sdf.drop(['allergen'], axis=1)\n",
    "y = sdf['allergen'].copy()\n",
    "m = (str(df_ratio(df)), 'df')\n",
    "classifiers = [svc_tfidf]\n",
    "tests = [(X, y, m)]\n",
    "evaluate_models(tests, classifiers, balance=[True, False])"
   ]
  },
  {
   "cell_type": "code",
   "execution_count": null,
   "metadata": {
    "collapsed": false
   },
   "outputs": [],
   "source": []
  },
  {
   "cell_type": "markdown",
   "metadata": {},
   "source": [
    "### LR"
   ]
  },
  {
   "cell_type": "code",
   "execution_count": 44,
   "metadata": {
    "collapsed": true
   },
   "outputs": [
    {
     "name": "stdout",
     "output_type": "stream",
     "text": [
      "\n",
      "\n",
      "('0.00217825463177', 'df')\n",
      "balanced training data:  False\n",
      "LogisticRegressionCV\n",
      "f1 score:  0.0\n",
      "allergens in y_test and y_pred:  204 1\n"
     ]
    },
    {
     "data": {
      "text/plain": [
       "<matplotlib.figure.Figure at 0x115bf4050>"
      ]
     },
     "metadata": {},
     "output_type": "display_data"
    },
    {
     "data": {
      "image/png": "[encoded data removed]",
      "text/plain": [
       "<matplotlib.figure.Figure at 0x119828dd0>"
      ]
     },
     "metadata": {},
     "output_type": "display_data"
    },
    {
     "name": "stdout",
     "output_type": "stream",
     "text": [
      "\n",
      "\n",
      "\n"
     ]
    }
   ],
   "source": [
    "X = df.drop(['sequence','allergen'], axis=1)\n",
    "y = df['allergen'].copy()\n",
    "m = (str(df_ratio(df)), 'df')\n",
    "classifiers = [lr]\n",
    "tests = [(X, y, m)]\n",
    "evaluate_models(tests, classifiers, balance=[False])"
   ]
  },
  {
   "cell_type": "code",
   "execution_count": null,
   "metadata": {
    "collapsed": true
   },
   "outputs": [],
   "source": []
  },
  {
   "cell_type": "markdown",
   "metadata": {},
   "source": [
    "## Semi-Supervised Learning"
   ]
  },
  {
   "cell_type": "markdown",
   "metadata": {},
   "source": [
    "### One class SVM"
   ]
  },
  {
   "cell_type": "code",
   "execution_count": 74,
   "metadata": {
    "collapsed": true
   },
   "outputs": [
    {
     "name": "stdout",
     "output_type": "stream",
     "text": [
      "training size:  779\n",
      "train error proportion:  0.500641848524\n",
      "unlabeled positive proportion:  0.579737604687\n",
      "             precision    recall  f1-score   support\n",
      "\n",
      "       -1.0       1.00      0.42      0.59     62806\n",
      "        1.0       0.00      0.50      0.00       135\n",
      "\n",
      "avg / total       1.00      0.42      0.59     62941\n",
      "\n"
     ]
    },
    {
     "data": {
      "text/plain": [
       "<matplotlib.figure.Figure at 0x12d30ef10>"
      ]
     },
     "metadata": {},
     "output_type": "display_data"
    },
    {
     "data": {
      "image/png": "[encoded data removed]",
      "text/plain": [
       "<matplotlib.figure.Figure at 0x11a6d44d0>"
      ]
     },
     "metadata": {},
     "output_type": "display_data"
    }
   ],
   "source": [
    "X = df.drop(['sequence','allergen'], axis=1)\n",
    "y = df['allergen'].copy()\n",
    "\n",
    "X_train, X_test, y_train, y_test = train_test_split(X, y, test_size=.15)\n",
    "X_train = X_train[y_train == 1];\n",
    "y_train = y_train[y_train == 1]\n",
    "\n",
    "X_unlabeled = X_test[y_test == 0]\n",
    "y_unlabeled = y_test[y_test == 0]\n",
    "\n",
    "ss = StandardScaler(with_mean=False)\n",
    "X_train = ss.fit_transform(X_train)\n",
    "X_test = ss.transform(X_test)\n",
    "X_unlabeled = ss.transform(X_unlabeled)\n",
    "\n",
    "clf = svm.OneClassSVM(nu=0.01, kernel=\"rbf\", gamma=2)\n",
    "clf.fit(X_train)\n",
    "\n",
    "y_pred_train = clf.predict(X_train)\n",
    "y_train_scores = clf.decision_function(X_train)\n",
    "y_pred_test = clf.predict(X_test)\n",
    "y_test_scores = clf.decision_function(X_test)\n",
    "n_error_train = y_pred_train[y_pred_train == -1].size\n",
    "\n",
    "y_pred_unlabeled = clf.predict(X_unlabeled)\n",
    "y_unlabeled_scores = clf.decision_function(X_unlabeled)\n",
    "\n",
    "y_pred_unlabeled_pos = y_pred_unlabeled[y_pred_unlabeled == 1]\n",
    "y_pred_unlabeled_pos_prop = y_pred_unlabeled_pos.shape[0]*1.0/y_pred_unlabeled.shape[0]\n",
    "\n",
    "print 'training size: ', X_train.shape[0]\n",
    "# print 'test size', X_test.shape[0]\n",
    "# print 'unlabeled size: ', X_unlabeled.shape[0]\n",
    "print 'train error proportion: ', 1.0*n_error_train/X_train.shape[0]\n",
    "print 'unlabeled positive proportion: ', y_pred_unlabeled_pos_prop\n",
    "\n",
    "#doesn't do anything if both y_train and y_test are all positives\n",
    "y_test = y_test.apply(lambda x: -1.0 if x == 0 else 1.0)\n",
    "y_train = y_train.apply(lambda x: -1.0 if x == 0 else 1.0)\n",
    "\n",
    "print classification_report(y_test, y_pred_test)\n",
    "plot_precision_recall_curve(y_test, y_test_scores)"
   ]
  },
  {
   "cell_type": "code",
   "execution_count": 75,
   "metadata": {
    "collapsed": true
   },
   "outputs": [
    {
     "data": {
      "text/plain": [
       "[<matplotlib.lines.Line2D at 0x163ce9790>]"
      ]
     },
     "execution_count": 75,
     "metadata": {},
     "output_type": "execute_result"
    },
    {
     "data": {
      "image/png": "[encoded data removed]",
      "text/plain": [
       "<matplotlib.figure.Figure at 0x16778e9d0>"
      ]
     },
     "metadata": {},
     "output_type": "display_data"
    }
   ],
   "source": [
    "fpr, tpr, thresholds = roc_curve(y_test, y_test_scores)\n",
    "plt.plot(fpr, tpr)"
   ]
  },
  {
   "cell_type": "code",
   "execution_count": 17,
   "metadata": {
    "collapsed": false,
    "scrolled": true
   },
   "outputs": [
    {
     "name": "stdout",
     "output_type": "stream",
     "text": [
      "0.0163398252154 {'kernel': 'rbf', 'nu': 0.01, 'gamma': 2}\n"
     ]
    }
   ],
   "source": [
    "X = sdf.drop(['sequence','allergen'], axis=1).copy()\n",
    "y = sdf['allergen'].copy()\n",
    "clf = svm.OneClassSVM(nu=0.10, kernel=\"rbf\", gamma=0.1)\n",
    "parameters = {'kernel':('rbf',), 'nu':[0.001, 0.01, 0.1, 0.2, 0.4, 0.6], 'gamma': [2**(-10), 2**(-5), 0.1, 1, 2, 8]}\n",
    "gs_clf = GridSearchCV(clf, parameters, scoring='average_precision')\n",
    "gs_clf.fit(X, y)\n",
    "print gs_clf.best_score_, gs_clf.best_params_"
   ]
  },
  {
   "cell_type": "code",
   "execution_count": null,
   "metadata": {
    "collapsed": true,
    "scrolled": true
   },
   "outputs": [],
   "source": []
  },
  {
   "cell_type": "markdown",
   "metadata": {},
   "source": [
    "### label prop"
   ]
  },
  {
   "cell_type": "code",
   "execution_count": null,
   "metadata": {
    "collapsed": false,
    "scrolled": true
   },
   "outputs": [],
   "source": [
    "X = sdf.drop(['sequence','allergen'], axis=1)\n",
    "y = sdf['allergen'].copy()\n",
    "unlabeled_set = y == 0\n",
    "y_train = y.copy()\n",
    "y_train[unlabeled_set] = -1\n",
    "print X.shape, y_train.shape, unlabeled_set.shape, y_train[y_train == 1].shape\n",
    "\n",
    "# lp_model = label_propagation.LabelSpreading(gamma=0.25, max_iter=5)\n",
    "lp_model = label_propagation.LabelPropagation()\n",
    "lp_model.fit(X, y_train)\n",
    "predicted_labels = lp_model.predict_proba(X)\n",
    "true_labels = y[unlabeled_set]\n",
    "\n",
    "cm = confusion_matrix(true_labels, predicted_labels, labels=lp_model.classes_)\n",
    "\n",
    "print(\"Label Spreading model: %d labeled & %d unlabeled points (%d total)\" %\n",
    "      (n_labeled_points, n_total_samples - n_labeled_points, n_total_samples))\n",
    "\n",
    "print(classification_report(true_labels, predicted_labels))\n",
    "\n",
    "print(\"Confusion matrix\")\n",
    "print(cm)"
   ]
  },
  {
   "cell_type": "markdown",
   "metadata": {
    "collapsed": false,
    "scrolled": true
   },
   "source": [
    "### two-step"
   ]
  },
  {
   "cell_type": "code",
   "execution_count": null,
   "metadata": {
    "collapsed": true,
    "scrolled": true
   },
   "outputs": [],
   "source": [
    "from sklearn.neighbors.nearest_centroid import NearestCentroid\n",
    "nc = NearestCentroid(metric='cosine', shrink_threshold=0.2)\n",
    "X = sdf.drop(['sequence','allergen'], axis=1)\n",
    "y = sdf['allergen'].copy()\n",
    "\n",
    "nc.fit(X, y)\n",
    "pred = nc."
   ]
  },
  {
   "cell_type": "code",
   "execution_count": null,
   "metadata": {
    "collapsed": true,
    "scrolled": true
   },
   "outputs": [],
   "source": []
  },
  {
   "cell_type": "markdown",
   "metadata": {},
   "source": [
    "## Ensemble of models with different prior probabilities"
   ]
  },
  {
   "cell_type": "code",
   "execution_count": null,
   "metadata": {
    "collapsed": true
   },
   "outputs": [],
   "source": []
  },
  {
   "cell_type": "code",
   "execution_count": null,
   "metadata": {
    "collapsed": true
   },
   "outputs": [],
   "source": []
  },
  {
   "cell_type": "code",
   "execution_count": null,
   "metadata": {
    "collapsed": true
   },
   "outputs": [],
   "source": []
  },
  {
   "cell_type": "markdown",
   "metadata": {},
   "source": [
    "# Naive Bayes"
   ]
  },
  {
   "cell_type": "code",
   "execution_count": 11,
   "metadata": {
    "collapsed": false
   },
   "outputs": [],
   "source": [
    "clf = Pipeline([('vect', TfidfVectorizer(analyzer='char', ngram_range=(1,2))), ('nb', MultinomialNB())])\n",
    "X = sdf['sequence']\n",
    "y = sdf['allergen'].copy()\n",
    "\n",
    "vectorizer = TfidfVectorizer(analyzer='char', ngram_range=(1,5))\n",
    "X = vectorizer.fit_transform(X)"
   ]
  },
  {
   "cell_type": "code",
   "execution_count": 12,
   "metadata": {
    "collapsed": false
   },
   "outputs": [
    {
     "name": "stdout",
     "output_type": "stream",
     "text": [
      "Fitting 3 folds for each of 1 candidates, totalling 3 fits\n"
     ]
    },
    {
     "name": "stderr",
     "output_type": "stream",
     "text": [
      "[Parallel(n_jobs=-1)]: Done   3 out of   3 | elapsed:  4.7min finished\n"
     ]
    },
    {
     "name": "stdout",
     "output_type": "stream",
     "text": [
      "0.0917918056422 {'vect__ngram_range': (3, 3), 'nb__class_prior': (0.9, 0.1), 'vect__use_idf': False, 'vect__min_df': 0.001, 'vect__max_df': 0.9}\n"
     ]
    }
   ],
   "source": [
    "parameters = {\n",
    "    'vect__ngram_range': ((1, 2), (1, 3), (1, 4), (1, 5), (2, 2), (2,3), (3,3), (2,4), (3,4)),\n",
    "    'vect__max_df': (0.8, 0.9, 0.95),\n",
    "     'vect__min_df': (0.0001, 0.001, 0.01),\n",
    "    'nb__class_prior': ((1-0.003, 0.003), (1-0.01, 0.01), (1-0.1, 0.1), (1-0.25, 0.25), None),\n",
    "    'vect__use_idf': (True, False)\n",
    "}\n",
    "\n",
    "clf = Pipeline([('vect', TfidfVectorizer(analyzer='char')), ('nb', MultinomialNB())])\n",
    "X = df['sequence']\n",
    "y = df['allergen'].copy()\n",
    "\n",
    "grid_search = RandomizedSearchCV(clf, parameters, n_iter=1, n_jobs=-1, verbose=1, scoring='average_precision')\n",
    "grid_search.fit(X, y)\n",
    "print grid_search.best_score_, grid_search.best_params_"
   ]
  },
  {
   "cell_type": "code",
   "execution_count": 39,
   "metadata": {
    "collapsed": false
   },
   "outputs": [
    {
     "data": {
      "text/plain": [
       "(50000, 559)"
      ]
     },
     "execution_count": 39,
     "metadata": {},
     "output_type": "execute_result"
    }
   ],
   "source": [
    "X.toarray().shape"
   ]
  },
  {
   "cell_type": "code",
   "execution_count": 40,
   "metadata": {
    "collapsed": false
   },
   "outputs": [
    {
     "data": {
      "text/plain": [
       "(50000, 1118)"
      ]
     },
     "execution_count": 40,
     "metadata": {},
     "output_type": "execute_result"
    }
   ],
   "source": [
    "pd.concat([pd.DataFrame(X.toarray()), pd.DataFrame(X.toarray())], axis=1).shape"
   ]
  },
  {
   "cell_type": "code",
   "execution_count": 109,
   "metadata": {
    "collapsed": false
   },
   "outputs": [
    {
     "name": "stdout",
     "output_type": "stream",
     "text": [
      "[ 0.73267327  0.69710807  0.74251497]\n"
     ]
    }
   ],
   "source": [
    "print cross_val_score(clf, X, y, cv=3, scoring='f1')"
   ]
  },
  {
   "cell_type": "code",
   "execution_count": 62,
   "metadata": {
    "collapsed": false
   },
   "outputs": [
    {
     "data": {
      "text/plain": [
       "'MARKLAAGNWKMNGVEADLAEVDALGEAVAAANCDVLLCPPATLIAPMAKRAGLMDLYVGGQTCHTAASGAHTGDVSAAMLADAGASHVILGHSERRADHGERSEDVAAQVTAAIDANLIAIICVGETEAERDANVTLNVVSSQLAGSIPTGATPAQIVVAYEPVWAIGTGRTPTLEQIAEVHDHIRSELAARRGSAANDIPLLYGGSVKPGNAAEIFAVSNVDGALVGGASLKASDFGGIIAALSAA'"
      ]
     },
     "execution_count": 62,
     "metadata": {},
     "output_type": "execute_result"
    }
   ],
   "source": [
    "sdf.sequence[13]"
   ]
  },
  {
   "cell_type": "markdown",
   "metadata": {
    "collapsed": true
   },
   "source": [
    "# Playground"
   ]
  },
  {
   "cell_type": "code",
   "execution_count": 53,
   "metadata": {
    "collapsed": true
   },
   "outputs": [],
   "source": [
    "# def test_plot(x, y, ax):\n",
    "#     ax.plot(x, y)\n",
    "#     ax.set_xlabel('yup')\n",
    "\n",
    "# def multi(x, y):\n",
    "#     plt.clf();\n",
    "#     n_rows = len(x)/2 if len(x) % 2 == 0 else len(x)/2 + 1\n",
    "#     fig, axes = plt.subplots(n_rows, 2, figsize=(20,20))\n",
    "#     for ax, tup in zip(axes.flatten(), zip(x, y)):\n",
    "#         test_plot(tup[0], tup[1], ax)\n",
    "#     plt.show()\n",
    "#     plt.\n",
    "    \n",
    "# x = [[1,2],[3,4], [9,10]]*2\n",
    "# y = [[5,6], [7,8], [11,12]]*2\n",
    "# multi(x,y)"
   ]
  },
  {
   "cell_type": "code",
   "execution_count": 56,
   "metadata": {
    "collapsed": false
   },
   "outputs": [
    {
     "name": "stderr",
     "output_type": "stream",
     "text": [
      "/Users/Jake1/anaconda/lib/python2.7/site-packages/sklearn/ensemble/gradient_boosting.py:517: RuntimeWarning: overflow encountered in double_scalars\n",
      "  tree.value[leaf, 0, 0] = numerator / denominator\n",
      "/Users/Jake1/anaconda/lib/python2.7/site-packages/sklearn/ensemble/gradient_boosting.py:490: RuntimeWarning: invalid value encountered in multiply\n",
      "  np.sum(sample_weight * ((y * pred) - np.logaddexp(0.0, pred))))\n",
      "/Users/Jake1/anaconda/lib/python2.7/site-packages/sklearn/metrics/classification.py:1113: UndefinedMetricWarning: F-score is ill-defined and being set to 0.0 due to no predicted samples.\n",
      "  'precision', 'predicted', average, warn_for)\n"
     ]
    },
    {
     "name": "stdout",
     "output_type": "stream",
     "text": [
      "0.202511041667 {'n_estimators': 100, 'learning_rate': 0.1, 'max_depth': 5, 'min_samples_leaf': 17}\n"
     ]
    }
   ],
   "source": [
    "X = sdf.drop(['sequence','allergen'], axis=1)\n",
    "y = sdf['allergen'].copy()\n",
    "clf = GradientBoostingClassifier()\n",
    "param_grid = {'learning_rate': [0.1, 0.05, 0.02, 0.01],\n",
    "              'max_depth': [3, 5],\n",
    "              'min_samples_leaf': [3, 5, 9, 17],\n",
    "              'n_estimators': [100, 500]\n",
    "              }\n",
    "gs_clf = GridSearchCV(clf, param_grid, scoring='average_precision')\n",
    "gs_clf.fit(X, y)\n",
    "print gs_clf.best_score_, gs_clf.best_params_"
   ]
  },
  {
   "cell_type": "code",
   "execution_count": 48,
   "metadata": {
    "collapsed": false
   },
   "outputs": [
    {
     "data": {
      "text/plain": [
       "(1,)"
      ]
     },
     "execution_count": 48,
     "metadata": {},
     "output_type": "execute_result"
    }
   ],
   "source": [
    "d1 = pd.DataFrame({'a': [1]})\n",
    "x = d1['a'].apply(lambda x: x)\n",
    "x.shape"
   ]
  },
  {
   "cell_type": "code",
   "execution_count": 32,
   "metadata": {
    "collapsed": false
   },
   "outputs": [
    {
     "data": {
      "text/plain": [
       "(30, 2)"
      ]
     },
     "execution_count": 32,
     "metadata": {},
     "output_type": "execute_result"
    }
   ],
   "source": [
    "d1.as_matrix().shape"
   ]
  },
  {
   "cell_type": "markdown",
   "metadata": {
    "collapsed": true
   },
   "source": [
    "## Threshold picker"
   ]
  },
  {
   "cell_type": "code",
   "execution_count": 7,
   "metadata": {
    "collapsed": false
   },
   "outputs": [],
   "source": [
    "# sdf = df.sample(50000).reset_index(drop=True)\n",
    "nb = Pipeline([('vect', TfidfVectorizer(analyzer='char', ngram_range=(4,5))), \n",
    "       ('nb', MultinomialNB(class_prior=(1 - df_ratio(df), df_ratio(df))))])\n",
    "X = df['sequence'].copy()\n",
    "y = df['allergen'].copy()\n",
    "\n",
    "X_train, X_test, y_train, y_test = balanced_train_test_split(X, y, test_size=.25)\n",
    "nb.fit(X_train, y_train)\n",
    "y_pred_probas = nb.predict_proba(X_test)\n",
    "precision, recall, thresholds = precision_recall_curve(y_test, y_pred_probas[:, 1])"
   ]
  },
  {
   "cell_type": "code",
   "execution_count": 8,
   "metadata": {
    "collapsed": true
   },
   "outputs": [],
   "source": [
    "# with open('minimal_app/allergen_model.pkl', 'w') as fout:\n",
    "#         pickle.dump(nb, fout)"
   ]
  },
  {
   "cell_type": "code",
   "execution_count": 56,
   "metadata": {
    "collapsed": false
   },
   "outputs": [
    {
     "name": "stdout",
     "output_type": "stream",
     "text": [
      "MGSPLCVPIFLAVCILIQSSTHGQSLRPEPFGRRARVTATKKTLLETETRFLLFKDKANKGCQIRLHHADTLQECGFNSSLPLVMIVHGWSVDGLLESWIWQMVAALKSQPARPVNVGLVDWISLAHSHYAVAVRNARLVGQEVAALLQWLEESAPFSRSNVHLIGYSLGAHVAGFAGSYISGKHKIGRITGLDAAGPLFEGTSASDRLSPDDATFVDAIHTFTREHMGLSVGIKQPVGHYDFYPNGGSFQPGCHFLELYKHIAQHGLNALSQTIKCAHERSVHLFIDSLLHPSMQSTAYQCSDMDSFSQGLCLGCTKGRCNTLGYHIRQEPLSKGKRLFLVTQAQSPFRVYHYQFKIQFINQIEKPLEPTFTMSLLGTKEEMQKIPITLGEGITSNKTYSFLITLNLDIGELMVIKFKWENSAVWANVWNTVQTIIPWGIKPRNSGLILKTIRVKAGETQQRMTFCSENMDDLQLHPTQEKNFVRCEVNPKKLKLKIK \n",
      "\n",
      "MEFRGDANKRIAMISAHLQPSFTPQMEAKNSVMGRENCRAKGGNPGFKVAILGAAGGIGQSLSLLMKMNPLVSLLHLYDVVNAPGVTADVSHMDTGAVVRGFLGAKQLEDALTGMDLVIIPAGVPRKPGMTRDDLFKINAGIVKTLCEGVAKCCPNAIVNLISNPVNSTVAIAAEVFKKAGTYDPKKLLGVTTLDVARANTFVAEVLGLDPREVDVPVVGGHAGVTILPLLSQVKPPSSFTPSEIEYLTNRIQNGGTEVVEAKAGAGSATLSMAYAAAKFADACLRGLRGDANVIECSFVASQVTELAFFATKVRLGRTGAEEVFQLGPLNEYERVGLEKAKEELAGSIQKGVDFIRK \n",
      "\n",
      "MERKEFKAESKRLLEMMVNSIYSQKEIFLRELISNASDAIDKIYYRALSDDSITFNKDDYFIKVTANKEDRTLTVSDTGIGMTKEELESNLGTIAKSGSLAFKTENESKDGHDIIGQFGVGFYSAFMVADKVTVTTKALGEESGYQWESTGADGYTILPIAKESVGTEIRLKLKENSEDESYDEFLEEYRLTSIIKKYSDFIRYPIKMDVTKRELKEGTEDEYEDVIEEQTINSMVPIWRKNKNELKDEDYTNFYHEKRYGFDQPLKHIHISVDGAVRYNAILFIPENIPFDYYTKEFEKGLELYSNGVLIMEKCPDLLPDYYSFVKGMVDSEDLSLNISREMLQHDRQLKLIAKNIKNKITSHLKTLLKDEREKFEQFYRSFGRQLKYGVYSDFGANKEDLQDLLLFYSSTEKKMVTLDEYVSRMKEDQPYIYYATGESYARIEKLPQTEMVADKGYEILYFTEDVDEFAIKMLASYKEKEFRSVSSGDLGFEDDEQKDTAADTDEQKELFEHMKTILDGKVKDVRASKRLKSHPVCLTAEGEVSIEMEKVLRAMPDNQNVQAEKVLEINVNHDVFDVLKASFESDKDKVDLYTKLLYNQALLIEGLPVEDPVAFSNDICKVMA \n",
      "\n",
      "VNPTVFFDITADGEPLGRVCFELFADKVPKTAENFRALSTGEKGFGYKGSSFHRIIPGFMCQGGDFTRHNGTGGKSIYGEKFEDENFILKHTGPGILSMANAGPNTNGSQFFICTAKTEWLDGKHVVFGKVKEGMSIVEAMERFGSRNGKTSKKITISDCGQL \n",
      "\n",
      "MKVAVLGAAGGIGQALSLLLKTQLPAGSELSLYDVAPVVPGVAVDLSHIPTDVKVTGFGKDDLASALVGSDIVLIPAGVPRKPGMDRSDLFNMNAGIVKNLVQGVADNCPNACVGIITNPVNTTVPIAAEVLKKAGCYDKRKLFGVTTLDVIRSEAFVGELRGLNPENVNVPVIGGHSGTTILPLLSQVEGVEFTEQEIKDLTHRIQNAGTEVVEAKAGGGSATLSMGQAAARFALSLLKGLQGQDTIECTYVEGPGDNAKFFAQPVRLGKNGAEEILSYGKLSAFEQKCMDEMLDGLKGDIQTGIDFAS \n",
      "\n"
     ]
    }
   ],
   "source": [
    "for i in df[df['allergen'] == 0]['sequence'].tolist()[0:5]:\n",
    "    print i, '\\n'"
   ]
  },
  {
   "cell_type": "code",
   "execution_count": 16,
   "metadata": {
    "collapsed": false
   },
   "outputs": [],
   "source": [
    "pr_df = pd.DataFrame({'precision': precision[0:-1], 'recall': recall[0:-1], 'thresholds': thresholds})"
   ]
  },
  {
   "cell_type": "code",
   "execution_count": 71,
   "metadata": {
    "collapsed": false
   },
   "outputs": [],
   "source": [
    "import json\n",
    "with open('client/dist/prec_recall.json', 'w') as fout:\n",
    "    json.dump({'precision': precision[0:-1].tolist(), 'recall': recall[0:-1].tolist(), 'thresholds': thresholds.tolist()}, fout)"
   ]
  },
  {
   "cell_type": "code",
   "execution_count": 65,
   "metadata": {
    "collapsed": false
   },
   "outputs": [
    {
     "name": "stdout",
     "output_type": "stream",
     "text": [
      "(77390,) (77390,) (77389,)\n"
     ]
    }
   ],
   "source": [
    "print precision.shape, recall.shape, thresholds.shape"
   ]
  },
  {
   "cell_type": "code",
   "execution_count": 8,
   "metadata": {
    "collapsed": false
   },
   "outputs": [
    {
     "data": {
      "image/png": "[encoded data removed]",
      "text/plain": [
       "<matplotlib.figure.Figure at 0x11e9c0c90>"
      ]
     },
     "metadata": {},
     "output_type": "display_data"
    }
   ],
   "source": [
    "plt.hist(precision, bins=1000, log=True);"
   ]
  },
  {
   "cell_type": "code",
   "execution_count": 9,
   "metadata": {
    "collapsed": false
   },
   "outputs": [
    {
     "data": {
      "image/png": "[encoded data removed]",
      "text/plain": [
       "<matplotlib.figure.Figure at 0x115f55a50>"
      ]
     },
     "metadata": {},
     "output_type": "display_data"
    }
   ],
   "source": [
    "plt.hist(thresholds, bins=1000);"
   ]
  },
  {
   "cell_type": "code",
   "execution_count": 10,
   "metadata": {
    "collapsed": false
   },
   "outputs": [
    {
     "data": {
      "image/png": "[encoded data removed]",
      "text/plain": [
       "<matplotlib.figure.Figure at 0x1210b0dd0>"
      ]
     },
     "metadata": {},
     "output_type": "display_data"
    }
   ],
   "source": [
    "plt.hist(recall, bins=1000);"
   ]
  },
  {
   "cell_type": "code",
   "execution_count": 11,
   "metadata": {
    "collapsed": false
   },
   "outputs": [
    {
     "data": {
      "image/png": "[encoded data removed]",
      "text/plain": [
       "<matplotlib.figure.Figure at 0x11c4593d0>"
      ]
     },
     "metadata": {},
     "output_type": "display_data"
    }
   ],
   "source": [
    "plt.hist(y_pred_probas, bins=1000);"
   ]
  },
  {
   "cell_type": "code",
   "execution_count": 76,
   "metadata": {
    "collapsed": false
   },
   "outputs": [
    {
     "data": {
      "text/plain": [
       "(77389,)"
      ]
     },
     "execution_count": 76,
     "metadata": {},
     "output_type": "execute_result"
    }
   ],
   "source": [
    "thresholds.shape"
   ]
  },
  {
   "cell_type": "code",
   "execution_count": 13,
   "metadata": {
    "collapsed": false
   },
   "outputs": [
    {
     "data": {
      "text/plain": [
       "array([ 0.00190702,  0.00190742,  0.00190819, ...,  0.00476921,\n",
       "        0.00576086,  0.00624127])"
      ]
     },
     "execution_count": 13,
     "metadata": {},
     "output_type": "execute_result"
    }
   ],
   "source": [
    "thresholds"
   ]
  },
  {
   "cell_type": "code",
   "execution_count": 24,
   "metadata": {
    "collapsed": true
   },
   "outputs": [
    {
     "name": "stderr",
     "output_type": "stream",
     "text": [
      "/Users/Jake1/anaconda/lib/python2.7/site-packages/ipykernel/__main__.py:1: VisibleDeprecationWarning: boolean index did not match indexed array along dimension 0; dimension is 12395 but corresponding boolean dimension is 12396\n",
      "  if __name__ == '__main__':\n"
     ]
    },
    {
     "data": {
      "text/plain": [
       "array([ -6.81252983e-07,  -9.96344933e-08,  -2.79714634e-07,\n",
       "        -1.23662026e-06,  -2.89897429e-08,  -3.56223776e-08,\n",
       "        -2.51339832e-07,  -6.19995982e-07,  -3.41396189e-07,\n",
       "        -1.47038481e-08,  -3.89995386e-07,  -2.29654670e-07,\n",
       "        -2.66494304e-07,  -5.65915166e-07,  -1.61188949e-07,\n",
       "        -1.25020852e-07,  -3.36191235e-07,  -4.46562148e-07,\n",
       "        -3.19905608e-07,  -5.85287024e-07,  -2.43464534e-07,\n",
       "        -2.49823038e-07,  -2.86864416e-07,  -7.66675098e-07,\n",
       "        -8.57021590e-08,  -5.80627561e-08,  -5.90690483e-08,\n",
       "        -7.94065656e-08,  -2.65490962e-07,  -3.47229514e-07,\n",
       "        -5.25435978e-07,  -3.27796055e-08,  -4.82215347e-07,\n",
       "        -1.23285359e-08,  -5.92219694e-08,  -6.91461591e-08,\n",
       "        -1.32071962e-07,  -1.65451754e-06,  -4.22605312e-08,\n",
       "        -9.03024672e-07,  -4.38432785e-07,  -9.31504786e-08,\n",
       "        -4.51446469e-07,  -7.70600977e-07,  -9.27662101e-08,\n",
       "        -5.89593417e-08,  -1.74631103e-07,  -5.29535850e-07,\n",
       "        -1.02395813e-06,  -2.76661331e-07,  -2.68647954e-07,\n",
       "        -5.35655569e-07,  -5.10105665e-08,  -4.48676906e-07,\n",
       "        -2.51084213e-07,  -1.82915378e-08,  -1.44445523e-06,\n",
       "        -3.66318137e-07,  -5.94628098e-07,  -2.03211833e-07,\n",
       "        -4.13279376e-07,  -1.58222235e-07,  -3.90085974e-07,\n",
       "        -1.42306625e-07,  -1.65290065e-07,  -3.60405250e-08,\n",
       "        -9.62109708e-08,  -5.87965734e-07,  -1.16209862e-08,\n",
       "        -3.06698257e-07,  -2.04057841e-07,  -3.74408349e-07,\n",
       "        -1.59451890e-06,  -5.28462076e-07,  -2.02768474e-07,\n",
       "        -5.49165140e-07,  -7.01457985e-07,  -2.64835820e-07,\n",
       "        -3.80506143e-08,  -3.16608624e-07,  -1.84220789e-07,\n",
       "        -5.58509971e-08,  -2.78051524e-08,  -2.13391268e-06,\n",
       "        -3.11390845e-07,  -2.59217919e-07,  -1.55927066e-06,\n",
       "        -3.81724128e-07,  -2.19895695e-07,  -2.23420803e-07,\n",
       "        -6.36870641e-07,  -1.08474154e-07,  -9.40624344e-07,\n",
       "        -7.51953028e-07,  -3.77952049e-07,  -1.02622103e-07,\n",
       "        -1.15926453e-07,  -4.68287583e-07,  -1.77932823e-07,\n",
       "        -2.02513794e-07,  -4.09864795e-08,  -1.16114045e-07,\n",
       "        -3.21882633e-07,  -3.55586682e-07,  -3.20565844e-08,\n",
       "        -5.34164824e-07,  -7.81098533e-08,  -6.42180024e-07,\n",
       "        -1.63782871e-06,  -1.17674329e-07,  -2.98098953e-07,\n",
       "        -5.92239936e-07,  -1.06629487e-07,  -1.26581382e-06,\n",
       "        -4.40957800e-07,  -3.54507845e-08,  -2.56676641e-07,\n",
       "        -2.10340103e-07,  -1.09076453e-07,  -1.35672645e-06,\n",
       "        -1.63862558e-07,  -2.37447823e-07,  -3.45639514e-07,\n",
       "        -1.18443278e-06,  -4.93149538e-07,  -7.13233161e-07,\n",
       "        -9.60153888e-08,  -7.25606322e-08,  -3.26418293e-07,\n",
       "        -1.09389333e-07,  -4.45260445e-08,  -1.20001428e-07,\n",
       "        -1.41872636e-06,  -1.53994688e-06,  -1.09419352e-06,\n",
       "        -7.70049930e-07,  -5.20217728e-07,  -3.82745218e-07,\n",
       "        -1.11746680e-06,  -7.10537008e-07,  -7.98825751e-08,\n",
       "        -3.88006916e-07,  -1.45397140e-07,  -3.45118947e-07,\n",
       "        -5.62225062e-07,  -1.18809942e-07,  -3.08414211e-07,\n",
       "        -3.72682011e-07,  -1.57883248e-06,  -3.20808663e-07,\n",
       "        -6.19679934e-07,  -1.19101734e-06,  -3.00906529e-07,\n",
       "        -4.15153275e-08,  -3.98448995e-07,  -6.80936578e-08,\n",
       "        -1.50796800e-06,  -2.74504703e-07,  -1.69721885e-07,\n",
       "        -4.73658643e-07,  -1.24371442e-07,  -1.31638711e-07,\n",
       "        -1.84007927e-06,  -1.54844909e-07,  -4.86641801e-07,\n",
       "        -1.18506434e-07,  -8.35382743e-07,  -3.34331545e-07,\n",
       "        -1.37004128e-06,  -1.91056556e-06,  -1.51731584e-06,\n",
       "        -7.62353717e-07,  -1.07873739e-07,  -1.49638355e-06,\n",
       "        -7.69753237e-07,  -4.33510593e-07,  -1.49439580e-06,\n",
       "        -1.36271193e-06,  -1.37142221e-06,  -1.68487916e-07,\n",
       "        -6.44201210e-07,  -1.65587138e-08,  -6.81610610e-07,\n",
       "        -7.19686795e-07,  -5.31003225e-07,  -3.80301782e-07,\n",
       "        -2.90472353e-06,  -3.73468439e-07,  -4.50960506e-08,\n",
       "        -2.77813668e-07,  -1.46972459e-06,  -1.75063130e-06,\n",
       "        -5.80816906e-07,  -1.01730500e-07,  -5.73516315e-07,\n",
       "        -1.56453401e-07,  -5.80646085e-07,  -4.38826683e-07,\n",
       "        -4.87475018e-07,  -1.13398284e-06,  -1.67616755e-06,\n",
       "        -3.74061287e-07,  -5.51275889e-07,  -1.14851922e-06,\n",
       "        -8.94843733e-08,  -1.01965300e-06,  -1.34356433e-06,\n",
       "        -9.60950017e-07,  -4.84998972e-07,  -1.17633195e-06,\n",
       "        -4.22913114e-07,  -1.16247910e-07,  -9.05256949e-07,\n",
       "        -1.17509817e-06,  -1.05595170e-06,  -1.40361579e-06,\n",
       "        -4.38287789e-08,  -1.65053940e-06,  -7.82418779e-07,\n",
       "        -4.60176820e-10,  -2.67462507e-08,  -3.42276994e-06,\n",
       "        -2.06578005e-07,  -1.48377598e-06,  -4.04420693e-09,\n",
       "        -8.71373581e-07,  -1.98800688e-06,  -8.78326789e-07,\n",
       "        -1.87822756e-07,  -9.04269125e-07,  -1.40594501e-06,\n",
       "        -6.99889776e-07,  -3.59366352e-07,  -1.29693137e-06,\n",
       "        -1.23782070e-06,  -6.63698522e-07,  -1.51181717e-06,\n",
       "        -1.51624138e-07,  -8.68145560e-07,  -6.25808143e-07,\n",
       "        -8.28963294e-07,  -3.75326227e-08,  -1.76392569e-06,\n",
       "        -2.46000977e-06])"
      ]
     },
     "execution_count": 24,
     "metadata": {},
     "output_type": "execute_result"
    }
   ],
   "source": [
    "thresholds[(recall >= 0.3) & (recall <= 0.35)][0:-1] - thresholds[(recall >= 0.3) & (recall <= 0.35)][1:]"
   ]
  },
  {
   "cell_type": "code",
   "execution_count": 30,
   "metadata": {
    "collapsed": false
   },
   "outputs": [
    {
     "data": {
      "text/plain": [
       "[0.002165683830913364]"
      ]
     },
     "execution_count": 30,
     "metadata": {},
     "output_type": "execute_result"
    }
   ],
   "source": [
    "from collections import Counter\n",
    "[item for item, count in Counter(y_pred_probas[:, 1]).iteritems() if count > 1]"
   ]
  },
  {
   "cell_type": "code",
   "execution_count": 39,
   "metadata": {
    "collapsed": true
   },
   "outputs": [
    {
     "name": "stdout",
     "output_type": "stream",
     "text": [
      "0.00174017760173 0.0769230769231\n",
      "0.00174373946879 0.0769230769231\n",
      "0.00174738210429 0.0769230769231\n",
      "0.00174809471506 0.0769230769231\n",
      "0.00175980596216 0.0769230769231\n",
      "0.00176494545166 0.0769230769231\n",
      "0.00176867736155 0.0769230769231\n",
      "0.001775869133 0.0769230769231\n",
      "0.00178286156163 0.0769230769231\n",
      "0.00179183493102 0.0769230769231\n",
      "0.00179326739981 0.0769230769231\n",
      "0.00179822238834 0.0769230769231\n",
      "0.00180519541757 0.0769230769231\n",
      "0.00180612644401 0.0769230769231\n",
      "0.00180858761106 0.0769230769231\n",
      "0.00180959901065 0.0769230769231\n",
      "0.00181033963182 0.0769230769231\n",
      "0.00181718057562 0.0769230769231\n",
      "0.00181753353055 0.0769230769231\n",
      "0.00181923647415 0.0769230769231\n",
      "0.0018196017001 0.0769230769231\n",
      "0.00182326527986 0.0769230769231\n",
      "0.00182712362843 0.0769230769231\n",
      "0.0018278717078 0.0769230769231\n",
      "0.00182830003476 0.0769230769231\n",
      "0.00183275590363 0.0769230769231\n",
      "0.00183484573453 0.0769230769231\n",
      "0.00183607112772 0.0769230769231\n",
      "0.00183780185914 0.0769230769231\n",
      "0.00183919953001 0.0769230769231\n",
      "0.00184079960871 0.0769230769231\n",
      "0.00184339837065 0.0769230769231\n",
      "0.001845428766 0.0769230769231\n",
      "0.00185035847648 0.0769230769231\n",
      "0.00185059385346 0.0769230769231\n",
      "0.0018507746014 0.0769230769231\n",
      "0.0018523274509 0.0769230769231\n",
      "0.00185246681164 0.0769230769231\n",
      "0.00185282514215 0.0769230769231\n",
      "0.00185301935831 0.0769230769231\n",
      "0.00185384605431 0.0769230769231\n",
      "0.00185725503775 0.0769230769231\n",
      "0.00185961610641 0.0769230769231\n",
      "0.00186027117736 0.0769230769231\n",
      "0.0018611610893 0.0769230769231\n",
      "0.00186152272304 0.0769230769231\n",
      "0.00186462365456 0.0769230769231\n",
      "0.00186474977246 0.0769230769231\n",
      "0.00186712907841 0.0769230769231\n",
      "0.00187046140095 0.0769230769231\n",
      "0.00187148619724 0.0769230769231\n",
      "0.00187169656518 0.0769230769231\n",
      "0.00187187346212 0.0769230769231\n",
      "0.0018741384803 0.0769230769231\n",
      "0.00187651794793 0.0769230769231\n",
      "0.00187849087669 0.0769230769231\n",
      "0.00187907373424 0.0769230769231\n",
      "0.00188013149936 0.0769230769231\n",
      "0.00188021755582 0.0769230769231\n",
      "0.00188139494683 0.0769230769231\n",
      "0.00188233312982 0.0769230769231\n",
      "0.00188250081528 0.0769230769231\n",
      "0.00188370062348 0.0769230769231\n",
      "0.00188433535264 0.0769230769231\n",
      "0.00188437950405 0.0769230769231\n",
      "0.0018848803894 0.0769230769231\n",
      "0.00188540591408 0.0769230769231\n",
      "0.00188742469785 0.0769230769231\n",
      "0.00188843306101 0.0769230769231\n",
      "0.00188876551237 0.0769230769231\n",
      "0.00188989080085 0.0769230769231\n",
      "0.00189133911767 0.0769230769231\n",
      "0.00189233526227 0.0769230769231\n",
      "0.00189252750551 0.0769230769231\n",
      "0.00189297942104 0.0769230769231\n",
      "0.00189318265409 0.0769230769231\n",
      "0.00189322088754 0.0769230769231\n",
      "0.00189426349248 0.0769230769231\n",
      "0.00189446263907 0.0769230769231\n",
      "0.00189572693889 0.0769230769231\n",
      "0.00189581481832 0.0769230769231\n",
      "0.00189717457884 0.0769230769231\n",
      "0.00189764031051 0.0769230769231\n",
      "0.00189764206821 0.0769230769231\n",
      "0.00189827688499 0.0769230769231\n",
      "0.00189890346306 0.0769230769231\n",
      "0.00189919107136 0.0769230769231\n",
      "0.00189954341565 0.0769230769231\n",
      "0.00189990588563 0.0769230769231\n",
      "0.0019000003478 0.0769230769231\n",
      "0.00190075261186 0.0769230769231\n",
      "0.00190091677596 0.0769230769231\n",
      "0.00190113055552 0.0769230769231\n",
      "0.00190120197495 0.0769230769231\n",
      "0.00190225509498 0.0769230769231\n",
      "0.00190246213983 0.0769230769231\n",
      "0.00190290738772 0.0769230769231\n",
      "0.00190347764577 0.0769230769231\n",
      "0.0019039272297 0.0769230769231\n",
      "0.00190413889492 0.0769230769231\n",
      "0.00190425421839 0.0769230769231\n",
      "0.00190442519482 0.0769230769231\n",
      "0.00190550757053 0.0769230769231\n",
      "0.00190641842692 0.0769230769231\n",
      "0.00190702461886 0.0769230769231\n",
      "0.0019074201926 0.0769230769231\n",
      "0.00190819101646 0.0769230769231\n",
      "0.0019085378056 0.0769230769231\n",
      "0.00190864674153 0.0769230769231\n",
      "0.00190903345518 0.0769230769231\n",
      "0.00190925809562 0.0769230769231\n",
      "0.00190960002563 0.0769230769231\n",
      "0.00191025027604 0.0769230769231\n",
      "0.00191103688061 0.0769230769231\n",
      "0.00191142914587 0.0769230769231\n",
      "0.00191168566751 0.0769230769231\n",
      "0.00191173217818 0.0769230769231\n",
      "0.00191179756978 0.0769230769231\n",
      "0.00191224517058 0.0769230769231\n",
      "0.00191250894119 0.0769230769231\n",
      "0.00191315927939 0.0769230769231\n",
      "0.00191366960795 0.0769230769231\n",
      "0.00191367046437 0.0769230769231\n",
      "0.00191379136395 0.0769230769231\n",
      "0.00191454186794 0.0769230769231\n",
      "0.00191507145718 0.0769230769231\n",
      "0.00191546141176 0.0769230769231\n",
      "0.00191555128388 0.0769230769231\n",
      "0.00191609076768 0.0769230769231\n",
      "0.00191620126163 0.0769230769231\n",
      "0.00191713100176 0.0769230769231\n",
      "0.00191714405343 0.0769230769231\n",
      "0.00191742582906 0.0769230769231\n",
      "0.00191805470973 0.0769230769231\n",
      "0.0019185776348 0.0769230769231\n",
      "0.00191894054613 0.0769230769231\n",
      "0.00191914587378 0.0769230769231\n",
      "0.00191917652067 0.0769230769231\n",
      "0.00191955054454 0.0769230769231\n",
      "0.00192006353828 0.0769230769231\n",
      "0.00192009376557 0.0769230769231\n",
      "0.00192029060307 0.0769230769231\n",
      "0.00192038521741 0.0769230769231\n",
      "0.00192054023643 0.0769230769231\n",
      "0.00192061794804 0.0769230769231\n",
      "0.00192062418799 0.0769230769231\n",
      "0.00192100482917 0.0769230769231\n",
      "0.00192267711387 0.0769230769231\n",
      "0.0019227951989 0.0769230769231\n",
      "0.00192287386383 0.0769230769231\n",
      "0.00192302389741 0.0769230769231\n",
      "0.00192307945217 0.0769230769231\n",
      "0.00192323442955 0.0769230769231\n",
      "0.00192336710713 0.0769230769231\n",
      "0.0019235350076 0.0769230769231\n",
      "0.00192370387341 0.0769230769231\n",
      "0.00192401835854 0.0769230769231\n",
      "0.00192426591028 0.0769230769231\n",
      "0.0019242790356 0.0769230769231\n",
      "0.00192436956371 0.0769230769231\n",
      "0.00192477975547 0.0769230769231\n",
      "0.00192489202614 0.0769230769231\n",
      "0.00192510398999 0.0769230769231\n",
      "0.00192555336546 0.0769230769231\n",
      "0.00192592346505 0.0769230769231\n",
      "0.00192627484967 0.0384615384615\n",
      "0.00192635633152 0.0384615384615\n",
      "0.00192653423161 0.0384615384615\n",
      "0.00192728381363 0.0384615384615\n",
      "0.00192736793361 0.0384615384615\n",
      "0.00192738223842 0.0384615384615\n",
      "0.00192794509183 0.0384615384615\n",
      "0.00192835343926 0.0384615384615\n",
      "0.00192909047054 0.0384615384615\n",
      "0.00192927123809 0.0384615384615\n",
      "0.00192954735866 0.0384615384615\n",
      "0.00192956465139 0.0384615384615\n",
      "0.00193040961716 0.0384615384615\n",
      "0.00193055587499 0.0384615384615\n",
      "0.00193078967936 0.0384615384615\n",
      "0.00193095481706 0.0384615384615\n",
      "0.00193121854735 0.0384615384615\n",
      "0.00193178291928 0.0384615384615\n",
      "0.00193241590638 0.0384615384615\n",
      "0.00193277505467 0.0384615384615\n",
      "0.00193278256249 0.0384615384615\n",
      "0.00193310648425 0.0384615384615\n",
      "0.00193313310001 0.0384615384615\n",
      "0.00193401362658 0.0384615384615\n",
      "0.00193433199788 0.0384615384615\n",
      "0.00193475424819 0.0\n",
      "0.00193529455592 0.0\n",
      "0.0019353166808 0.0\n",
      "0.00193567603318 0.0\n",
      "0.00193618334691 0.0\n",
      "0.00193629511605 0.0\n",
      "0.00193669639708 0.0\n",
      "0.00193685578808 0.0\n",
      "0.00193688274702 0.0\n"
     ]
    }
   ],
   "source": [
    "for i,j in zip(np.sort(y_pred_probas[:, 1])[0:200], recall[-200:-1]):\n",
    "    print i, j"
   ]
  },
  {
   "cell_type": "code",
   "execution_count": 21,
   "metadata": {
    "collapsed": false
   },
   "outputs": [
    {
     "data": {
      "text/plain": [
       "array([], dtype=float64)"
      ]
     },
     "execution_count": 21,
     "metadata": {},
     "output_type": "execute_result"
    }
   ],
   "source": [
    "y_pred_probas[y_pred_probas == 0.32258065]"
   ]
  },
  {
   "cell_type": "code",
   "execution_count": 33,
   "metadata": {
    "collapsed": false
   },
   "outputs": [
    {
     "data": {
      "text/plain": [
       "(12499,)"
      ]
     },
     "execution_count": 33,
     "metadata": {},
     "output_type": "execute_result"
    }
   ],
   "source": [
    "np.unique(y_pred_probas[:, 1]).shape"
   ]
  },
  {
   "cell_type": "code",
   "execution_count": 17,
   "metadata": {
    "collapsed": false
   },
   "outputs": [],
   "source": [
    "recall = pr_df['recall']"
   ]
  },
  {
   "cell_type": "code",
   "execution_count": 38,
   "metadata": {
    "collapsed": false
   },
   "outputs": [
    {
     "data": {
      "text/plain": [
       "(92813,)"
      ]
     },
     "execution_count": 38,
     "metadata": {},
     "output_type": "execute_result"
    }
   ],
   "source": [
    "recall.shape"
   ]
  },
  {
   "cell_type": "code",
   "execution_count": 36,
   "metadata": {
    "collapsed": true
   },
   "outputs": [
    {
     "name": "stdout",
     "output_type": "stream",
     "text": [
      "0.995260663507\n",
      "0.990521327014\n",
      "0.985781990521\n",
      "0.981042654028\n",
      "0.976303317536\n",
      "0.971563981043\n",
      "0.96682464455\n",
      "0.962085308057\n",
      "0.957345971564\n",
      "0.952606635071\n",
      "0.947867298578\n",
      "0.943127962085\n",
      "0.938388625592\n",
      "0.9336492891\n",
      "0.928909952607\n",
      "0.924170616114\n",
      "0.919431279621\n",
      "0.914691943128\n",
      "0.909952606635\n",
      "0.905213270142\n",
      "0.900473933649\n",
      "0.895734597156\n",
      "0.890995260664\n",
      "0.886255924171\n",
      "0.881516587678\n",
      "0.876777251185\n",
      "0.872037914692\n",
      "0.867298578199\n",
      "0.862559241706\n",
      "0.857819905213\n",
      "0.85308056872\n",
      "0.848341232227\n",
      "0.843601895735\n",
      "0.838862559242\n",
      "0.834123222749\n",
      "0.829383886256\n",
      "0.824644549763\n",
      "0.81990521327\n",
      "0.815165876777\n",
      "0.810426540284\n",
      "0.805687203791\n",
      "0.800947867299\n",
      "0.796208530806\n",
      "0.791469194313\n",
      "0.78672985782\n",
      "0.781990521327\n",
      "0.777251184834\n",
      "0.772511848341\n",
      "0.767772511848\n",
      "0.763033175355\n",
      "0.758293838863\n",
      "0.75355450237\n",
      "0.748815165877\n",
      "0.744075829384\n",
      "0.739336492891\n",
      "0.734597156398\n",
      "0.729857819905\n",
      "0.725118483412\n",
      "0.720379146919\n",
      "0.715639810427\n",
      "0.710900473934\n",
      "0.706161137441\n",
      "0.701421800948\n",
      "0.696682464455\n",
      "0.691943127962\n",
      "0.687203791469\n",
      "0.682464454976\n",
      "0.677725118483\n",
      "0.672985781991\n",
      "0.668246445498\n",
      "0.663507109005\n",
      "0.658767772512\n",
      "0.654028436019\n",
      "0.649289099526\n",
      "0.644549763033\n",
      "0.63981042654\n",
      "0.635071090047\n",
      "0.630331753555\n",
      "0.625592417062\n",
      "0.620853080569\n",
      "0.616113744076\n",
      "0.611374407583\n",
      "0.60663507109\n",
      "0.601895734597\n",
      "0.597156398104\n",
      "0.592417061611\n",
      "0.587677725118\n",
      "0.582938388626\n",
      "0.578199052133\n",
      "0.57345971564\n",
      "0.568720379147\n",
      "0.563981042654\n",
      "0.559241706161\n",
      "0.554502369668\n",
      "0.549763033175\n",
      "0.545023696682\n",
      "0.54028436019\n",
      "0.535545023697\n",
      "0.530805687204\n",
      "0.526066350711\n",
      "0.521327014218\n",
      "0.516587677725\n",
      "0.511848341232\n",
      "0.507109004739\n",
      "0.502369668246\n",
      "0.497630331754\n",
      "0.492890995261\n",
      "0.488151658768\n",
      "0.483412322275\n",
      "0.478672985782\n",
      "0.473933649289\n",
      "0.469194312796\n",
      "0.464454976303\n",
      "0.45971563981\n",
      "0.454976303318\n",
      "0.450236966825\n",
      "0.445497630332\n",
      "0.440758293839\n",
      "0.436018957346\n",
      "0.431279620853\n",
      "0.42654028436\n",
      "0.421800947867\n",
      "0.417061611374\n",
      "0.412322274882\n",
      "0.407582938389\n",
      "0.402843601896\n",
      "0.398104265403\n",
      "0.39336492891\n",
      "0.388625592417\n",
      "0.383886255924\n",
      "0.379146919431\n",
      "0.374407582938\n",
      "0.369668246445\n",
      "0.364928909953\n",
      "0.36018957346\n",
      "0.355450236967\n",
      "0.350710900474\n",
      "0.345971563981\n",
      "0.341232227488\n",
      "0.336492890995\n",
      "0.331753554502\n",
      "0.327014218009\n",
      "0.322274881517\n",
      "0.317535545024\n",
      "0.312796208531\n",
      "0.308056872038\n",
      "0.303317535545\n",
      "0.298578199052\n",
      "0.293838862559\n",
      "0.289099526066\n",
      "0.284360189573\n",
      "0.279620853081\n",
      "0.274881516588\n",
      "0.270142180095\n",
      "0.265402843602\n",
      "0.260663507109\n",
      "0.255924170616\n",
      "0.251184834123\n",
      "0.24644549763\n",
      "0.241706161137\n",
      "0.236966824645\n",
      "0.232227488152\n",
      "0.227488151659\n",
      "0.222748815166\n",
      "0.218009478673\n",
      "0.21327014218\n",
      "0.208530805687\n",
      "0.203791469194\n",
      "0.199052132701\n",
      "0.194312796209\n",
      "0.189573459716\n",
      "0.184834123223\n",
      "0.18009478673\n",
      "0.175355450237\n",
      "0.170616113744\n",
      "0.165876777251\n",
      "0.161137440758\n",
      "0.156398104265\n",
      "0.151658767773\n",
      "0.14691943128\n",
      "0.142180094787\n",
      "0.137440758294\n",
      "0.132701421801\n",
      "0.127962085308\n",
      "0.123222748815\n",
      "0.118483412322\n",
      "0.113744075829\n",
      "0.109004739336\n",
      "0.104265402844\n",
      "0.0995260663507\n",
      "0.0947867298578\n",
      "0.0900473933649\n",
      "0.085308056872\n",
      "0.0805687203791\n",
      "0.0758293838863\n",
      "0.0710900473934\n",
      "0.0663507109005\n",
      "0.0616113744076\n",
      "0.0568720379147\n",
      "0.0521327014218\n",
      "0.0473933649289\n",
      "0.042654028436\n",
      "0.0379146919431\n",
      "0.0331753554502\n",
      "0.0284360189573\n",
      "0.0236966824645\n",
      "0.0189573459716\n",
      "0.0142180094787\n",
      "0.00947867298578\n",
      "0.00473933649289\n"
     ]
    }
   ],
   "source": [
    "idx = []\n",
    "step = 0.00001\n",
    "t = recall[0]\n",
    "for i,v in enumerate(recall):\n",
    "    if v < t - step:\n",
    "        idx.append(i)\n",
    "        t = v\n",
    "        print v\n",
    "    "
   ]
  },
  {
   "cell_type": "code",
   "execution_count": 37,
   "metadata": {
    "collapsed": false
   },
   "outputs": [
    {
     "data": {
      "text/plain": [
       "210"
      ]
     },
     "execution_count": 37,
     "metadata": {},
     "output_type": "execute_result"
    }
   ],
   "source": [
    "len(idx)"
   ]
  },
  {
   "cell_type": "code",
   "execution_count": 42,
   "metadata": {
    "collapsed": true
   },
   "outputs": [
    {
     "name": "stdout",
     "output_type": "stream",
     "text": [
      "[0.0012879841148296714, 0.0012946770999592413, 0.0014904744703947606, 0.0015881778397034091, 0.0016001725905540763, 0.0016215860842195488, 0.0016333607735970681, 0.0016419084793398251, 0.001713038614145947, 0.001730569907617044, 0.0017701823798619628, 0.0017706010484655694, 0.001776859337549115, 0.0018629794700899282, 0.0018672517204492171, 0.0018975974331989977, 0.0018980174428286528, 0.0019090194879970966, 0.0019343381015053305, 0.0019445162792797585, 0.0019608957512131753, 0.0020055765898005433, 0.0020167322381520096, 0.0020209908462581797, 0.0020505447256964886, 0.0020850784510973021, 0.0020977010172353815, 0.0021017389032799705, 0.0021543787605075903, 0.0021662869098907941, 0.0021775732649931801, 0.0022095798481872419, 0.0022100221110622313, 0.0022368086326408211, 0.0022421441096999602, 0.0022687048104837598, 0.0023175426162517646, 0.0023740617165765084, 0.0023812576621806115, 0.0023871708271695699, 0.0023939216298453736, 0.0024293199814386011, 0.0025185629566821578, 0.0025277645717132319, 0.0025380969284764139, 0.0025500617364805473, 0.0025558723289586839, 0.0025580307735436104, 0.0025776775353474782, 0.002617503036642101, 0.0026472337208783511, 0.0026860265213953416, 0.0027114863067593162, 0.0027313129541813442, 0.0027332474583845767, 0.002754716305483389, 0.0027585209530423087, 0.0027904521007646233, 0.0027943799923386015, 0.0028493475983224553, 0.0028559814153283156, 0.0029217959801992373, 0.0029219870492205634, 0.0029304520645170406, 0.0030125264328218345, 0.0030460980884301049, 0.0030463058290894165, 0.0030727272682029481, 0.0030731206240263687, 0.0031206288310590457, 0.0031771341930112171, 0.0031775549615624169, 0.003196082583456794, 0.0032213960163913107, 0.0032550033245055702, 0.0032679304093744957, 0.0033183663661375123, 0.0033548023627859342, 0.0033630150938753866, 0.003365185361682079, 0.0034349608472229267, 0.0034619101311347384, 0.0034670184749990953, 0.0034948422484461362, 0.0035377206358142795, 0.0035464822162072631, 0.0035595276145060418, 0.0035772542559187942, 0.0036462663538860455, 0.0037144506359152404, 0.0037158124758823272, 0.0037528092598819911, 0.0037552668813903064, 0.0039350186062669257, 0.0039400858313066523, 0.0040631284932504961, 0.0041397475043889135, 0.0041748371841514786, 0.0041861028393952024, 0.0041979608171028391, 0.0042732208828748812, 0.004416856820804972, 0.0044297099178352492, 0.0044316096588579539, 0.0044964504291895354, 0.0045619221203282182, 0.0046002716378019219, 0.0047038190649499956, 0.0047853196973417968, 0.0049273861632815781, 0.0049591708976618595, 0.0051859846467993955, 0.0051903108776368504, 0.0052662309058160821, 0.005387816116056092, 0.0056029425208792144, 0.0057160029371802531, 0.0057937277969929276, 0.0058319690480084369, 0.0060205436126335495, 0.0061087161567428775, 0.0061291890076714678, 0.0064410640291903279, 0.0067259450221459549, 0.006809842863852637, 0.0070795346562413947, 0.0073106160861758744, 0.007454638485601647, 0.0076487853140953226, 0.0076661916595334801, 0.0077459541444137086, 0.0077720655467993774, 0.0079819755654773547, 0.007984513234073445, 0.0080928311126472821, 0.0082143182724396923, 0.008957260849922587, 0.0090206625526253296, 0.0090433761079144609, 0.0094109700862169653, 0.0096001367872688755, 0.0096840782174314535, 0.01003181310148782, 0.010067816403640155, 0.010925846517223455, 0.01111611684046066, 0.011342395040555625, 0.011580709997347567, 0.011615835791133596, 0.011765748683330189, 0.012117002608859251, 0.012247522250486026, 0.012320686783324427, 0.012336202408165915, 0.012403092979182143, 0.012613384558851725, 0.012741309054297488, 0.012874130623781066, 0.013087238113087899, 0.013228434774041896, 0.013383798125794317, 0.013672737883162676, 0.013796273641311974, 0.014084733063725556, 0.015218980681859898, 0.015239270883088227, 0.015537884091902829, 0.015932535474289012, 0.015937583811841859, 0.016767485898276511, 0.017115885968967352, 0.01740104922038482, 0.018713660457827758, 0.020501846895038284, 0.020508717331816795, 0.020641581734729301, 0.020778077491037564, 0.020925877895341581, 0.023202169522449276, 0.024608921828060282, 0.024955582293899853, 0.028010409640722655, 0.03235296446107868, 0.035549245971712481, 0.036630009601052671, 0.041438148687407889, 0.043699512064995394, 0.0460001546687651, 0.048485332173604637, 0.053851046896851974, 0.056585933646117317, 0.062313449567152998, 0.066538783564672993, 0.067204310901201825, 0.068247464139321048, 0.069808060859160262, 0.079893007593787549, 0.094823694920541976, 0.13862619227353604, 0.19432448576211603, 0.30322580388590675, 0.36392721107679554, 0.44452858027905023, 0.4487078937144845, 0.47023592806677156, 0.57634618907847135, 0.5872424136502451, 0.64219628398331763, 0.67103740269881962, 0.78055351707888854]\n"
     ]
    }
   ],
   "source": [
    "print list(pr_df['thresholds'][idx])"
   ]
  },
  {
   "cell_type": "code",
   "execution_count": 104,
   "metadata": {
    "collapsed": true
   },
   "outputs": [
    {
     "name": "stdout",
     "output_type": "stream",
     "text": [
      "[1.0, 0.99539170506912444, 0.99539170506912444, 0.99539170506912444, 0.99078341013824889, 0.98617511520737322, 0.98617511520737322, 0.98617511520737322, 0.98156682027649766, 0.98156682027649766, 0.98156682027649766, 0.98156682027649766, 0.98156682027649766, 0.98156682027649766, 0.98156682027649766, 0.98156682027649766, 0.98156682027649766, 0.98156682027649766, 0.98156682027649766, 0.98156682027649766, 0.97695852534562211, 0.97695852534562211, 0.97235023041474655, 0.967741935483871, 0.967741935483871, 0.967741935483871, 0.967741935483871, 0.967741935483871, 0.967741935483871, 0.967741935483871, 0.967741935483871, 0.967741935483871, 0.967741935483871, 0.967741935483871, 0.95852534562211977, 0.95852534562211977, 0.95852534562211977, 0.95852534562211977, 0.95391705069124422, 0.95391705069124422, 0.95391705069124422, 0.95391705069124422, 0.94930875576036866, 0.94930875576036866, 0.94930875576036866, 0.9447004608294931, 0.9447004608294931, 0.9447004608294931, 0.9447004608294931, 0.9447004608294931, 0.9447004608294931, 0.9447004608294931, 0.9447004608294931, 0.9447004608294931, 0.9447004608294931, 0.94009216589861755, 0.94009216589861755, 0.93087557603686633, 0.93087557603686633, 0.92165898617511521, 0.92165898617511521, 0.92165898617511521, 0.91705069124423966, 0.91705069124423966, 0.91705069124423966, 0.91705069124423966, 0.90322580645161288, 0.90322580645161288, 0.89861751152073732, 0.89400921658986177, 0.88018433179723499, 0.88018433179723499, 0.87096774193548387, 0.87096774193548387, 0.85253456221198154, 0.85253456221198154, 0.83870967741935487, 0.83870967741935487, 0.83410138248847931, 0.82488479262672809, 0.81566820276497698, 0.79262672811059909, 0.79262672811059909, 0.77880184331797231, 0.74193548387096775, 0.64055299539170507, 0.42396313364055299, 0.42396313364055299, 0.42396313364055299, 0.42396313364055299, 0.42396313364055299, 0.42396313364055299, 0.42396313364055299, 0.42396313364055299, 0.42396313364055299, 0.42396313364055299, 0.42396313364055299, 0.42396313364055299, 0.41935483870967744, 0.41935483870967744, 0.41935483870967744, 0.41935483870967744, 0.41935483870967744, 0.41935483870967744, 0.41935483870967744, 0.41935483870967744, 0.41935483870967744, 0.41935483870967744, 0.41935483870967744, 0.41935483870967744, 0.41935483870967744, 0.41935483870967744, 0.41935483870967744, 0.41935483870967744, 0.41935483870967744, 0.41935483870967744, 0.41935483870967744, 0.41935483870967744, 0.41935483870967744, 0.41935483870967744, 0.41935483870967744, 0.41935483870967744, 0.41935483870967744, 0.41935483870967744, 0.41935483870967744, 0.41935483870967744, 0.41935483870967744, 0.41474654377880182, 0.41474654377880182, 0.41474654377880182, 0.41474654377880182, 0.41474654377880182, 0.41474654377880182, 0.41474654377880182, 0.41474654377880182, 0.41474654377880182, 0.41474654377880182, 0.41474654377880182, 0.41474654377880182, 0.41474654377880182, 0.41474654377880182, 0.41474654377880182, 0.41474654377880182, 0.41474654377880182, 0.41474654377880182, 0.41474654377880182, 0.41013824884792627, 0.41013824884792627, 0.41013824884792627, 0.41013824884792627, 0.40552995391705071, 0.4009216589861751, 0.4009216589861751, 0.4009216589861751, 0.4009216589861751, 0.4009216589861751, 0.4009216589861751, 0.4009216589861751, 0.4009216589861751, 0.39631336405529954, 0.39631336405529954, 0.39631336405529954, 0.39631336405529954, 0.39631336405529954, 0.39631336405529954, 0.39631336405529954, 0.39631336405529954, 0.39170506912442399, 0.38709677419354838, 0.38709677419354838, 0.38248847926267282, 0.38248847926267282, 0.38248847926267282, 0.38248847926267282, 0.38248847926267282, 0.38248847926267282, 0.38248847926267282, 0.38248847926267282, 0.38248847926267282, 0.37788018433179721, 0.37788018433179721, 0.37788018433179721, 0.37788018433179721, 0.37788018433179721, 0.37327188940092165, 0.37327188940092165, 0.37327188940092165, 0.37327188940092165, 0.37327188940092165, 0.3686635944700461, 0.36405529953917048, 0.36405529953917048, 0.36405529953917048, 0.35944700460829493, 0.35944700460829493, 0.35483870967741937, 0.35483870967741937, 0.35483870967741937, 0.35483870967741937, 0.35023041474654376, 0.35023041474654376, 0.35023041474654376, 0.34562211981566821, 0.34562211981566821, 0.34562211981566821, 0.34562211981566821, 0.34562211981566821, 0.34101382488479265, 0.33640552995391704, 0.33640552995391704, 0.33640552995391704, 0.33640552995391704, 0.33640552995391704, 0.33640552995391704, 0.33640552995391704, 0.33179723502304148, 0.32718894009216593, 0.32718894009216593, 0.32718894009216593, 0.32718894009216593, 0.32718894009216593, 0.32718894009216593, 0.32258064516129031, 0.32258064516129031, 0.32258064516129031, 0.31797235023041476, 0.31797235023041476, 0.31336405529953915, 0.31336405529953915, 0.30875576036866359, 0.30414746543778803, 0.30414746543778803, 0.30414746543778803, 0.29953917050691242, 0.29953917050691242, 0.29953917050691242, 0.29953917050691242, 0.29953917050691242, 0.29953917050691242, 0.29953917050691242, 0.29953917050691242, 0.29953917050691242, 0.29953917050691242, 0.29953917050691242, 0.29493087557603687, 0.29493087557603687, 0.29032258064516131, 0.29032258064516131, 0.29032258064516131, 0.29032258064516131, 0.2857142857142857, 0.2857142857142857, 0.2857142857142857, 0.2857142857142857, 0.2857142857142857, 0.2857142857142857, 0.2857142857142857, 0.2857142857142857, 0.2857142857142857, 0.2857142857142857, 0.2857142857142857, 0.2857142857142857, 0.2857142857142857, 0.2857142857142857, 0.2857142857142857, 0.2857142857142857, 0.28110599078341014, 0.28110599078341014, 0.28110599078341014, 0.28110599078341014, 0.28110599078341014, 0.28110599078341014, 0.28110599078341014, 0.28110599078341014, 0.28110599078341014, 0.28110599078341014, 0.27649769585253459, 0.27188940092165897, 0.27188940092165897, 0.27188940092165897, 0.27188940092165897, 0.27188940092165897, 0.27188940092165897, 0.27188940092165897, 0.27188940092165897, 0.27188940092165897, 0.27188940092165897, 0.27188940092165897, 0.27188940092165897, 0.27188940092165897, 0.27188940092165897, 0.27188940092165897, 0.26728110599078342, 0.26267281105990781, 0.26267281105990781, 0.26267281105990781, 0.25806451612903225, 0.25806451612903225, 0.25806451612903225, 0.25345622119815669, 0.24884792626728111, 0.24884792626728111, 0.24423963133640553, 0.24423963133640553, 0.24423963133640553, 0.24423963133640553, 0.24423963133640553, 0.24423963133640553, 0.23963133640552994, 0.23963133640552994, 0.23502304147465439, 0.23502304147465439, 0.2304147465437788, 0.2304147465437788, 0.22580645161290322, 0.22580645161290322, 0.22580645161290322, 0.22119815668202766, 0.22119815668202766, 0.21658986175115208, 0.21658986175115208, 0.2119815668202765, 0.2119815668202765, 0.2119815668202765, 0.20737327188940091, 0.20276497695852536, 0.19815668202764977, 0.19815668202764977, 0.19815668202764977, 0.19815668202764977, 0.19815668202764977, 0.19815668202764977, 0.19354838709677419, 0.1889400921658986, 0.1889400921658986, 0.1889400921658986, 0.1889400921658986, 0.18433179723502305, 0.18433179723502305, 0.18433179723502305, 0.18433179723502305, 0.18433179723502305, 0.18433179723502305, 0.17972350230414746, 0.17511520737327188, 0.17511520737327188, 0.17050691244239632, 0.17050691244239632, 0.17050691244239632, 0.16589861751152074, 0.16589861751152074, 0.16129032258064516, 0.15668202764976957, 0.15668202764976957, 0.15207373271889402, 0.14746543778801843, 0.14746543778801843, 0.14746543778801843, 0.14285714285714285, 0.13824884792626729, 0.13364055299539171, 0.12903225806451613, 0.12442396313364056, 0.11981566820276497, 0.11981566820276497, 0.11981566820276497, 0.11981566820276497, 0.1152073732718894, 0.11059907834101383, 0.11059907834101383, 0.10599078341013825, 0.10138248847926268, 0.096774193548387094, 0.096774193548387094, 0.092165898617511524, 0.08755760368663594, 0.08294930875576037, 0.078341013824884786, 0.073732718894009217, 0.069124423963133647, 0.064516129032258063, 0.059907834101382486, 0.055299539170506916, 0.050691244239631339, 0.046082949308755762, 0.041474654377880185, 0.036866359447004608, 0.032258064516129031, 0.027649769585253458, 0.027649769585253458, 0.027649769585253458, 0.023041474654377881, 0.018433179723502304, 0.013824884792626729, 0.0092165898617511521, 0.004608294930875576]\n"
     ]
    }
   ],
   "source": [
    "cutoff = int(77389*0.996)\n",
    "c = 'recall'\n",
    "print list(pr_df.ix[range(0, cutoff, 900)][c]) + list(pr_df.ix[range(cutoff, 77389, 1)][c])"
   ]
  },
  {
   "cell_type": "code",
   "execution_count": null,
   "metadata": {
    "collapsed": true
   },
   "outputs": [],
   "source": []
  }
 ],
 "metadata": {
  "kernelspec": {
   "display_name": "Python 2",
   "language": "python",
   "name": "python2"
  },
  "language_info": {
   "codemirror_mode": {
    "name": "ipython",
    "version": 2
   },
   "file_extension": ".py",
   "mimetype": "text/x-python",
   "name": "python",
   "nbconvert_exporter": "python",
   "pygments_lexer": "ipython2",
   "version": "2.7.11"
  }
 },
 "nbformat": 4,
 "nbformat_minor": 0
}
