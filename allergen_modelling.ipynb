{
 "cells": [
  {
   "cell_type": "code",
   "execution_count": 20,
   "metadata": {
    "collapsed": false,
    "scrolled": false
   },
   "outputs": [],
   "source": [
    "import pandas as pd\n",
    "import numpy as np\n",
    "import cPickle as pickle\n",
    "from sklearn import metrics\n",
    "import matplotlib.pyplot as plt\n",
    "%matplotlib inline\n",
    "from scipy import interp\n",
    "from itertools import cycle\n",
    "\n",
    "from sklearn import metrics\n",
    "from sklearn import svm, datasets\n",
    "from sklearn.metrics import roc_curve, auc, confusion_matrix, classification_report, precision_recall_curve, average_precision_score, f1_score, accuracy_score\n",
    "from sklearn.model_selection import StratifiedKFold, cross_val_score, train_test_split, GridSearchCV, RandomizedSearchCV\n",
    "from sklearn.cross_validation import StratifiedShuffleSplit\n",
    "from sklearn.ensemble import GradientBoostingClassifier, RandomForestClassifier\n",
    "from sklearn.preprocessing import StandardScaler\n",
    "from sklearn.semi_supervised import label_propagation\n",
    "from sklearn.naive_bayes import GaussianNB, MultinomialNB\n",
    "from sklearn.feature_extraction.text import TfidfVectorizer\n",
    "from sklearn.metrics.pairwise import cosine_similarity\n",
    "from sklearn.pipeline import Pipeline, FeatureUnion\n",
    "from sklearn.linear_model import LogisticRegressionCV\n",
    "from sklearn.svm import SVC\n",
    "\n",
    "def cross_val_roc(classifier, X, y, n_splits=3, balance=False, test_size=0.25):\n",
    "    # Run classifier with cross-validation and plot ROC curves\n",
    "    mean_tpr = 0.0\n",
    "    mean_fpr = np.linspace(0, 1, 100)\n",
    "\n",
    "    colors = cycle(['cyan', 'indigo', 'seagreen', 'yellow', 'blue', 'darkorange'])\n",
    "    lw = 2\n",
    "    plt.clf()\n",
    "    plt.figure(figsize=(8,6));\n",
    "    \n",
    "    if balance:\n",
    "        splits = StratifiedShuffleSplit(y, n_splits, test_size=test_size)\n",
    "    else:\n",
    "        splits = StratifiedKFold(n_splits=n_splits, shuffle=True).split(X, y)\n",
    "    \n",
    "    i = 0\n",
    "    for (train, test), color in zip(splits, colors):\n",
    "        X_train, X_test = X.ix[train], X.ix[test]\n",
    "        y_train, y_test = y.ix[train], y.ix[test]\n",
    "        if balance:\n",
    "            X_train, y_train = balance_train_index(X_train, y_train)\n",
    "        \n",
    "        probas_ = classifier.fit(X_train, y_train).predict_proba(X_test)\n",
    "        # Compute ROC curve and area the curve\n",
    "        fpr, tpr, thresholds = roc_curve(y_test, probas_[:, 1])\n",
    "        mean_tpr += interp(mean_fpr, fpr, tpr)\n",
    "        mean_tpr[0] = 0.0\n",
    "        roc_auc = auc(fpr, tpr)\n",
    "        plt.plot(fpr, tpr, lw=lw, color=color,\n",
    "                 label='ROC fold %d (area = %0.2f)' % (i, roc_auc))\n",
    "\n",
    "        i += 1\n",
    "    plt.plot([0, 1], [0, 1], linestyle='--', lw=lw, color='k',\n",
    "             label='Luck')\n",
    "\n",
    "    mean_tpr /= n_splits\n",
    "    mean_tpr[-1] = 1.0\n",
    "    mean_auc = auc(mean_fpr, mean_tpr)\n",
    "    plt.plot(mean_fpr, mean_tpr, color='g', linestyle='--',\n",
    "             label='Mean ROC (area = %0.2f)' % mean_auc, lw=lw)\n",
    "\n",
    "    plt.xlim([-0.05, 1.05])\n",
    "    plt.ylim([-0.05, 1.05])\n",
    "    plt.xlabel('False Positive Rate')\n",
    "    plt.ylabel('True Positive Rate')\n",
    "    plt.title('Receiver operating characteristic example')\n",
    "    plt.legend(loc=\"lower right\")\n",
    "    plt.show();\n",
    "\n",
    "def cv_score(clf, X, y, cv=5, scoring='f1'):\n",
    "    print scoring + ' cross validation score: ' + str(np.mean(cross_val_score(rf, X, y, cv=cv, scoring=scoring)))\n",
    "    \n",
    "def combine_and_balance_dfs(df1, df2, minority_fraction=0.5, ignore_index=True):\n",
    "    if df1.shape[0] > df2.shape[0]:\n",
    "        df1, df2 = df2, df1\n",
    "    m = int(df1.shape[0]*(1.0/minority_fraction - 1))\n",
    "    if m > df2.shape[0]:\n",
    "        print 'majority df too small to achieve desired minority fraction'\n",
    "        m = df2.shape[0]\n",
    "    return df1.append(df2.sample(m), ignore_index=ignore_index)\n",
    "\n",
    "def balance_train_index(X_train, y_train):\n",
    "    pos_index = y_train[y_train == 1].index\n",
    "    neg_index = y_train[y_train == 0].index\n",
    "    reduced_neg_index = np.random.choice(neg_index, pos_index.shape[0], replace=False)\n",
    "    b_index = pos_index.tolist() + reduced_neg_index.tolist()\n",
    "    return X_train.ix[b_index], y_train.ix[b_index]\n",
    "\n",
    "#Balances training split but not testing split\n",
    "def balanced_train_test_split(X, y, test_size=0.5):\n",
    "    X_train, X_test, y_train, y_test = train_test_split(X, y, test_size=test_size)\n",
    "    X_train, y_train = balance_train_index(X_train, y_train)\n",
    "    return X_train, X_test, y_train, y_test\n",
    "\n",
    "def plot_multiple_precision_recall_curves(y_true, y_pred_probas, baseline=0):\n",
    "    plt.clf();\n",
    "    n_rows = len(y_true)/2 if len(y_true) % 2 == 0 else len(y_true)/2 + 1\n",
    "    fig, axes = plt.subplots(n_rows, 2, figsize=(20,20))\n",
    "    for ax, tup in zip(axes.flatten(), zip(y_true, y_pred_probas)):\n",
    "        yt, yp = tup   \n",
    "        precision, recall, _ = precision_recall_curve(yt, yp)\n",
    "        avg_precision = average_precision_score(yt, yp)\n",
    "        ax.plot(recall, precision, color='navy', label='Precision-Recall curve');\n",
    "        ax.plot([0, 1], [baseline, baseline], linestyle='--', label='Baseline')\n",
    "        ax.set_xlabel('Recall')\n",
    "        ax.set_ylabel('Precision')\n",
    "        ax.set_ylim([0.0, 1.05])\n",
    "        ax.set_xlim([0.0, 1.0])\n",
    "        ax.set_title('Precision-Recall example: AUC={0:0.2f}'.format(avg_precision))\n",
    "        ax.legend(loc=\"lower left\")\n",
    "    plt.show();\n",
    "\n",
    "def cross_val_pr_curve(classifier, X, y, n_splits=4, baseline=0, balance=False):\n",
    "    plt.clf()\n",
    "    plt.figure(figsize=(8,6));\n",
    "\n",
    "    splits = StratifiedKFold(n_splits=n_splits, shuffle=True).split(X, y)\n",
    "    AUCs = []\n",
    "    \n",
    "    for (train, test) in splits:\n",
    "        X_train, X_test = X.ix[train], X.ix[test]\n",
    "        y_train, y_test = y.ix[train], y.ix[test]\n",
    "        if balance:\n",
    "            X_train, y_train = balance_train_index(X_train, y_train)\n",
    "        probas_ = classifier.fit(X_train, y_train).predict_proba(X_test)\n",
    "        # Compute ROC curve and area the curve\n",
    "        precision, recall, _ = precision_recall_curve(y_test, probas_[:, 1])\n",
    "        AUCs.append(average_precision_score(y_test, probas_[:, 1]))\n",
    "        plt.plot(recall, precision, color='navy', label='Precision-Recall curve');\n",
    "        \n",
    "    plt.plot([0, 1], [baseline, baseline], linestyle='--', label='Baseline')\n",
    "    plt.xlabel('Recall')\n",
    "    plt.ylabel('Precision')\n",
    "    plt.ylim([0.0, 1.05])\n",
    "    plt.xlim([0.0, 1.0])\n",
    "    plt.title('Precision-Recall example: Average AUC={0:0.2f}'.format(np.mean(AUCs)))\n",
    "    plt.legend(loc=\"lower left\")\n",
    "    plt.show();\n",
    "    \n",
    "def plot_precision_recall_curve(y_true, y_pred_probas, baseline=0):\n",
    "    plt.clf();\n",
    "    plt.figure(figsize=(20,15));\n",
    "    precision, recall, _ = precision_recall_curve(y_true, y_pred_probas)\n",
    "    avg_precision = average_precision_score(y_true, y_pred_probas)\n",
    "    plt.plot(recall, precision, color='navy', label='Precision-Recall curve');\n",
    "    plt.plot([0, 1], [baseline, baseline], linestyle='--', label='Baseline')\n",
    "    plt.xlabel('Recall')\n",
    "    plt.ylabel('Precision')\n",
    "    plt.ylim([0.0, 1.05])\n",
    "    plt.xlim([0.0, 1.0])\n",
    "    plt.title('Precision-Recall example: AUC={0:0.2f}'.format(avg_precision))\n",
    "    plt.legend(loc=\"lower left\")\n",
    "    plt.savefig(\"nb_pr_curve.pdf\")\n",
    "    plt.show();\n",
    "\n",
    "def rebalance_df(df, minority_fraction=0.5):\n",
    "    pos_df = df[df['allergen'] == 1]\n",
    "    neg_df = df[df['allergen'] == 0]\n",
    "    return combine_and_balance_dfs(pos_df, neg_df, minority_fraction=minority_fraction)\n",
    "\n",
    "def df_ratio(df):\n",
    "    return df[df['allergen'] == 1].shape[0]*1.0/df.shape[0]"
   ]
  },
  {
   "cell_type": "code",
   "execution_count": 2,
   "metadata": {
    "collapsed": false,
    "scrolled": true
   },
   "outputs": [],
   "source": [
    "with open('pickles/full_ABT_df.pkl', 'r') as fin:\n",
    "    df = pickle.load(fin)"
   ]
  },
  {
   "cell_type": "code",
   "execution_count": 3,
   "metadata": {
    "collapsed": false
   },
   "outputs": [],
   "source": [
    "percents = [0.004, 0.007, 0.01, 0.05, 0.2, 0.4, 0.5]\n",
    "percent_dfs = []\n",
    "for p in percents:\n",
    "    percent_dfs.append(rebalance_df(df, minority_fraction=p))\n",
    "\n",
    "sdf = df.sample(50000).reset_index(drop=True)"
   ]
  },
  {
   "cell_type": "code",
   "execution_count": 4,
   "metadata": {
    "collapsed": false,
    "scrolled": true
   },
   "outputs": [
    {
     "name": "stdout",
     "output_type": "stream",
     "text": [
      "0.00217825463177\n",
      "0.002\n",
      "0.004\n",
      "0.00700002297601\n",
      "0.01\n",
      "0.05\n",
      "0.2\n",
      "0.4\n",
      "0.5\n"
     ]
    }
   ],
   "source": [
    "print df_ratio(df)\n",
    "print df_ratio(sdf)\n",
    "for percent_df in percent_dfs:\n",
    "    print df_ratio(percent_df)"
   ]
  },
  {
   "cell_type": "code",
   "execution_count": 19,
   "metadata": {
    "collapsed": false
   },
   "outputs": [],
   "source": []
  },
  {
   "cell_type": "markdown",
   "metadata": {},
   "source": [
    "## balanced versus unbalanced training"
   ]
  },
  {
   "cell_type": "code",
   "execution_count": 5,
   "metadata": {
    "collapsed": true
   },
   "outputs": [],
   "source": [
    "class TfidfVectorizerPlus:\n",
    "    def __init__(self, ngram_range=(1,3)):\n",
    "        self.vectorizer = TfidfVectorizer(analyzer='char', ngram_range=ngram_range)\n",
    "        \n",
    "    def fit_transform(self, X, y):\n",
    "        self.fit(X, y)\n",
    "        return self.transform(X)\n",
    "\n",
    "    def fit(self, X, y):\n",
    "        self.vectorizer.fit(X['sequence'].copy())\n",
    "\n",
    "    def transform(self, X):\n",
    "        tfidf = pd.DataFrame(self.vectorizer.transform(X['sequence'].copy()).toarray())\n",
    "        return pd.concat([pd.DataFrame(X.drop('sequence', axis=1).as_matrix())\n",
    "                          ,tfidf], axis=1)\n",
    "        "
   ]
  },
  {
   "cell_type": "code",
   "execution_count": 18,
   "metadata": {
    "collapsed": false,
    "scrolled": true
   },
   "outputs": [],
   "source": [
    "rf = RandomForestClassifier()\n",
    "svc = SVC(probability=True)\n",
    "lr = LogisticRegressionCV()\n",
    "\n",
    "gb = GradientBoostingClassifier(n_estimators=100, learning_rate=0.1, max_depth=5, min_samples_leaf=17)\n",
    "\n",
    "gb_tfidf = Pipeline([('vect', TfidfVectorizerPlus(ngram_range=(1,2))), \n",
    "                     ('gb', gb)])\n",
    "\n",
    "gb_tfidf_no_features = Pipeline([('vect', TfidfVectorizer(analyzer='char', ngram_range=(1,1))), \n",
    "                       ('gb', gb)])\n",
    "\n",
    "rf_tfidf = Pipeline([('vect', TfidfVectorizerPlus(ngram_range=(2,2))), \n",
    "                     ('rf', rf)])\n",
    "\n",
    "rf_tfidf_no_features = Pipeline([('vect', TfidfVectorizer(analyzer='char', ngram_range=(1,2))), \n",
    "                       ('rf', rf)])\n",
    "\n",
    "svc_tfidf = Pipeline([('vect', TfidfVectorizerPlus(ngram_range=(1,2))), \n",
    "                     ('svc', svc)])\n",
    "\n",
    "lr_tfidf = Pipeline([('vect', TfidfVectorizerPlus(ngram_range=(1,4))), \n",
    "                     ('lr', lr)])\n",
    "\n",
    "#class_prior=(1 - df_ratio(df), df_ratio(df))\n",
    "nb = Pipeline([('vect', TfidfVectorizer(analyzer='char', ngram_range=(4,5))), \n",
    "               ('nb', MultinomialNB(class_prior=(1 - df_ratio(df), df_ratio(df))))])\n",
    "\n",
    "\n",
    "def evaluate_models(tests, classifiers, balance=False):\n",
    "    for X, y, m in tests:\n",
    "        for bal in list(balance):\n",
    "            for clf in classifiers:\n",
    "                print '\\n\\n', m\n",
    "                print 'balanced training data: ', str(bal)\n",
    "                print str(clf).split('(')[0]\n",
    "                if bal:\n",
    "                    X_train, X_test, y_train, y_test = balanced_train_test_split(X, y, test_size=.25)\n",
    "                else:\n",
    "                    X_train, X_test, y_train, y_test = train_test_split(X, y, test_size=.25)\n",
    "                clf.fit(X_train, y_train)\n",
    "                y_pred = clf.predict(X_test)\n",
    "                y_pred_proba = clf.predict_proba(X_test)\n",
    "                print 'f1 score: ', f1_score(y_test, y_pred)\n",
    "                print 'allergens in y_test and y_pred: ', sum(y_test), sum(y_pred)\n",
    "                plot_precision_recall_curve(y_test, y_pred_proba[:, 1], baseline=m[0])\n",
    "#                 cross_val_pr_curve(clf, X, y, baseline=m[0], balance=bal)\n",
    "#                 cross_val_roc(clf, X, y, balance=bal)\n",
    "                print '\\n\\n'"
   ]
  },
  {
   "cell_type": "markdown",
   "metadata": {},
   "source": [
    "### dropping aa frequencies significantly decreases performance for GB"
   ]
  },
  {
   "cell_type": "code",
   "execution_count": 8,
   "metadata": {
    "collapsed": false
   },
   "outputs": [
    {
     "name": "stdout",
     "output_type": "stream",
     "text": [
      "\n",
      "\n",
      "('0.00217825463177', 'df')\n",
      "balanced training data:  False\n",
      "GradientBoostingClassifier\n",
      "f1 score:  0.00778210116732\n",
      "allergens in y_test and y_pred:  237 20\n"
     ]
    },
    {
     "data": {
      "text/plain": [
       "<matplotlib.figure.Figure at 0x11e8b0c50>"
      ]
     },
     "metadata": {},
     "output_type": "display_data"
    },
    {
     "data": {
      "image/png": "[encoded data removed]",
      "text/plain": [
       "<matplotlib.figure.Figure at 0x1179eb150>"
      ]
     },
     "metadata": {},
     "output_type": "display_data"
    },
    {
     "name": "stdout",
     "output_type": "stream",
     "text": [
      "\n",
      "\n",
      "\n"
     ]
    }
   ],
   "source": [
    "# X = df[[u'gravy', u'sheet', u'isoelectric_point', u'turn', u'helix', u'aromaticity']].copy()\n",
    "X = df.drop(['sequence','allergen'], axis=1)\n",
    "y = df['allergen'].copy()\n",
    "m = (str(df_ratio(df)), 'df')\n",
    "classifiers = [gb]\n",
    "tests = [(X, y, m)]\n",
    "evaluate_models(tests, classifiers, balance=[False])"
   ]
  },
  {
   "cell_type": "markdown",
   "metadata": {},
   "source": [
    "### rf versus rf_tfidf versus rf_tfidf_no_features"
   ]
  },
  {
   "cell_type": "code",
   "execution_count": 14,
   "metadata": {
    "collapsed": false
   },
   "outputs": [
    {
     "name": "stdout",
     "output_type": "stream",
     "text": [
      "\n",
      "\n",
      "('0.00217825463177', 'df')\n",
      "balanced training data:  False\n",
      "RandomForestClassifier\n",
      "f1 score:  0.0779220779221\n",
      "allergens in y_test and y_pred:  219 12\n"
     ]
    },
    {
     "data": {
      "text/plain": [
       "<matplotlib.figure.Figure at 0x115065890>"
      ]
     },
     "metadata": {},
     "output_type": "display_data"
    },
    {
     "data": {
      "image/png": "[encoded data removed]",
      "text/plain": [
       "<matplotlib.figure.Figure at 0x124a84c90>"
      ]
     },
     "metadata": {},
     "output_type": "display_data"
    },
    {
     "name": "stdout",
     "output_type": "stream",
     "text": [
      "\n",
      "\n",
      "\n"
     ]
    }
   ],
   "source": [
    "X = df.drop(['sequence','allergen'], axis=1)\n",
    "y = df['allergen'].copy()\n",
    "m = (str(df_ratio(df)), 'df')\n",
    "classifiers = [rf]\n",
    "tests = [(X, y, m)]\n",
    "evaluate_models(tests, classifiers, balance=[False])"
   ]
  },
  {
   "cell_type": "code",
   "execution_count": 79,
   "metadata": {
    "collapsed": true
   },
   "outputs": [
    {
     "name": "stdout",
     "output_type": "stream",
     "text": [
      "\n",
      "\n",
      "('0.00283653147693', 'df')\n",
      "balanced training data:  False\n",
      "Pipeline\n",
      "f1 score:  0.289215686275\n",
      "allergens in y_test and y_pred:  344 64\n"
     ]
    },
    {
     "data": {
      "text/plain": [
       "<matplotlib.figure.Figure at 0x129262790>"
      ]
     },
     "metadata": {},
     "output_type": "display_data"
    },
    {
     "data": {
      "image/png": "[encoded data removed]",
      "text/plain": [
       "<matplotlib.figure.Figure at 0x12924c810>"
      ]
     },
     "metadata": {},
     "output_type": "display_data"
    },
    {
     "name": "stdout",
     "output_type": "stream",
     "text": [
      "\n",
      "\n",
      "\n"
     ]
    }
   ],
   "source": [
    "X = df.drop(['allergen'], axis=1)\n",
    "y = df['allergen'].copy()\n",
    "m = (str(df_ratio(df)), 'df')\n",
    "classifiers = [rf_tfidf]\n",
    "tests = [(X, y, m)]\n",
    "evaluate_models(tests, classifiers, balance=[False])"
   ]
  },
  {
   "cell_type": "code",
   "execution_count": 80,
   "metadata": {
    "collapsed": true
   },
   "outputs": [
    {
     "name": "stdout",
     "output_type": "stream",
     "text": [
      "\n",
      "\n",
      "('0.00283653147693', 'df')\n",
      "balanced training data:  False\n",
      "Pipeline\n",
      "f1 score:  0.244444444444\n",
      "allergens in y_test and y_pred:  313 47\n"
     ]
    },
    {
     "data": {
      "text/plain": [
       "<matplotlib.figure.Figure at 0x129261dd0>"
      ]
     },
     "metadata": {},
     "output_type": "display_data"
    },
    {
     "data": {
      "image/png": "[encoded data removed]",
      "text/plain": [
       "<matplotlib.figure.Figure at 0x15a57e590>"
      ]
     },
     "metadata": {},
     "output_type": "display_data"
    },
    {
     "name": "stdout",
     "output_type": "stream",
     "text": [
      "\n",
      "\n",
      "\n"
     ]
    }
   ],
   "source": [
    "X = df['sequence'].copy()\n",
    "y = df['allergen'].copy()\n",
    "m = (str(df_ratio(df)), 'df')\n",
    "classifiers = [rf_tfidf_no_features]\n",
    "tests = [(X, y, m)]\n",
    "evaluate_models(tests, classifiers, balance=[False])"
   ]
  },
  {
   "cell_type": "markdown",
   "metadata": {},
   "source": [
    "### naive bayes performs best with "
   ]
  },
  {
   "cell_type": "code",
   "execution_count": null,
   "metadata": {
    "collapsed": false
   },
   "outputs": [],
   "source": []
  },
  {
   "cell_type": "code",
   "execution_count": 22,
   "metadata": {
    "collapsed": false,
    "scrolled": false
   },
   "outputs": [
    {
     "name": "stdout",
     "output_type": "stream",
     "text": [
      "(4, 5)\n",
      "\n",
      "\n",
      "('0.002', 'sdf')\n",
      "balanced training data:  True\n",
      "Pipeline\n",
      "f1 score:  0.057372346529\n",
      "allergens in y_test and y_pred:  249 6723\n"
     ]
    },
    {
     "data": {
      "text/plain": [
       "<matplotlib.figure.Figure at 0x10b4cf850>"
      ]
     },
     "metadata": {},
     "output_type": "display_data"
    },
    {
     "data": {
      "image/png": "[encoded data removed]",
      "text/plain": [
       "<matplotlib.figure.Figure at 0x121609310>"
      ]
     },
     "metadata": {},
     "output_type": "display_data"
    },
    {
     "name": "stdout",
     "output_type": "stream",
     "text": [
      "\n",
      "\n",
      "\n"
     ]
    }
   ],
   "source": [
    "# for i in range(3):\n",
    "#     sdf = df.sample(100000).reset_index(drop=True)\n",
    "for r in [(4,4)]:\n",
    "    print r\n",
    "    nb = Pipeline([('vect', TfidfVectorizer(analyzer='char', ngram_range=r)), \n",
    "       ('nb', MultinomialNB())])\n",
    "    X = df['sequence'].copy()\n",
    "    y = df['allergen'].copy()\n",
    "    m = (str(df_ratio(sdf)), 'sdf')\n",
    "    classifiers = [nb]\n",
    "    tests = [(X, y, m)]\n",
    "    evaluate_models(tests, classifiers, balance=[True])"
   ]
  },
  {
   "cell_type": "markdown",
   "metadata": {},
   "source": [
    "### SVM"
   ]
  },
  {
   "cell_type": "code",
   "execution_count": 10,
   "metadata": {
    "collapsed": true
   },
   "outputs": [
    {
     "name": "stdout",
     "output_type": "stream",
     "text": [
      "\n",
      "\n",
      "('0.00283653147693', 'df')\n",
      "balanced training data:  True\n",
      "Pipeline\n"
     ]
    },
    {
     "ename": "KeyboardInterrupt",
     "evalue": "",
     "output_type": "error",
     "traceback": [
      "\u001b[0;31m---------------------------------------------------------------------------\u001b[0m",
      "\u001b[0;31mKeyboardInterrupt\u001b[0m                         Traceback (most recent call last)",
      "\u001b[0;32m<ipython-input-10-526fd34f7121>\u001b[0m in \u001b[0;36m<module>\u001b[0;34m()\u001b[0m\n\u001b[1;32m      4\u001b[0m \u001b[0mclassifiers\u001b[0m \u001b[0;34m=\u001b[0m \u001b[0;34m[\u001b[0m\u001b[0msvc_tfidf\u001b[0m\u001b[0;34m]\u001b[0m\u001b[0;34m\u001b[0m\u001b[0m\n\u001b[1;32m      5\u001b[0m \u001b[0mtests\u001b[0m \u001b[0;34m=\u001b[0m \u001b[0;34m[\u001b[0m\u001b[0;34m(\u001b[0m\u001b[0mX\u001b[0m\u001b[0;34m,\u001b[0m \u001b[0my\u001b[0m\u001b[0;34m,\u001b[0m \u001b[0mm\u001b[0m\u001b[0;34m)\u001b[0m\u001b[0;34m]\u001b[0m\u001b[0;34m\u001b[0m\u001b[0m\n\u001b[0;32m----> 6\u001b[0;31m \u001b[0mevaluate_models\u001b[0m\u001b[0;34m(\u001b[0m\u001b[0mtests\u001b[0m\u001b[0;34m,\u001b[0m \u001b[0mclassifiers\u001b[0m\u001b[0;34m,\u001b[0m \u001b[0mbalance\u001b[0m\u001b[0;34m=\u001b[0m\u001b[0;34m[\u001b[0m\u001b[0mTrue\u001b[0m\u001b[0;34m,\u001b[0m \u001b[0mFalse\u001b[0m\u001b[0;34m]\u001b[0m\u001b[0;34m)\u001b[0m\u001b[0;34m\u001b[0m\u001b[0m\n\u001b[0m",
      "\u001b[0;32m<ipython-input-7-081dcd8eaf3b>\u001b[0m in \u001b[0;36mevaluate_models\u001b[0;34m(tests, classifiers, balance)\u001b[0m\n\u001b[1;32m     40\u001b[0m                     \u001b[0mX_train\u001b[0m\u001b[0;34m,\u001b[0m \u001b[0mX_test\u001b[0m\u001b[0;34m,\u001b[0m \u001b[0my_train\u001b[0m\u001b[0;34m,\u001b[0m \u001b[0my_test\u001b[0m \u001b[0;34m=\u001b[0m \u001b[0mtrain_test_split\u001b[0m\u001b[0;34m(\u001b[0m\u001b[0mX\u001b[0m\u001b[0;34m,\u001b[0m \u001b[0my\u001b[0m\u001b[0;34m,\u001b[0m \u001b[0mtest_size\u001b[0m\u001b[0;34m=\u001b[0m\u001b[0;36m.25\u001b[0m\u001b[0;34m)\u001b[0m\u001b[0;34m\u001b[0m\u001b[0m\n\u001b[1;32m     41\u001b[0m                 \u001b[0mclf\u001b[0m\u001b[0;34m.\u001b[0m\u001b[0mfit\u001b[0m\u001b[0;34m(\u001b[0m\u001b[0mX_train\u001b[0m\u001b[0;34m,\u001b[0m \u001b[0my_train\u001b[0m\u001b[0;34m)\u001b[0m\u001b[0;34m\u001b[0m\u001b[0m\n\u001b[0;32m---> 42\u001b[0;31m                 \u001b[0my_pred\u001b[0m \u001b[0;34m=\u001b[0m \u001b[0mclf\u001b[0m\u001b[0;34m.\u001b[0m\u001b[0mpredict\u001b[0m\u001b[0;34m(\u001b[0m\u001b[0mX_test\u001b[0m\u001b[0;34m)\u001b[0m\u001b[0;34m\u001b[0m\u001b[0m\n\u001b[0m\u001b[1;32m     43\u001b[0m                 \u001b[0my_pred_proba\u001b[0m \u001b[0;34m=\u001b[0m \u001b[0mclf\u001b[0m\u001b[0;34m.\u001b[0m\u001b[0mpredict_proba\u001b[0m\u001b[0;34m(\u001b[0m\u001b[0mX_test\u001b[0m\u001b[0;34m)\u001b[0m\u001b[0;34m\u001b[0m\u001b[0m\n\u001b[1;32m     44\u001b[0m                 \u001b[0;32mprint\u001b[0m \u001b[0;34m'f1 score: '\u001b[0m\u001b[0;34m,\u001b[0m \u001b[0mf1_score\u001b[0m\u001b[0;34m(\u001b[0m\u001b[0my_test\u001b[0m\u001b[0;34m,\u001b[0m \u001b[0my_pred\u001b[0m\u001b[0;34m)\u001b[0m\u001b[0;34m\u001b[0m\u001b[0m\n",
      "\u001b[0;32m/Users/Jake1/anaconda/lib/python2.7/site-packages/sklearn/utils/metaestimators.pyc\u001b[0m in \u001b[0;36m<lambda>\u001b[0;34m(*args, **kwargs)\u001b[0m\n\u001b[1;32m     52\u001b[0m \u001b[0;34m\u001b[0m\u001b[0m\n\u001b[1;32m     53\u001b[0m         \u001b[0;31m# lambda, but not partial, allows help() to work with update_wrapper\u001b[0m\u001b[0;34m\u001b[0m\u001b[0;34m\u001b[0m\u001b[0m\n\u001b[0;32m---> 54\u001b[0;31m         \u001b[0mout\u001b[0m \u001b[0;34m=\u001b[0m \u001b[0;32mlambda\u001b[0m \u001b[0;34m*\u001b[0m\u001b[0margs\u001b[0m\u001b[0;34m,\u001b[0m \u001b[0;34m**\u001b[0m\u001b[0mkwargs\u001b[0m\u001b[0;34m:\u001b[0m \u001b[0mself\u001b[0m\u001b[0;34m.\u001b[0m\u001b[0mfn\u001b[0m\u001b[0;34m(\u001b[0m\u001b[0mobj\u001b[0m\u001b[0;34m,\u001b[0m \u001b[0;34m*\u001b[0m\u001b[0margs\u001b[0m\u001b[0;34m,\u001b[0m \u001b[0;34m**\u001b[0m\u001b[0mkwargs\u001b[0m\u001b[0;34m)\u001b[0m\u001b[0;34m\u001b[0m\u001b[0m\n\u001b[0m\u001b[1;32m     55\u001b[0m         \u001b[0;31m# update the docstring of the returned function\u001b[0m\u001b[0;34m\u001b[0m\u001b[0;34m\u001b[0m\u001b[0m\n\u001b[1;32m     56\u001b[0m         \u001b[0mupdate_wrapper\u001b[0m\u001b[0;34m(\u001b[0m\u001b[0mout\u001b[0m\u001b[0;34m,\u001b[0m \u001b[0mself\u001b[0m\u001b[0;34m.\u001b[0m\u001b[0mfn\u001b[0m\u001b[0;34m)\u001b[0m\u001b[0;34m\u001b[0m\u001b[0m\n",
      "\u001b[0;32m/Users/Jake1/anaconda/lib/python2.7/site-packages/sklearn/pipeline.pyc\u001b[0m in \u001b[0;36mpredict\u001b[0;34m(self, X)\u001b[0m\n\u001b[1;32m    325\u001b[0m             \u001b[0;32mif\u001b[0m \u001b[0mtransform\u001b[0m \u001b[0;32mis\u001b[0m \u001b[0;32mnot\u001b[0m \u001b[0mNone\u001b[0m\u001b[0;34m:\u001b[0m\u001b[0;34m\u001b[0m\u001b[0m\n\u001b[1;32m    326\u001b[0m                 \u001b[0mXt\u001b[0m \u001b[0;34m=\u001b[0m \u001b[0mtransform\u001b[0m\u001b[0;34m.\u001b[0m\u001b[0mtransform\u001b[0m\u001b[0;34m(\u001b[0m\u001b[0mXt\u001b[0m\u001b[0;34m)\u001b[0m\u001b[0;34m\u001b[0m\u001b[0m\n\u001b[0;32m--> 327\u001b[0;31m         \u001b[0;32mreturn\u001b[0m \u001b[0mself\u001b[0m\u001b[0;34m.\u001b[0m\u001b[0msteps\u001b[0m\u001b[0;34m[\u001b[0m\u001b[0;34m-\u001b[0m\u001b[0;36m1\u001b[0m\u001b[0;34m]\u001b[0m\u001b[0;34m[\u001b[0m\u001b[0;34m-\u001b[0m\u001b[0;36m1\u001b[0m\u001b[0;34m]\u001b[0m\u001b[0;34m.\u001b[0m\u001b[0mpredict\u001b[0m\u001b[0;34m(\u001b[0m\u001b[0mXt\u001b[0m\u001b[0;34m)\u001b[0m\u001b[0;34m\u001b[0m\u001b[0m\n\u001b[0m\u001b[1;32m    328\u001b[0m \u001b[0;34m\u001b[0m\u001b[0m\n\u001b[1;32m    329\u001b[0m     \u001b[0;34m@\u001b[0m\u001b[0mif_delegate_has_method\u001b[0m\u001b[0;34m(\u001b[0m\u001b[0mdelegate\u001b[0m\u001b[0;34m=\u001b[0m\u001b[0;34m'_final_estimator'\u001b[0m\u001b[0;34m)\u001b[0m\u001b[0;34m\u001b[0m\u001b[0m\n",
      "\u001b[0;32m/Users/Jake1/anaconda/lib/python2.7/site-packages/sklearn/svm/base.pyc\u001b[0m in \u001b[0;36mpredict\u001b[0;34m(self, X)\u001b[0m\n\u001b[1;32m    571\u001b[0m             \u001b[0mClass\u001b[0m \u001b[0mlabels\u001b[0m \u001b[0;32mfor\u001b[0m \u001b[0msamples\u001b[0m \u001b[0;32min\u001b[0m \u001b[0mX\u001b[0m\u001b[0;34m.\u001b[0m\u001b[0;34m\u001b[0m\u001b[0m\n\u001b[1;32m    572\u001b[0m         \"\"\"\n\u001b[0;32m--> 573\u001b[0;31m         \u001b[0my\u001b[0m \u001b[0;34m=\u001b[0m \u001b[0msuper\u001b[0m\u001b[0;34m(\u001b[0m\u001b[0mBaseSVC\u001b[0m\u001b[0;34m,\u001b[0m \u001b[0mself\u001b[0m\u001b[0;34m)\u001b[0m\u001b[0;34m.\u001b[0m\u001b[0mpredict\u001b[0m\u001b[0;34m(\u001b[0m\u001b[0mX\u001b[0m\u001b[0;34m)\u001b[0m\u001b[0;34m\u001b[0m\u001b[0m\n\u001b[0m\u001b[1;32m    574\u001b[0m         \u001b[0;32mreturn\u001b[0m \u001b[0mself\u001b[0m\u001b[0;34m.\u001b[0m\u001b[0mclasses_\u001b[0m\u001b[0;34m.\u001b[0m\u001b[0mtake\u001b[0m\u001b[0;34m(\u001b[0m\u001b[0mnp\u001b[0m\u001b[0;34m.\u001b[0m\u001b[0masarray\u001b[0m\u001b[0;34m(\u001b[0m\u001b[0my\u001b[0m\u001b[0;34m,\u001b[0m \u001b[0mdtype\u001b[0m\u001b[0;34m=\u001b[0m\u001b[0mnp\u001b[0m\u001b[0;34m.\u001b[0m\u001b[0mintp\u001b[0m\u001b[0;34m)\u001b[0m\u001b[0;34m)\u001b[0m\u001b[0;34m\u001b[0m\u001b[0m\n\u001b[1;32m    575\u001b[0m \u001b[0;34m\u001b[0m\u001b[0m\n",
      "\u001b[0;32m/Users/Jake1/anaconda/lib/python2.7/site-packages/sklearn/svm/base.pyc\u001b[0m in \u001b[0;36mpredict\u001b[0;34m(self, X)\u001b[0m\n\u001b[1;32m    310\u001b[0m         \u001b[0mX\u001b[0m \u001b[0;34m=\u001b[0m \u001b[0mself\u001b[0m\u001b[0;34m.\u001b[0m\u001b[0m_validate_for_predict\u001b[0m\u001b[0;34m(\u001b[0m\u001b[0mX\u001b[0m\u001b[0;34m)\u001b[0m\u001b[0;34m\u001b[0m\u001b[0m\n\u001b[1;32m    311\u001b[0m         \u001b[0mpredict\u001b[0m \u001b[0;34m=\u001b[0m \u001b[0mself\u001b[0m\u001b[0;34m.\u001b[0m\u001b[0m_sparse_predict\u001b[0m \u001b[0;32mif\u001b[0m \u001b[0mself\u001b[0m\u001b[0;34m.\u001b[0m\u001b[0m_sparse\u001b[0m \u001b[0;32melse\u001b[0m \u001b[0mself\u001b[0m\u001b[0;34m.\u001b[0m\u001b[0m_dense_predict\u001b[0m\u001b[0;34m\u001b[0m\u001b[0m\n\u001b[0;32m--> 312\u001b[0;31m         \u001b[0;32mreturn\u001b[0m \u001b[0mpredict\u001b[0m\u001b[0;34m(\u001b[0m\u001b[0mX\u001b[0m\u001b[0;34m)\u001b[0m\u001b[0;34m\u001b[0m\u001b[0m\n\u001b[0m\u001b[1;32m    313\u001b[0m \u001b[0;34m\u001b[0m\u001b[0m\n\u001b[1;32m    314\u001b[0m     \u001b[0;32mdef\u001b[0m \u001b[0m_dense_predict\u001b[0m\u001b[0;34m(\u001b[0m\u001b[0mself\u001b[0m\u001b[0;34m,\u001b[0m \u001b[0mX\u001b[0m\u001b[0;34m)\u001b[0m\u001b[0;34m:\u001b[0m\u001b[0;34m\u001b[0m\u001b[0m\n",
      "\u001b[0;32m/Users/Jake1/anaconda/lib/python2.7/site-packages/sklearn/svm/base.pyc\u001b[0m in \u001b[0;36m_dense_predict\u001b[0;34m(self, X)\u001b[0m\n\u001b[1;32m    333\u001b[0m             \u001b[0mself\u001b[0m\u001b[0;34m.\u001b[0m\u001b[0mprobA_\u001b[0m\u001b[0;34m,\u001b[0m \u001b[0mself\u001b[0m\u001b[0;34m.\u001b[0m\u001b[0mprobB_\u001b[0m\u001b[0;34m,\u001b[0m \u001b[0msvm_type\u001b[0m\u001b[0;34m=\u001b[0m\u001b[0msvm_type\u001b[0m\u001b[0;34m,\u001b[0m \u001b[0mkernel\u001b[0m\u001b[0;34m=\u001b[0m\u001b[0mkernel\u001b[0m\u001b[0;34m,\u001b[0m\u001b[0;34m\u001b[0m\u001b[0m\n\u001b[1;32m    334\u001b[0m             \u001b[0mdegree\u001b[0m\u001b[0;34m=\u001b[0m\u001b[0mself\u001b[0m\u001b[0;34m.\u001b[0m\u001b[0mdegree\u001b[0m\u001b[0;34m,\u001b[0m \u001b[0mcoef0\u001b[0m\u001b[0;34m=\u001b[0m\u001b[0mself\u001b[0m\u001b[0;34m.\u001b[0m\u001b[0mcoef0\u001b[0m\u001b[0;34m,\u001b[0m \u001b[0mgamma\u001b[0m\u001b[0;34m=\u001b[0m\u001b[0mself\u001b[0m\u001b[0;34m.\u001b[0m\u001b[0m_gamma\u001b[0m\u001b[0;34m,\u001b[0m\u001b[0;34m\u001b[0m\u001b[0m\n\u001b[0;32m--> 335\u001b[0;31m             cache_size=self.cache_size)\n\u001b[0m\u001b[1;32m    336\u001b[0m \u001b[0;34m\u001b[0m\u001b[0m\n\u001b[1;32m    337\u001b[0m     \u001b[0;32mdef\u001b[0m \u001b[0m_sparse_predict\u001b[0m\u001b[0;34m(\u001b[0m\u001b[0mself\u001b[0m\u001b[0;34m,\u001b[0m \u001b[0mX\u001b[0m\u001b[0;34m)\u001b[0m\u001b[0;34m:\u001b[0m\u001b[0;34m\u001b[0m\u001b[0m\n",
      "\u001b[0;31mKeyboardInterrupt\u001b[0m: "
     ]
    }
   ],
   "source": [
    "X = sdf.drop(['allergen'], axis=1)\n",
    "y = sdf['allergen'].copy()\n",
    "m = (str(df_ratio(df)), 'df')\n",
    "classifiers = [svc_tfidf]\n",
    "tests = [(X, y, m)]\n",
    "evaluate_models(tests, classifiers, balance=[True, False])"
   ]
  },
  {
   "cell_type": "code",
   "execution_count": null,
   "metadata": {
    "collapsed": false
   },
   "outputs": [],
   "source": []
  },
  {
   "cell_type": "markdown",
   "metadata": {},
   "source": [
    "### LR"
   ]
  },
  {
   "cell_type": "code",
   "execution_count": null,
   "metadata": {
    "collapsed": false
   },
   "outputs": [],
   "source": [
    "X = df.drop(['allergen'], axis=1)\n",
    "y = df['allergen'].copy()\n",
    "m = (str(df_ratio(df)), 'df')\n",
    "classifiers = [lr_tfidf]\n",
    "tests = [(X, y, m)]\n",
    "evaluate_models(tests, classifiers, balance=[False])"
   ]
  },
  {
   "cell_type": "code",
   "execution_count": null,
   "metadata": {
    "collapsed": true
   },
   "outputs": [],
   "source": []
  },
  {
   "cell_type": "markdown",
   "metadata": {},
   "source": [
    "## Semi-Supervised Learning"
   ]
  },
  {
   "cell_type": "markdown",
   "metadata": {},
   "source": [
    "### One class SVM"
   ]
  },
  {
   "cell_type": "code",
   "execution_count": 74,
   "metadata": {
    "collapsed": false,
    "scrolled": true
   },
   "outputs": [
    {
     "name": "stdout",
     "output_type": "stream",
     "text": [
      "training size:  779\n",
      "train error proportion:  0.500641848524\n",
      "unlabeled positive proportion:  0.579737604687\n",
      "             precision    recall  f1-score   support\n",
      "\n",
      "       -1.0       1.00      0.42      0.59     62806\n",
      "        1.0       0.00      0.50      0.00       135\n",
      "\n",
      "avg / total       1.00      0.42      0.59     62941\n",
      "\n"
     ]
    },
    {
     "data": {
      "text/plain": [
       "<matplotlib.figure.Figure at 0x12d30ef10>"
      ]
     },
     "metadata": {},
     "output_type": "display_data"
    },
    {
     "data": {
      "image/png": "[encoded data removed]",
      "text/plain": [
       "<matplotlib.figure.Figure at 0x11a6d44d0>"
      ]
     },
     "metadata": {},
     "output_type": "display_data"
    }
   ],
   "source": [
    "X = df.drop(['sequence','allergen'], axis=1)\n",
    "y = df['allergen'].copy()\n",
    "\n",
    "X_train, X_test, y_train, y_test = train_test_split(X, y, test_size=.15)\n",
    "X_train = X_train[y_train == 1];\n",
    "y_train = y_train[y_train == 1]\n",
    "\n",
    "X_unlabeled = X_test[y_test == 0]\n",
    "y_unlabeled = y_test[y_test == 0]\n",
    "\n",
    "ss = StandardScaler(with_mean=False)\n",
    "X_train = ss.fit_transform(X_train)\n",
    "X_test = ss.transform(X_test)\n",
    "X_unlabeled = ss.transform(X_unlabeled)\n",
    "\n",
    "clf = svm.OneClassSVM(nu=0.01, kernel=\"rbf\", gamma=2)\n",
    "clf.fit(X_train)\n",
    "\n",
    "y_pred_train = clf.predict(X_train)\n",
    "y_train_scores = clf.decision_function(X_train)\n",
    "y_pred_test = clf.predict(X_test)\n",
    "y_test_scores = clf.decision_function(X_test)\n",
    "n_error_train = y_pred_train[y_pred_train == -1].size\n",
    "\n",
    "y_pred_unlabeled = clf.predict(X_unlabeled)\n",
    "y_unlabeled_scores = clf.decision_function(X_unlabeled)\n",
    "\n",
    "y_pred_unlabeled_pos = y_pred_unlabeled[y_pred_unlabeled == 1]\n",
    "y_pred_unlabeled_pos_prop = y_pred_unlabeled_pos.shape[0]*1.0/y_pred_unlabeled.shape[0]\n",
    "\n",
    "print 'training size: ', X_train.shape[0]\n",
    "# print 'test size', X_test.shape[0]\n",
    "# print 'unlabeled size: ', X_unlabeled.shape[0]\n",
    "print 'train error proportion: ', 1.0*n_error_train/X_train.shape[0]\n",
    "print 'unlabeled positive proportion: ', y_pred_unlabeled_pos_prop\n",
    "\n",
    "#doesn't do anything if both y_train and y_test are all positives\n",
    "y_test = y_test.apply(lambda x: -1.0 if x == 0 else 1.0)\n",
    "y_train = y_train.apply(lambda x: -1.0 if x == 0 else 1.0)\n",
    "\n",
    "print classification_report(y_test, y_pred_test)\n",
    "plot_precision_recall_curve(y_test, y_test_scores)"
   ]
  },
  {
   "cell_type": "code",
   "execution_count": 75,
   "metadata": {
    "collapsed": false
   },
   "outputs": [
    {
     "data": {
      "text/plain": [
       "[<matplotlib.lines.Line2D at 0x163ce9790>]"
      ]
     },
     "execution_count": 75,
     "metadata": {},
     "output_type": "execute_result"
    },
    {
     "data": {
      "image/png": "[encoded data removed]",
      "text/plain": [
       "<matplotlib.figure.Figure at 0x16778e9d0>"
      ]
     },
     "metadata": {},
     "output_type": "display_data"
    }
   ],
   "source": [
    "fpr, tpr, thresholds = roc_curve(y_test, y_test_scores)\n",
    "plt.plot(fpr, tpr)"
   ]
  },
  {
   "cell_type": "code",
   "execution_count": 17,
   "metadata": {
    "collapsed": false,
    "scrolled": true
   },
   "outputs": [
    {
     "name": "stdout",
     "output_type": "stream",
     "text": [
      "0.0163398252154 {'kernel': 'rbf', 'nu': 0.01, 'gamma': 2}\n"
     ]
    }
   ],
   "source": [
    "X = sdf.drop(['sequence','allergen'], axis=1).copy()\n",
    "y = sdf['allergen'].copy()\n",
    "clf = svm.OneClassSVM(nu=0.10, kernel=\"rbf\", gamma=0.1)\n",
    "parameters = {'kernel':('rbf',), 'nu':[0.001, 0.01, 0.1, 0.2, 0.4, 0.6], 'gamma': [2**(-10), 2**(-5), 0.1, 1, 2, 8]}\n",
    "gs_clf = GridSearchCV(clf, parameters, scoring='average_precision')\n",
    "gs_clf.fit(X, y)\n",
    "print gs_clf.best_score_, gs_clf.best_params_"
   ]
  },
  {
   "cell_type": "code",
   "execution_count": null,
   "metadata": {
    "collapsed": true,
    "scrolled": true
   },
   "outputs": [],
   "source": []
  },
  {
   "cell_type": "markdown",
   "metadata": {},
   "source": [
    "### label prop"
   ]
  },
  {
   "cell_type": "code",
   "execution_count": null,
   "metadata": {
    "collapsed": false,
    "scrolled": true
   },
   "outputs": [],
   "source": [
    "X = sdf.drop(['sequence','allergen'], axis=1)\n",
    "y = sdf['allergen'].copy()\n",
    "unlabeled_set = y == 0\n",
    "y_train = y.copy()\n",
    "y_train[unlabeled_set] = -1\n",
    "print X.shape, y_train.shape, unlabeled_set.shape, y_train[y_train == 1].shape\n",
    "\n",
    "# lp_model = label_propagation.LabelSpreading(gamma=0.25, max_iter=5)\n",
    "lp_model = label_propagation.LabelPropagation()\n",
    "lp_model.fit(X, y_train)\n",
    "predicted_labels = lp_model.predict_proba(X)\n",
    "true_labels = y[unlabeled_set]\n",
    "\n",
    "cm = confusion_matrix(true_labels, predicted_labels, labels=lp_model.classes_)\n",
    "\n",
    "print(\"Label Spreading model: %d labeled & %d unlabeled points (%d total)\" %\n",
    "      (n_labeled_points, n_total_samples - n_labeled_points, n_total_samples))\n",
    "\n",
    "print(classification_report(true_labels, predicted_labels))\n",
    "\n",
    "print(\"Confusion matrix\")\n",
    "print(cm)"
   ]
  },
  {
   "cell_type": "markdown",
   "metadata": {
    "collapsed": false,
    "scrolled": true
   },
   "source": [
    "### two-step"
   ]
  },
  {
   "cell_type": "code",
   "execution_count": null,
   "metadata": {
    "collapsed": true,
    "scrolled": true
   },
   "outputs": [],
   "source": [
    "from sklearn.neighbors.nearest_centroid import NearestCentroid\n",
    "nc = NearestCentroid(metric='cosine', shrink_threshold=0.2)\n",
    "X = sdf.drop(['sequence','allergen'], axis=1)\n",
    "y = sdf['allergen'].copy()\n",
    "\n",
    "nc.fit(X, y)\n",
    "pred = nc."
   ]
  },
  {
   "cell_type": "code",
   "execution_count": null,
   "metadata": {
    "collapsed": true,
    "scrolled": true
   },
   "outputs": [],
   "source": []
  },
  {
   "cell_type": "markdown",
   "metadata": {},
   "source": [
    "## Ensemble of models with different prior probabilities"
   ]
  },
  {
   "cell_type": "code",
   "execution_count": null,
   "metadata": {
    "collapsed": true
   },
   "outputs": [],
   "source": []
  },
  {
   "cell_type": "code",
   "execution_count": null,
   "metadata": {
    "collapsed": true
   },
   "outputs": [],
   "source": []
  },
  {
   "cell_type": "code",
   "execution_count": null,
   "metadata": {
    "collapsed": true
   },
   "outputs": [],
   "source": []
  },
  {
   "cell_type": "markdown",
   "metadata": {},
   "source": [
    "# Naive Bayes"
   ]
  },
  {
   "cell_type": "code",
   "execution_count": 11,
   "metadata": {
    "collapsed": false
   },
   "outputs": [],
   "source": [
    "clf = Pipeline([('vect', TfidfVectorizer(analyzer='char', ngram_range=(1,2))), ('nb', MultinomialNB())])\n",
    "X = sdf['sequence']\n",
    "y = sdf['allergen'].copy()\n",
    "\n",
    "vectorizer = TfidfVectorizer(analyzer='char', ngram_range=(1,5))\n",
    "X = vectorizer.fit_transform(X)"
   ]
  },
  {
   "cell_type": "code",
   "execution_count": 12,
   "metadata": {
    "collapsed": false
   },
   "outputs": [
    {
     "name": "stdout",
     "output_type": "stream",
     "text": [
      "Fitting 3 folds for each of 1 candidates, totalling 3 fits\n"
     ]
    },
    {
     "name": "stderr",
     "output_type": "stream",
     "text": [
      "[Parallel(n_jobs=-1)]: Done   3 out of   3 | elapsed:  4.7min finished\n"
     ]
    },
    {
     "name": "stdout",
     "output_type": "stream",
     "text": [
      "0.0917918056422 {'vect__ngram_range': (3, 3), 'nb__class_prior': (0.9, 0.1), 'vect__use_idf': False, 'vect__min_df': 0.001, 'vect__max_df': 0.9}\n"
     ]
    }
   ],
   "source": [
    "parameters = {\n",
    "    'vect__ngram_range': ((1, 2), (1, 3), (1, 4), (1, 5), (2, 2), (2,3), (3,3), (2,4), (3,4)),\n",
    "    'vect__max_df': (0.8, 0.9, 0.95),\n",
    "     'vect__min_df': (0.0001, 0.001, 0.01),\n",
    "    'nb__class_prior': ((1-0.003, 0.003), (1-0.01, 0.01), (1-0.1, 0.1), (1-0.25, 0.25), None),\n",
    "    'vect__use_idf': (True, False)\n",
    "}\n",
    "\n",
    "clf = Pipeline([('vect', TfidfVectorizer(analyzer='char')), ('nb', MultinomialNB())])\n",
    "X = df['sequence']\n",
    "y = df['allergen'].copy()\n",
    "\n",
    "grid_search = RandomizedSearchCV(clf, parameters, n_iter=1, n_jobs=-1, verbose=1, scoring='average_precision')\n",
    "grid_search.fit(X, y)\n",
    "print grid_search.best_score_, grid_search.best_params_"
   ]
  },
  {
   "cell_type": "code",
   "execution_count": 39,
   "metadata": {
    "collapsed": false
   },
   "outputs": [
    {
     "data": {
      "text/plain": [
       "(50000, 559)"
      ]
     },
     "execution_count": 39,
     "metadata": {},
     "output_type": "execute_result"
    }
   ],
   "source": [
    "X.toarray().shape"
   ]
  },
  {
   "cell_type": "code",
   "execution_count": 40,
   "metadata": {
    "collapsed": false
   },
   "outputs": [
    {
     "data": {
      "text/plain": [
       "(50000, 1118)"
      ]
     },
     "execution_count": 40,
     "metadata": {},
     "output_type": "execute_result"
    }
   ],
   "source": [
    "pd.concat([pd.DataFrame(X.toarray()), pd.DataFrame(X.toarray())], axis=1).shape"
   ]
  },
  {
   "cell_type": "code",
   "execution_count": 109,
   "metadata": {
    "collapsed": false
   },
   "outputs": [
    {
     "name": "stdout",
     "output_type": "stream",
     "text": [
      "[ 0.73267327  0.69710807  0.74251497]\n"
     ]
    }
   ],
   "source": [
    "print cross_val_score(clf, X, y, cv=3, scoring='f1')"
   ]
  },
  {
   "cell_type": "code",
   "execution_count": 62,
   "metadata": {
    "collapsed": false
   },
   "outputs": [
    {
     "data": {
      "text/plain": [
       "'MARKLAAGNWKMNGVEADLAEVDALGEAVAAANCDVLLCPPATLIAPMAKRAGLMDLYVGGQTCHTAASGAHTGDVSAAMLADAGASHVILGHSERRADHGERSEDVAAQVTAAIDANLIAIICVGETEAERDANVTLNVVSSQLAGSIPTGATPAQIVVAYEPVWAIGTGRTPTLEQIAEVHDHIRSELAARRGSAANDIPLLYGGSVKPGNAAEIFAVSNVDGALVGGASLKASDFGGIIAALSAA'"
      ]
     },
     "execution_count": 62,
     "metadata": {},
     "output_type": "execute_result"
    }
   ],
   "source": [
    "sdf.sequence[13]"
   ]
  },
  {
   "cell_type": "markdown",
   "metadata": {
    "collapsed": true
   },
   "source": [
    "# Playground"
   ]
  },
  {
   "cell_type": "code",
   "execution_count": 53,
   "metadata": {
    "collapsed": true
   },
   "outputs": [],
   "source": [
    "# def test_plot(x, y, ax):\n",
    "#     ax.plot(x, y)\n",
    "#     ax.set_xlabel('yup')\n",
    "\n",
    "# def multi(x, y):\n",
    "#     plt.clf();\n",
    "#     n_rows = len(x)/2 if len(x) % 2 == 0 else len(x)/2 + 1\n",
    "#     fig, axes = plt.subplots(n_rows, 2, figsize=(20,20))\n",
    "#     for ax, tup in zip(axes.flatten(), zip(x, y)):\n",
    "#         test_plot(tup[0], tup[1], ax)\n",
    "#     plt.show()\n",
    "#     plt.\n",
    "    \n",
    "# x = [[1,2],[3,4], [9,10]]*2\n",
    "# y = [[5,6], [7,8], [11,12]]*2\n",
    "# multi(x,y)"
   ]
  },
  {
   "cell_type": "code",
   "execution_count": 56,
   "metadata": {
    "collapsed": false
   },
   "outputs": [
    {
     "name": "stderr",
     "output_type": "stream",
     "text": [
      "/Users/Jake1/anaconda/lib/python2.7/site-packages/sklearn/ensemble/gradient_boosting.py:517: RuntimeWarning: overflow encountered in double_scalars\n",
      "  tree.value[leaf, 0, 0] = numerator / denominator\n",
      "/Users/Jake1/anaconda/lib/python2.7/site-packages/sklearn/ensemble/gradient_boosting.py:490: RuntimeWarning: invalid value encountered in multiply\n",
      "  np.sum(sample_weight * ((y * pred) - np.logaddexp(0.0, pred))))\n",
      "/Users/Jake1/anaconda/lib/python2.7/site-packages/sklearn/metrics/classification.py:1113: UndefinedMetricWarning: F-score is ill-defined and being set to 0.0 due to no predicted samples.\n",
      "  'precision', 'predicted', average, warn_for)\n"
     ]
    },
    {
     "name": "stdout",
     "output_type": "stream",
     "text": [
      "0.202511041667 {'n_estimators': 100, 'learning_rate': 0.1, 'max_depth': 5, 'min_samples_leaf': 17}\n"
     ]
    }
   ],
   "source": [
    "X = sdf.drop(['sequence','allergen'], axis=1)\n",
    "y = sdf['allergen'].copy()\n",
    "clf = GradientBoostingClassifier()\n",
    "param_grid = {'learning_rate': [0.1, 0.05, 0.02, 0.01],\n",
    "              'max_depth': [3, 5],\n",
    "              'min_samples_leaf': [3, 5, 9, 17],\n",
    "              'n_estimators': [100, 500]\n",
    "              }\n",
    "gs_clf = GridSearchCV(clf, param_grid, scoring='average_precision')\n",
    "gs_clf.fit(X, y)\n",
    "print gs_clf.best_score_, gs_clf.best_params_"
   ]
  },
  {
   "cell_type": "code",
   "execution_count": 10,
   "metadata": {
    "collapsed": true
   },
   "outputs": [
    {
     "data": {
      "text/html": [
       "<div>\n",
       "<table border=\"1\" class=\"dataframe\">\n",
       "  <thead>\n",
       "    <tr style=\"text-align: right;\">\n",
       "      <th></th>\n",
       "      <th>a</th>\n",
       "      <th>b</th>\n",
       "      <th>0</th>\n",
       "      <th>1</th>\n",
       "    </tr>\n",
       "  </thead>\n",
       "  <tbody>\n",
       "    <tr>\n",
       "      <th>0</th>\n",
       "      <td>1</td>\n",
       "      <td>3</td>\n",
       "      <td>1</td>\n",
       "      <td>3</td>\n",
       "    </tr>\n",
       "    <tr>\n",
       "      <th>1</th>\n",
       "      <td>1</td>\n",
       "      <td>3</td>\n",
       "      <td>1</td>\n",
       "      <td>3</td>\n",
       "    </tr>\n",
       "    <tr>\n",
       "      <th>2</th>\n",
       "      <td>1</td>\n",
       "      <td>3</td>\n",
       "      <td>1</td>\n",
       "      <td>3</td>\n",
       "    </tr>\n",
       "    <tr>\n",
       "      <th>3</th>\n",
       "      <td>1</td>\n",
       "      <td>3</td>\n",
       "      <td>1</td>\n",
       "      <td>3</td>\n",
       "    </tr>\n",
       "    <tr>\n",
       "      <th>4</th>\n",
       "      <td>1</td>\n",
       "      <td>3</td>\n",
       "      <td>1</td>\n",
       "      <td>3</td>\n",
       "    </tr>\n",
       "    <tr>\n",
       "      <th>5</th>\n",
       "      <td>1</td>\n",
       "      <td>3</td>\n",
       "      <td>1</td>\n",
       "      <td>3</td>\n",
       "    </tr>\n",
       "    <tr>\n",
       "      <th>6</th>\n",
       "      <td>1</td>\n",
       "      <td>3</td>\n",
       "      <td>1</td>\n",
       "      <td>3</td>\n",
       "    </tr>\n",
       "    <tr>\n",
       "      <th>7</th>\n",
       "      <td>1</td>\n",
       "      <td>3</td>\n",
       "      <td>1</td>\n",
       "      <td>3</td>\n",
       "    </tr>\n",
       "    <tr>\n",
       "      <th>8</th>\n",
       "      <td>1</td>\n",
       "      <td>3</td>\n",
       "      <td>1</td>\n",
       "      <td>3</td>\n",
       "    </tr>\n",
       "    <tr>\n",
       "      <th>9</th>\n",
       "      <td>1</td>\n",
       "      <td>3</td>\n",
       "      <td>1</td>\n",
       "      <td>3</td>\n",
       "    </tr>\n",
       "    <tr>\n",
       "      <th>10</th>\n",
       "      <td>1</td>\n",
       "      <td>3</td>\n",
       "      <td>1</td>\n",
       "      <td>3</td>\n",
       "    </tr>\n",
       "    <tr>\n",
       "      <th>11</th>\n",
       "      <td>1</td>\n",
       "      <td>3</td>\n",
       "      <td>1</td>\n",
       "      <td>3</td>\n",
       "    </tr>\n",
       "    <tr>\n",
       "      <th>12</th>\n",
       "      <td>1</td>\n",
       "      <td>3</td>\n",
       "      <td>1</td>\n",
       "      <td>3</td>\n",
       "    </tr>\n",
       "    <tr>\n",
       "      <th>13</th>\n",
       "      <td>1</td>\n",
       "      <td>3</td>\n",
       "      <td>1</td>\n",
       "      <td>3</td>\n",
       "    </tr>\n",
       "    <tr>\n",
       "      <th>14</th>\n",
       "      <td>1</td>\n",
       "      <td>3</td>\n",
       "      <td>1</td>\n",
       "      <td>3</td>\n",
       "    </tr>\n",
       "    <tr>\n",
       "      <th>15</th>\n",
       "      <td>1</td>\n",
       "      <td>3</td>\n",
       "      <td>1</td>\n",
       "      <td>3</td>\n",
       "    </tr>\n",
       "    <tr>\n",
       "      <th>16</th>\n",
       "      <td>1</td>\n",
       "      <td>3</td>\n",
       "      <td>1</td>\n",
       "      <td>3</td>\n",
       "    </tr>\n",
       "    <tr>\n",
       "      <th>17</th>\n",
       "      <td>1</td>\n",
       "      <td>3</td>\n",
       "      <td>1</td>\n",
       "      <td>3</td>\n",
       "    </tr>\n",
       "    <tr>\n",
       "      <th>18</th>\n",
       "      <td>1</td>\n",
       "      <td>3</td>\n",
       "      <td>1</td>\n",
       "      <td>3</td>\n",
       "    </tr>\n",
       "    <tr>\n",
       "      <th>19</th>\n",
       "      <td>1</td>\n",
       "      <td>3</td>\n",
       "      <td>1</td>\n",
       "      <td>3</td>\n",
       "    </tr>\n",
       "    <tr>\n",
       "      <th>20</th>\n",
       "      <td>1</td>\n",
       "      <td>3</td>\n",
       "      <td>1</td>\n",
       "      <td>3</td>\n",
       "    </tr>\n",
       "    <tr>\n",
       "      <th>21</th>\n",
       "      <td>1</td>\n",
       "      <td>3</td>\n",
       "      <td>1</td>\n",
       "      <td>3</td>\n",
       "    </tr>\n",
       "    <tr>\n",
       "      <th>22</th>\n",
       "      <td>1</td>\n",
       "      <td>3</td>\n",
       "      <td>1</td>\n",
       "      <td>3</td>\n",
       "    </tr>\n",
       "    <tr>\n",
       "      <th>23</th>\n",
       "      <td>1</td>\n",
       "      <td>3</td>\n",
       "      <td>1</td>\n",
       "      <td>3</td>\n",
       "    </tr>\n",
       "    <tr>\n",
       "      <th>24</th>\n",
       "      <td>1</td>\n",
       "      <td>3</td>\n",
       "      <td>1</td>\n",
       "      <td>3</td>\n",
       "    </tr>\n",
       "    <tr>\n",
       "      <th>25</th>\n",
       "      <td>1</td>\n",
       "      <td>3</td>\n",
       "      <td>1</td>\n",
       "      <td>3</td>\n",
       "    </tr>\n",
       "    <tr>\n",
       "      <th>26</th>\n",
       "      <td>1</td>\n",
       "      <td>3</td>\n",
       "      <td>1</td>\n",
       "      <td>3</td>\n",
       "    </tr>\n",
       "    <tr>\n",
       "      <th>27</th>\n",
       "      <td>1</td>\n",
       "      <td>3</td>\n",
       "      <td>1</td>\n",
       "      <td>3</td>\n",
       "    </tr>\n",
       "    <tr>\n",
       "      <th>28</th>\n",
       "      <td>1</td>\n",
       "      <td>3</td>\n",
       "      <td>1</td>\n",
       "      <td>3</td>\n",
       "    </tr>\n",
       "    <tr>\n",
       "      <th>29</th>\n",
       "      <td>1</td>\n",
       "      <td>3</td>\n",
       "      <td>1</td>\n",
       "      <td>3</td>\n",
       "    </tr>\n",
       "  </tbody>\n",
       "</table>\n",
       "</div>"
      ],
      "text/plain": [
       "    a  b  0  1\n",
       "0   1  3  1  3\n",
       "1   1  3  1  3\n",
       "2   1  3  1  3\n",
       "3   1  3  1  3\n",
       "4   1  3  1  3\n",
       "5   1  3  1  3\n",
       "6   1  3  1  3\n",
       "7   1  3  1  3\n",
       "8   1  3  1  3\n",
       "9   1  3  1  3\n",
       "10  1  3  1  3\n",
       "11  1  3  1  3\n",
       "12  1  3  1  3\n",
       "13  1  3  1  3\n",
       "14  1  3  1  3\n",
       "15  1  3  1  3\n",
       "16  1  3  1  3\n",
       "17  1  3  1  3\n",
       "18  1  3  1  3\n",
       "19  1  3  1  3\n",
       "20  1  3  1  3\n",
       "21  1  3  1  3\n",
       "22  1  3  1  3\n",
       "23  1  3  1  3\n",
       "24  1  3  1  3\n",
       "25  1  3  1  3\n",
       "26  1  3  1  3\n",
       "27  1  3  1  3\n",
       "28  1  3  1  3\n",
       "29  1  3  1  3"
      ]
     },
     "execution_count": 10,
     "metadata": {},
     "output_type": "execute_result"
    }
   ],
   "source": [
    "d1 = pd.DataFrame({'a': [1]*30, 'b': [3]*30})\n",
    "pd.concat([pd.DataFrame(d1), pd.DataFrame(d1.as_matrix())], axis=1)"
   ]
  },
  {
   "cell_type": "code",
   "execution_count": 32,
   "metadata": {
    "collapsed": false
   },
   "outputs": [
    {
     "data": {
      "text/plain": [
       "(30, 2)"
      ]
     },
     "execution_count": 32,
     "metadata": {},
     "output_type": "execute_result"
    }
   ],
   "source": [
    "d1.as_matrix().shape"
   ]
  },
  {
   "cell_type": "markdown",
   "metadata": {
    "collapsed": true
   },
   "source": [
    "## Threshold picker"
   ]
  },
  {
   "cell_type": "code",
   "execution_count": 57,
   "metadata": {
    "collapsed": false
   },
   "outputs": [],
   "source": [
    "sdf = df.sample(50000).reset_index(drop=True)\n",
    "nb = Pipeline([('vect', TfidfVectorizer(analyzer='char', ngram_range=(1,1))), \n",
    "       ('nb', MultinomialNB(class_prior=(1 - df_ratio(sdf), df_ratio(sdf))))])\n",
    "X = sdf['sequence'].copy()\n",
    "y = sdf['allergen'].copy()\n",
    "\n",
    "X_train, X_test, y_train, y_test = balanced_train_test_split(X, y, test_size=.25)\n",
    "nb.fit(X_train, y_train)\n",
    "y_pred_probas = nb.predict_proba(X_test)\n",
    "precision, recall, thresholds = precision_recall_curve(y_test, y_pred_probas[:, 1])"
   ]
  },
  {
   "cell_type": "code",
   "execution_count": 52,
   "metadata": {
    "collapsed": false
   },
   "outputs": [
    {
     "data": {
      "image/png": "[encoded data removed]",
      "text/plain": [
       "<matplotlib.figure.Figure at 0x11b70c690>"
      ]
     },
     "metadata": {},
     "output_type": "display_data"
    }
   ],
   "source": [
    "plt.hist(precision, bins=1000, log=True);"
   ]
  },
  {
   "cell_type": "code",
   "execution_count": 53,
   "metadata": {
    "collapsed": false
   },
   "outputs": [
    {
     "data": {
      "image/png": "[encoded data removed]",
      "text/plain": [
       "<matplotlib.figure.Figure at 0x123982e90>"
      ]
     },
     "metadata": {},
     "output_type": "display_data"
    }
   ],
   "source": [
    "plt.hist(thresholds, bins=1000);"
   ]
  },
  {
   "cell_type": "code",
   "execution_count": 54,
   "metadata": {
    "collapsed": false
   },
   "outputs": [
    {
     "data": {
      "image/png": "[encoded data removed]",
      "text/plain": [
       "<matplotlib.figure.Figure at 0x121a94550>"
      ]
     },
     "metadata": {},
     "output_type": "display_data"
    }
   ],
   "source": [
    "plt.hist(recall, bins=1000);"
   ]
  },
  {
   "cell_type": "code",
   "execution_count": 58,
   "metadata": {
    "collapsed": false
   },
   "outputs": [
    {
     "data": {
      "image/png": "[encoded data removed]",
      "text/plain": [
       "<matplotlib.figure.Figure at 0x11c8b0bd0>"
      ]
     },
     "metadata": {},
     "output_type": "display_data"
    }
   ],
   "source": [
    "plt.hist(y_pred_probas, bins=1000);"
   ]
  },
  {
   "cell_type": "code",
   "execution_count": 56,
   "metadata": {
    "collapsed": false
   },
   "outputs": [
    {
     "data": {
      "text/plain": [
       "(11472,)"
      ]
     },
     "execution_count": 56,
     "metadata": {},
     "output_type": "execute_result"
    }
   ],
   "source": [
    "thresholds.shape"
   ]
  },
  {
   "cell_type": "code",
   "execution_count": 59,
   "metadata": {
    "collapsed": false
   },
   "outputs": [
    {
     "data": {
      "text/plain": [
       "array([ 0.00219061,  0.00219061,  0.00219066, ...,  0.00367957,\n",
       "        0.00368279,  0.00378502])"
      ]
     },
     "execution_count": 59,
     "metadata": {},
     "output_type": "execute_result"
    }
   ],
   "source": [
    "thresholds"
   ]
  },
  {
   "cell_type": "code",
   "execution_count": 60,
   "metadata": {
    "collapsed": false
   },
   "outputs": [
    {
     "data": {
      "text/plain": [
       "array([], dtype=float64)"
      ]
     },
     "execution_count": 60,
     "metadata": {},
     "output_type": "execute_result"
    }
   ],
   "source": [
    "recall[(recall >= 0.3]"
   ]
  },
  {
   "cell_type": "code",
   "execution_count": null,
   "metadata": {
    "collapsed": true
   },
   "outputs": [],
   "source": []
  }
 ],
 "metadata": {
  "kernelspec": {
   "display_name": "Python 2",
   "language": "python",
   "name": "python2"
  },
  "language_info": {
   "codemirror_mode": {
    "name": "ipython",
    "version": 2
   },
   "file_extension": ".py",
   "mimetype": "text/x-python",
   "name": "python",
   "nbconvert_exporter": "python",
   "pygments_lexer": "ipython2",
   "version": "2.7.11"
  }
 },
 "nbformat": 4,
 "nbformat_minor": 0
}
