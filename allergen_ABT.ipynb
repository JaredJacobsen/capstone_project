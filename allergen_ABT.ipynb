{
 "cells": [
  {
   "cell_type": "code",
   "execution_count": 2,
   "metadata": {
    "collapsed": true
   },
   "outputs": [],
   "source": [
    "import cPickle as pickle\n",
    "import pandas as pd\n",
    "from similarity_utils import filter_df_by_sim_among_positives \n",
    "\n",
    "def filter_df_by_seq_len(df, lengths=(20, 700)):\n",
    "    min_length, max_length = lengths\n",
    "    return df[(df['sequence'].apply(len) >= min_length) & (df['sequence'].apply(len) <= max_length)].reset_index(drop=True)"
   ]
  },
  {
   "cell_type": "markdown",
   "metadata": {},
   "source": [
    "# Uniprot"
   ]
  },
  {
   "cell_type": "code",
   "execution_count": 2,
   "metadata": {
    "collapsed": false
   },
   "outputs": [],
   "source": [
    "from utils import *"
   ]
  },
  {
   "cell_type": "code",
   "execution_count": null,
   "metadata": {
    "collapsed": true
   },
   "outputs": [],
   "source": [
    "with open('pickles/go_dict.pkl', 'r') as fin:\n",
    "    go_dict = pickle.load(fin)\n",
    "with open('pickles/protein_dict.pkl', 'r') as fin:\n",
    "    protein_dict = pickle.load(fin)\n",
    "with open('pickles/gene_dict.pkl', 'r') as fin:\n",
    "    gene_dict = pickle.load(fin)"
   ]
  },
  {
   "cell_type": "code",
   "execution_count": 6,
   "metadata": {
    "collapsed": false
   },
   "outputs": [],
   "source": [
    "columns = protein_dict.itervalues().next().keys()\n",
    "columns_data = [[] for c in columns]\n",
    "allergen_set = set()\n",
    "for k,v in protein_dict.iteritems():\n",
    "    if v['allergen'] == True and v['sequence'] not in allergen_set:\n",
    "        allergen_set.add(v['sequence'])\n",
    "        for i,c in enumerate(columns):\n",
    "            columns_data[i].append(v[c])\n",
    "uniprot_allergen_df = pd.DataFrame(dict(tuple(zip(columns, columns_data))))\n",
    "\n",
    "columns = protein_dict.itervalues().next().keys()\n",
    "columns_data = [[] for c in columns]\n",
    "non_allergen_set = set()\n",
    "for k,v in protein_dict.iteritems():\n",
    "    if v['sequence'] not in allergen_set and v['sequence'] not in non_allergen_set:\n",
    "        non_allergen_set.add(v['sequence'])\n",
    "        for i,c in enumerate(columns):\n",
    "            columns_data[i].append(v[c])\n",
    "uniprot_non_allergen_df = pd.DataFrame(dict(tuple(zip(columns, columns_data))))"
   ]
  },
  {
   "cell_type": "code",
   "execution_count": 7,
   "metadata": {
    "collapsed": true
   },
   "outputs": [
    {
     "data": {
      "text/html": [
       "<div>\n",
       "<table border=\"1\" class=\"dataframe\">\n",
       "  <thead>\n",
       "    <tr style=\"text-align: right;\">\n",
       "      <th></th>\n",
       "      <th>acc_num</th>\n",
       "      <th>allergen</th>\n",
       "      <th>db</th>\n",
       "      <th>ec_num</th>\n",
       "      <th>entry_name</th>\n",
       "      <th>gene_names</th>\n",
       "      <th>organism_name</th>\n",
       "      <th>other_acc_nums</th>\n",
       "      <th>protein_name</th>\n",
       "      <th>sequence</th>\n",
       "    </tr>\n",
       "  </thead>\n",
       "  <tbody>\n",
       "    <tr>\n",
       "      <th>0</th>\n",
       "      <td>Q4WCS7</td>\n",
       "      <td>True</td>\n",
       "      <td>Swiss-Prot</td>\n",
       "      <td>1.11.1.15</td>\n",
       "      <td>PMP20_ASPFU</td>\n",
       "      <td>[pmp20, AFUA_6G02280]</td>\n",
       "      <td>330879</td>\n",
       "      <td>[O43099]</td>\n",
       "      <td>Putative peroxiredoxin pmp20</td>\n",
       "      <td>MSGLKAGDSFPSDVVFSYIPWSEDKGEITACGIPINYNASKEWADK...</td>\n",
       "    </tr>\n",
       "    <tr>\n",
       "      <th>1</th>\n",
       "      <td>P15494</td>\n",
       "      <td>True</td>\n",
       "      <td>Swiss-Prot</td>\n",
       "      <td>None</td>\n",
       "      <td>BEV1A_BETPN</td>\n",
       "      <td>[BETVIA, BETVI]</td>\n",
       "      <td>3505</td>\n",
       "      <td>[Q96369]</td>\n",
       "      <td>Major pollen allergen Bet v 1-A</td>\n",
       "      <td>MGVFNYETETTSVIPAARLFKAFILDGDNLFPKVAPQAISSVENIE...</td>\n",
       "    </tr>\n",
       "    <tr>\n",
       "      <th>2</th>\n",
       "      <td>Q9T0M8</td>\n",
       "      <td>True</td>\n",
       "      <td>Swiss-Prot</td>\n",
       "      <td>None</td>\n",
       "      <td>PROF2_PARJU</td>\n",
       "      <td>[PRO2]</td>\n",
       "      <td>33127</td>\n",
       "      <td>[]</td>\n",
       "      <td>Profilin-2</td>\n",
       "      <td>MSWQAYVDDHLMCDVGDGNTLASAAIIGHDGSVWAQSANFPQLKPE...</td>\n",
       "    </tr>\n",
       "    <tr>\n",
       "      <th>3</th>\n",
       "      <td>Q39967</td>\n",
       "      <td>True</td>\n",
       "      <td>Swiss-Prot</td>\n",
       "      <td>None</td>\n",
       "      <td>ALL5_HEVBR</td>\n",
       "      <td>[]</td>\n",
       "      <td>3981</td>\n",
       "      <td>[]</td>\n",
       "      <td>Major latex allergen Hev b 5</td>\n",
       "      <td>MASVEVESAATALPKNETPEVTKAEETKTEEPAAPPASEQETADAT...</td>\n",
       "    </tr>\n",
       "    <tr>\n",
       "      <th>4</th>\n",
       "      <td>P45431</td>\n",
       "      <td>True</td>\n",
       "      <td>Swiss-Prot</td>\n",
       "      <td>None</td>\n",
       "      <td>BEV1B_BETPN</td>\n",
       "      <td>[BETV1B]</td>\n",
       "      <td>3505</td>\n",
       "      <td>[]</td>\n",
       "      <td>Major pollen allergen Bet v 1-B</td>\n",
       "      <td>MGVFNYETETTSVIPAARLFKAFILEGDTLIPKVAPQAISSVENIE...</td>\n",
       "    </tr>\n",
       "    <tr>\n",
       "      <th>5</th>\n",
       "      <td>Q43483</td>\n",
       "      <td>True</td>\n",
       "      <td>Swiss-Prot</td>\n",
       "      <td>None</td>\n",
       "      <td>IAA1_HORVU</td>\n",
       "      <td>[IAM1]</td>\n",
       "      <td>4513</td>\n",
       "      <td>[P16968]</td>\n",
       "      <td>Alpha-amylase inhibitor BMAI-1</td>\n",
       "      <td>PTSVAVDQGSMVSNSPGEWCWPGMGYPVYPFPRCRALVKSQCAGGQ...</td>\n",
       "    </tr>\n",
       "    <tr>\n",
       "      <th>6</th>\n",
       "      <td>A4GDU5</td>\n",
       "      <td>True</td>\n",
       "      <td>Swiss-Prot</td>\n",
       "      <td>None</td>\n",
       "      <td>PROBM_OLEEU</td>\n",
       "      <td>[]</td>\n",
       "      <td>4146</td>\n",
       "      <td>[]</td>\n",
       "      <td>Profilin-2</td>\n",
       "      <td>MSWQTYVDDHLMCDIEGHEGHRLTAAAIVGQDGSVWAQSATFPQFK...</td>\n",
       "    </tr>\n",
       "    <tr>\n",
       "      <th>7</th>\n",
       "      <td>A4GDU3</td>\n",
       "      <td>True</td>\n",
       "      <td>Swiss-Prot</td>\n",
       "      <td>None</td>\n",
       "      <td>PROBL_OLEEU</td>\n",
       "      <td>[]</td>\n",
       "      <td>4146</td>\n",
       "      <td>[]</td>\n",
       "      <td>Profilin-4</td>\n",
       "      <td>MSWQSYVDDHLMCDIEGHEGHRLTAAAIVGHDGSVWAQSATFPQFK...</td>\n",
       "    </tr>\n",
       "    <tr>\n",
       "      <th>8</th>\n",
       "      <td>A4GDU2</td>\n",
       "      <td>True</td>\n",
       "      <td>Swiss-Prot</td>\n",
       "      <td>None</td>\n",
       "      <td>PROBK_OLEEU</td>\n",
       "      <td>[]</td>\n",
       "      <td>4146</td>\n",
       "      <td>[]</td>\n",
       "      <td>Profilin-3</td>\n",
       "      <td>MSWQTYVDDHLMCDIEGHEGHRLTAAAIVGHDGSVWAQSATFPQFK...</td>\n",
       "    </tr>\n",
       "    <tr>\n",
       "      <th>9</th>\n",
       "      <td>A4GDU0</td>\n",
       "      <td>True</td>\n",
       "      <td>Swiss-Prot</td>\n",
       "      <td>None</td>\n",
       "      <td>PROBJ_OLEEU</td>\n",
       "      <td>[]</td>\n",
       "      <td>4146</td>\n",
       "      <td>[]</td>\n",
       "      <td>Profilin-2</td>\n",
       "      <td>MSWQTYVDDHLMCDIEGHEGHRLTAAAIVGHDGSVWAQSATFPQFK...</td>\n",
       "    </tr>\n",
       "  </tbody>\n",
       "</table>\n",
       "</div>"
      ],
      "text/plain": [
       "  acc_num allergen          db     ec_num   entry_name             gene_names  \\\n",
       "0  Q4WCS7     True  Swiss-Prot  1.11.1.15  PMP20_ASPFU  [pmp20, AFUA_6G02280]   \n",
       "1  P15494     True  Swiss-Prot       None  BEV1A_BETPN        [BETVIA, BETVI]   \n",
       "2  Q9T0M8     True  Swiss-Prot       None  PROF2_PARJU                 [PRO2]   \n",
       "3  Q39967     True  Swiss-Prot       None   ALL5_HEVBR                     []   \n",
       "4  P45431     True  Swiss-Prot       None  BEV1B_BETPN               [BETV1B]   \n",
       "5  Q43483     True  Swiss-Prot       None   IAA1_HORVU                 [IAM1]   \n",
       "6  A4GDU5     True  Swiss-Prot       None  PROBM_OLEEU                     []   \n",
       "7  A4GDU3     True  Swiss-Prot       None  PROBL_OLEEU                     []   \n",
       "8  A4GDU2     True  Swiss-Prot       None  PROBK_OLEEU                     []   \n",
       "9  A4GDU0     True  Swiss-Prot       None  PROBJ_OLEEU                     []   \n",
       "\n",
       "  organism_name other_acc_nums                     protein_name  \\\n",
       "0        330879       [O43099]     Putative peroxiredoxin pmp20   \n",
       "1          3505       [Q96369]  Major pollen allergen Bet v 1-A   \n",
       "2         33127             []                       Profilin-2   \n",
       "3          3981             []     Major latex allergen Hev b 5   \n",
       "4          3505             []  Major pollen allergen Bet v 1-B   \n",
       "5          4513       [P16968]   Alpha-amylase inhibitor BMAI-1   \n",
       "6          4146             []                       Profilin-2   \n",
       "7          4146             []                       Profilin-4   \n",
       "8          4146             []                       Profilin-3   \n",
       "9          4146             []                       Profilin-2   \n",
       "\n",
       "                                            sequence  \n",
       "0  MSGLKAGDSFPSDVVFSYIPWSEDKGEITACGIPINYNASKEWADK...  \n",
       "1  MGVFNYETETTSVIPAARLFKAFILDGDNLFPKVAPQAISSVENIE...  \n",
       "2  MSWQAYVDDHLMCDVGDGNTLASAAIIGHDGSVWAQSANFPQLKPE...  \n",
       "3  MASVEVESAATALPKNETPEVTKAEETKTEEPAAPPASEQETADAT...  \n",
       "4  MGVFNYETETTSVIPAARLFKAFILEGDTLIPKVAPQAISSVENIE...  \n",
       "5  PTSVAVDQGSMVSNSPGEWCWPGMGYPVYPFPRCRALVKSQCAGGQ...  \n",
       "6  MSWQTYVDDHLMCDIEGHEGHRLTAAAIVGQDGSVWAQSATFPQFK...  \n",
       "7  MSWQSYVDDHLMCDIEGHEGHRLTAAAIVGHDGSVWAQSATFPQFK...  \n",
       "8  MSWQTYVDDHLMCDIEGHEGHRLTAAAIVGHDGSVWAQSATFPQFK...  \n",
       "9  MSWQTYVDDHLMCDIEGHEGHRLTAAAIVGHDGSVWAQSATFPQFK...  "
      ]
     },
     "execution_count": 7,
     "metadata": {},
     "output_type": "execute_result"
    }
   ],
   "source": [
    "uniprot_allergen_df.head(10)"
   ]
  },
  {
   "cell_type": "code",
   "execution_count": 6,
   "metadata": {
    "collapsed": true
   },
   "outputs": [
    {
     "data": {
      "text/html": [
       "<div>\n",
       "<table border=\"1\" class=\"dataframe\">\n",
       "  <thead>\n",
       "    <tr style=\"text-align: right;\">\n",
       "      <th></th>\n",
       "      <th>acc_num</th>\n",
       "      <th>allergen</th>\n",
       "      <th>db</th>\n",
       "      <th>ec_num</th>\n",
       "      <th>entry_name</th>\n",
       "      <th>gene_names</th>\n",
       "      <th>organism_name</th>\n",
       "      <th>other_acc_nums</th>\n",
       "      <th>protein_name</th>\n",
       "      <th>sequence</th>\n",
       "    </tr>\n",
       "  </thead>\n",
       "  <tbody>\n",
       "    <tr>\n",
       "      <th>0</th>\n",
       "      <td>C6DJ78</td>\n",
       "      <td>False</td>\n",
       "      <td>Swiss-Prot</td>\n",
       "      <td>None</td>\n",
       "      <td>TTCA_PECCP</td>\n",
       "      <td>[ttcA, PC1_2316]</td>\n",
       "      <td>561230</td>\n",
       "      <td>[]</td>\n",
       "      <td>tRNA 2-thiocytidine biosynthesis protein TtcA</td>\n",
       "      <td>MSENQQINQKQQYNLNKLQKRLRRNVGEAIADFNMIEEGDRIMVCL...</td>\n",
       "    </tr>\n",
       "  </tbody>\n",
       "</table>\n",
       "</div>"
      ],
      "text/plain": [
       "  acc_num allergen          db ec_num  entry_name        gene_names  \\\n",
       "0  C6DJ78    False  Swiss-Prot   None  TTCA_PECCP  [ttcA, PC1_2316]   \n",
       "\n",
       "  organism_name other_acc_nums                                   protein_name  \\\n",
       "0        561230             []  tRNA 2-thiocytidine biosynthesis protein TtcA   \n",
       "\n",
       "                                            sequence  \n",
       "0  MSENQQINQKQQYNLNKLQKRLRRNVGEAIADFNMIEEGDRIMVCL...  "
      ]
     },
     "execution_count": 6,
     "metadata": {},
     "output_type": "execute_result"
    }
   ],
   "source": [
    "uniprot_non_allergen_df.head(1)"
   ]
  },
  {
   "cell_type": "code",
   "execution_count": 8,
   "metadata": {
    "collapsed": false
   },
   "outputs": [
    {
     "name": "stdout",
     "output_type": "stream",
     "text": [
      "(601, 10) (464738, 10)\n"
     ]
    }
   ],
   "source": [
    "print uniprot_allergen_df.shape, uniprot_non_allergen_df.shape"
   ]
  },
  {
   "cell_type": "code",
   "execution_count": 12,
   "metadata": {
    "collapsed": true
   },
   "outputs": [],
   "source": [
    "# with open('pickles/uniprot_allergen_df.pkl', 'w') as fout:\n",
    "#     pickle.dump(uniprot_allergen_df, fout)\n",
    "# with open('pickles/uniprot_non_allergen_df.pkl', 'w') as fout:\n",
    "#     pickle.dump(uniprot_non_allergen_df, fout)"
   ]
  },
  {
   "cell_type": "code",
   "execution_count": 6,
   "metadata": {
    "collapsed": true
   },
   "outputs": [],
   "source": [
    "with open('pickles/uniprot_allergen_df.pkl', 'r') as fin:\n",
    "    uniprot_allergen_df = pickle.load(fin)\n",
    "with open('pickles/uniprot_non_allergen_df.pkl', 'r') as fin:\n",
    "    uniprot_non_allergen_df = pickle.load(fin)\n",
    "\n",
    "uniprot_allergen_df = uniprot_allergen_df['sequence'].to_frame()\n",
    "uniprot_allergen_df['allergen'] = 1\n",
    "uniprot_allergen_df = add_protein_characteristics(uniprot_allergen_df)\n",
    "\n",
    "uniprot_non_allergen_df = uniprot_non_allergen_df['sequence'].to_frame()\n",
    "uniprot_non_allergen_df['allergen'] = 0\n",
    "uniprot_non_allergen_df = add_protein_characteristics(uniprot_non_allergen_df)\n",
    "\n",
    "# with open('pickles/uniprot_allergen_df_with_features.pkl', 'w') as fout:\n",
    "#     pickle.dump(uniprot_allergen_df, fout)\n",
    "# with open('pickles/uniprot_non_allergen_df_with_features.pkl', 'w') as fout:\n",
    "#     pickle.dump(uniprot_non_allergen_df, fout)"
   ]
  },
  {
   "cell_type": "code",
   "execution_count": null,
   "metadata": {
    "collapsed": true
   },
   "outputs": [],
   "source": []
  },
  {
   "cell_type": "markdown",
   "metadata": {},
   "source": [
    "# Allergen Online"
   ]
  },
  {
   "cell_type": "code",
   "execution_count": 21,
   "metadata": {
    "collapsed": false
   },
   "outputs": [],
   "source": [
    "fasta_columns = ['db', 'identifier', 'entry_name', 'protein_name', 'organism_name', 'gene_name', 'sequence']\n",
    "parsed_fasta = parse_fasta_str(open('data/allergen_online_allergens.fasta').read())\n",
    "ao_allergen_df = pd.DataFrame(data=parsed_fasta, columns=fasta_columns)\n",
    "ao_allergen_df = ao_allergen_df.drop_duplicates(subset='sequence')\n",
    "\n",
    "# ao_identifiers = ao_allergen_df['identifier'].tolist()\n",
    "# for i in range(0, len(ao_identifiers), 200):\n",
    "#     if i == 0:\n",
    "#         ao_allergen_df = convert_acc_nums_to_df(str(ao_identifiers[i:i+200]))\n",
    "#     else:\n",
    "#         ao_allergen_df = ao_allergen_df.append(convert_acc_nums_to_df(str(ao_identifiers[i:i+200])))"
   ]
  },
  {
   "cell_type": "code",
   "execution_count": 22,
   "metadata": {
    "collapsed": true
   },
   "outputs": [
    {
     "data": {
      "text/html": [
       "<div>\n",
       "<table border=\"1\" class=\"dataframe\">\n",
       "  <thead>\n",
       "    <tr style=\"text-align: right;\">\n",
       "      <th></th>\n",
       "      <th>db</th>\n",
       "      <th>identifier</th>\n",
       "      <th>entry_name</th>\n",
       "      <th>protein_name</th>\n",
       "      <th>organism_name</th>\n",
       "      <th>gene_name</th>\n",
       "      <th>sequence</th>\n",
       "    </tr>\n",
       "  </thead>\n",
       "  <tbody>\n",
       "    <tr>\n",
       "      <th>0</th>\n",
       "      <td>tr</td>\n",
       "      <td>B0KZJ6</td>\n",
       "      <td>B0KZJ6_ACASI</td>\n",
       "      <td>Allergen Aca s 13</td>\n",
       "      <td>Acarus siro</td>\n",
       "      <td>None</td>\n",
       "      <td>MVQINGSYKLEKSDNFDAFLKELGLNFVTRNLAKSATPTVEVSVNG...</td>\n",
       "    </tr>\n",
       "  </tbody>\n",
       "</table>\n",
       "</div>"
      ],
      "text/plain": [
       "   db identifier    entry_name       protein_name organism_name gene_name  \\\n",
       "0  tr     B0KZJ6  B0KZJ6_ACASI  Allergen Aca s 13   Acarus siro      None   \n",
       "\n",
       "                                            sequence  \n",
       "0  MVQINGSYKLEKSDNFDAFLKELGLNFVTRNLAKSATPTVEVSVNG...  "
      ]
     },
     "execution_count": 22,
     "metadata": {},
     "output_type": "execute_result"
    }
   ],
   "source": [
    "ao_allergen_df.head(1)"
   ]
  },
  {
   "cell_type": "code",
   "execution_count": 24,
   "metadata": {
    "collapsed": true
   },
   "outputs": [],
   "source": [
    "# with open('pickles/ao_allergen_df.pkl', 'w') as fout:\n",
    "#     pickle.dump(ao_df, fout)"
   ]
  },
  {
   "cell_type": "code",
   "execution_count": 7,
   "metadata": {
    "collapsed": true
   },
   "outputs": [],
   "source": [
    "with open('pickles/ao_allergen_df.pkl', 'r') as fin:\n",
    "    ao_allergen_df = pickle.load(fin)\n",
    "\n",
    "ao_allergen_df = uniprot_allergen_df['sequence'].to_frame()\n",
    "ao_allergen_df['allergen'] = 1\n",
    "ao_allergen_df = add_protein_characteristics(ao_allergen_df)\n",
    "\n",
    "# with open('pickles/ao_allergen_df_with_features.pkl', 'w') as fout:\n",
    "#     pickle.dump(ao_allergen_df, fout)"
   ]
  },
  {
   "cell_type": "code",
   "execution_count": null,
   "metadata": {
    "collapsed": true
   },
   "outputs": [],
   "source": []
  },
  {
   "cell_type": "code",
   "execution_count": 22,
   "metadata": {
    "collapsed": false
   },
   "outputs": [
    {
     "data": {
      "text/plain": [
       "(601, 28)"
      ]
     },
     "execution_count": 22,
     "metadata": {},
     "output_type": "execute_result"
    }
   ],
   "source": [
    "add_protein_characteristics(ao_allergen_df).shape"
   ]
  },
  {
   "cell_type": "markdown",
   "metadata": {
    "collapsed": true
   },
   "source": [
    "# AllerHunter"
   ]
  },
  {
   "cell_type": "code",
   "execution_count": 23,
   "metadata": {
    "collapsed": false
   },
   "outputs": [],
   "source": [
    "base = 'data/allerHunterData/'\n",
    "paths = ['testingdata/testing.allergen.fa', 'testingdata/testing.homolog.fa', 'testingdata/testing.putative_non_allergen.fa',\n",
    "        'trainingdata/training.allergen.fa', 'trainingdata/training.homolog.fa', 'trainingdata/training.putative_non_allergen.fa',\n",
    "        'independentdata/indp.allergen.fa', 'independentdata/indp.homolog.fa', 'independentdata/indp.putative_non_allergen.fa']\n",
    "seqs = []\n",
    "\n",
    "for path in paths:\n",
    "    with open(base + path) as fin:\n",
    "        seqs.append(get_sequences_from_fasta(fin))\n",
    "\n",
    "ah_test_allergens, ah_test_APNs, ah_test_DPNs = seqs[0:3]\n",
    "ah_train_allergens, ah_train_APNs, ah_train_DPNs = seqs[3:6]\n",
    "ah_ind_allergens, ah_ind_APNs, ah_ind_DPNs = seqs[6:9]\n",
    "\n",
    "ah_allergen_df = pd.DataFrame({'sequence': ah_test_allergens + ah_train_allergens + ah_ind_allergens})\n",
    "ah_non_allergen_df = pd.DataFrame({'sequence': ah_test_APNs + ah_test_DPNs + ah_train_APNs + ah_train_DPNs + ah_ind_APNs + ah_ind_DPNs})\n",
    "\n",
    "ah_allergen_df['allergen'] = 1\n",
    "ah_non_allergen_df['allergen'] = 0\n",
    "\n",
    "with open('pickles/ah_allergen_df.pkl', 'w') as fout:\n",
    "    pickle.dump(ah_allergen_df, fout)\n",
    "with open('pickles/ah_non_allergen_df.pkl', 'w') as fout:\n",
    "    pickle.dump(ah_non_allergen_df, fout)\n",
    "\n",
    "ah_allergen_df = add_protein_characteristics(ah_allergen_df)\n",
    "ah_non_allergen_df = add_protein_characteristics(ah_non_allergen_df)\n",
    "\n",
    "with open('pickles/ah_allergen_df_with_features.pkl', 'w') as fout:\n",
    "    pickle.dump(ah_allergen_df, fout)\n",
    "with open('pickles/ah_non_allergen_df_with_features.pkl', 'w') as fout:\n",
    "    pickle.dump(ah_non_allergen_df, fout)\n",
    "    \n",
    "# base = 'pickles/'\n",
    "\n",
    "# paths = ['ah_allergen_df_with_features.pkl', 'ah_non_allergen_df_with_features.pkl', 'ah_ind_allergen_df_with_features.pkl',\n",
    "#         'ah_ind_non_allergen_df_with_features.pkl']\n",
    "\n",
    "\n",
    "# paths = ['ah_allergen_df_with_features.pkl', 'ah_non_allergen_df_with_features.pkl', 'ah_ind_allergen_df_with_features.pkl',\n",
    "#         'ah_ind_non_allergen_df_with_features.pkl']\n",
    "# dataframes = [ah_allergen_df, ah_non_allergen_df, ah_ind_allergen_df, ah_ind_non_allergen_df]\n",
    "# for p,d in zip(paths, dataframes):\n",
    "#     d = add_protein_characteristics(d)\n",
    "#     d = filter_df_by_seq_len(d)\n",
    "#     with open(base + p, 'w') as fout:\n",
    "#         pickle.dump(d, fout)"
   ]
  },
  {
   "cell_type": "code",
   "execution_count": null,
   "metadata": {
    "collapsed": false
   },
   "outputs": [],
   "source": []
  },
  {
   "cell_type": "code",
   "execution_count": null,
   "metadata": {
    "collapsed": true
   },
   "outputs": [],
   "source": []
  },
  {
   "cell_type": "markdown",
   "metadata": {},
   "source": [
    "# Final ABT"
   ]
  },
  {
   "cell_type": "code",
   "execution_count": 3,
   "metadata": {
    "collapsed": false
   },
   "outputs": [],
   "source": [
    "base = 'pickles/'\n",
    "paths = ['ah_allergen_df_with_features.pkl', 'ah_non_allergen_df_with_features.pkl', 'uniprot_allergen_df_with_features.pkl',\n",
    "        'uniprot_non_allergen_df_with_features.pkl', 'ao_allergen_df_with_features.pkl']\n",
    "dataframes = []\n",
    "\n",
    "for path in paths:\n",
    "    with open(base + path) as fin:\n",
    "        dataframes.append(pickle.load(fin))\n",
    "ah_allergen_df, ah_non_allergen_df, uniprot_allergen_df, uniprot_non_allergen_df, ao_allergen_df = dataframes"
   ]
  },
  {
   "cell_type": "code",
   "execution_count": 4,
   "metadata": {
    "collapsed": false
   },
   "outputs": [
    {
     "name": "stdout",
     "output_type": "stream",
     "text": [
      "(1405, 28)\n",
      "(12474, 28)\n",
      "(601, 28)\n",
      "(464738, 28)\n",
      "(601, 28)\n"
     ]
    }
   ],
   "source": [
    "for d in dataframes: \n",
    "    print d.shape"
   ]
  },
  {
   "cell_type": "code",
   "execution_count": 5,
   "metadata": {
    "collapsed": true
   },
   "outputs": [],
   "source": [
    "allergen_df = ah_allergen_df.append(uniprot_allergen_df, ignore_index=True).drop_duplicates(subset='sequence')\\\n",
    "                            .append(ao_allergen_df, ignore_index=True).drop_duplicates(subset='sequence')\n",
    "    \n",
    "non_allergen_df = ah_non_allergen_df.append(uniprot_non_allergen_df, ignore_index=True).drop_duplicates(subset='sequence')\n",
    "\n",
    "df = allergen_df.append(non_allergen_df, ignore_index=True).drop_duplicates(subset='sequence')"
   ]
  },
  {
   "cell_type": "code",
   "execution_count": 6,
   "metadata": {
    "collapsed": false
   },
   "outputs": [
    {
     "name": "stdout",
     "output_type": "stream",
     "text": [
      "(1624, 28) (466674, 28) (468095, 28) (1624, 28) (466471, 28)\n"
     ]
    }
   ],
   "source": [
    "print allergen_df.shape, non_allergen_df.shape, df.shape, df[df['allergen'] == 1].shape, df[df['allergen'] == 0].shape"
   ]
  },
  {
   "cell_type": "code",
   "execution_count": 7,
   "metadata": {
    "collapsed": true
   },
   "outputs": [],
   "source": [
    "df = filter_df_by_sim_among_positives(df, 0.90)"
   ]
  },
  {
   "cell_type": "code",
   "execution_count": 8,
   "metadata": {
    "collapsed": false
   },
   "outputs": [
    {
     "name": "stdout",
     "output_type": "stream",
     "text": [
      "(467470, 28) (999, 28) (466471, 28)\n"
     ]
    }
   ],
   "source": [
    "print df.shape, df[df['allergen'] == 1].shape, df[df['allergen'] == 0].shape"
   ]
  },
  {
   "cell_type": "code",
   "execution_count": 9,
   "metadata": {
    "collapsed": true
   },
   "outputs": [],
   "source": [
    "df = filter_df_by_seq_len(df, lengths=(20, 700))"
   ]
  },
  {
   "cell_type": "code",
   "execution_count": 10,
   "metadata": {
    "collapsed": false
   },
   "outputs": [
    {
     "name": "stdout",
     "output_type": "stream",
     "text": [
      "(419602, 28) (914, 28) (418688, 28)\n"
     ]
    }
   ],
   "source": [
    "print df.shape, df[df['allergen'] == 1].shape, df[df['allergen'] == 0].shape"
   ]
  },
  {
   "cell_type": "code",
   "execution_count": 11,
   "metadata": {
    "collapsed": false
   },
   "outputs": [],
   "source": [
    "with open('pickles/allergen_df_with_features.pkl', 'w') as fout:\n",
    "    pickle.dump(allergen_df, fout)\n",
    "with open('pickles/non_allergen_df_with_features.pkl', 'w') as fout:\n",
    "    pickle.dump(non_allergen_df, fout)\n",
    "with open('pickles/full_ABT_df.pkl', 'w') as fout:\n",
    "    pickle.dump(df, fout)"
   ]
  },
  {
   "cell_type": "code",
   "execution_count": null,
   "metadata": {
    "collapsed": false
   },
   "outputs": [],
   "source": []
  }
 ],
 "metadata": {
  "kernelspec": {
   "display_name": "Python 2",
   "language": "python",
   "name": "python2"
  },
  "language_info": {
   "codemirror_mode": {
    "name": "ipython",
    "version": 2
   },
   "file_extension": ".py",
   "mimetype": "text/x-python",
   "name": "python",
   "nbconvert_exporter": "python",
   "pygments_lexer": "ipython2",
   "version": "2.7.11"
  }
 },
 "nbformat": 4,
 "nbformat_minor": 0
}
