{
 "cells": [
  {
   "cell_type": "code",
   "execution_count": 6,
   "metadata": {
    "collapsed": false
   },
   "outputs": [],
   "source": [
    "import pandas as pd\n",
    "import numpy as np\n",
    "import re\n",
    "from sklearn.ensemble import RandomForestClassifier\n",
    "from sklearn.model_selection import cross_val_score\n",
    "from sklearn.metrics import accuracy_score"
   ]
  },
  {
   "cell_type": "code",
   "execution_count": 3,
   "metadata": {
    "collapsed": false
   },
   "outputs": [],
   "source": [
    "train_filename = 'mRMR/train1'\n",
    "test_filename = 'mRMR/test1'\n",
    "X_pattern = ':(-*\\d+\\.*\\d*)'\n",
    "y_pattern = '(\\+1|\\-1) \\d'\n",
    "\n",
    "def process_mRMR_line(l):\n",
    "    y = int(l[0:2])\n",
    "    return map(float, re.findall(X_pattern, l)), y\n",
    "\n",
    "with open(train_filename, 'r') as fin:\n",
    "    split_lines = [process_mRMR_line(l) for l in fin.readlines()]\n",
    "    y_train = [tup[1] for tup in split_lines]\n",
    "    X_train = [tup[0] for tup in split_lines]\n",
    "    X_train = pd.DataFrame(X_train)\n",
    "    \n",
    "with open(test_filename, 'r') as fin:\n",
    "    split_lines = [process_mRMR_line(l) for l in fin.readlines()]\n",
    "    y_test = [tup[1] for tup in split_lines]\n",
    "    X_test = [tup[0] for tup in split_lines]\n",
    "    X_test = pd.DataFrame(X_test)\n"
   ]
  },
  {
   "cell_type": "code",
   "execution_count": 10,
   "metadata": {
    "collapsed": false
   },
   "outputs": [
    {
     "name": "stdout",
     "output_type": "stream",
     "text": [
      "cross validation score: 0.896721431179\n",
      "\n",
      "test set score: 0.91847826087\n"
     ]
    }
   ],
   "source": [
    "rf = RandomForestClassifier()\n",
    "\n",
    "print 'cross validation score: ' + str(np.mean(cross_val_score(rf, X_train, y_train, cv=5))) + '\\n'\n",
    "\n",
    "rf.fit(X_train, y_train)\n",
    "print \"test set score: \" + str(accuracy_score(y_test, rf.predict(X_test)))"
   ]
  },
  {
   "cell_type": "code",
   "execution_count": null,
   "metadata": {
    "collapsed": true
   },
   "outputs": [],
   "source": []
  }
 ],
 "metadata": {
  "kernelspec": {
   "display_name": "Python 2",
   "language": "python",
   "name": "python2"
  },
  "language_info": {
   "codemirror_mode": {
    "name": "ipython",
    "version": 2
   },
   "file_extension": ".py",
   "mimetype": "text/x-python",
   "name": "python",
   "nbconvert_exporter": "python",
   "pygments_lexer": "ipython2",
   "version": "2.7.12"
  }
 },
 "nbformat": 4,
 "nbformat_minor": 0
}
