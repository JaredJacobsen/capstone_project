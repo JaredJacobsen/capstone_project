{
 "cells": [
  {
   "cell_type": "code",
   "execution_count": 1,
   "metadata": {
    "collapsed": false
   },
   "outputs": [],
   "source": [
    "from utils import *"
   ]
  },
  {
   "cell_type": "code",
   "execution_count": 2,
   "metadata": {
    "collapsed": false
   },
   "outputs": [],
   "source": [
    "with open('pickles/go_dict.pkl', 'r') as fin:\n",
    "    go_dict = pickle.load(fin)\n",
    "with open('pickles/protein_dict.pkl', 'r') as fin:\n",
    "    protein_dict = pickle.load(fin)\n",
    "with open('pickles/gene_dict.pkl', 'r') as fin:\n",
    "    gene_dict = pickle.load(fin)"
   ]
  },
  {
   "cell_type": "code",
   "execution_count": 3,
   "metadata": {
    "collapsed": true
   },
   "outputs": [],
   "source": [
    "import cPickle as pickle\n",
    "import pandas as pd"
   ]
  },
  {
   "cell_type": "code",
   "execution_count": 4,
   "metadata": {
    "collapsed": false
   },
   "outputs": [],
   "source": [
    "columns = protein_dict.itervalues().next().keys()\n",
    "columns_data = [[] for c in columns]\n",
    "allergen_set = set()\n",
    "for k,v in protein_dict.iteritems():\n",
    "    if v['allergen'] == True and v['sequence'] not in allergen_set:\n",
    "        allergen_set.add(v['sequence'])\n",
    "        for i,c in enumerate(columns):\n",
    "            columns_data[i].append(v[c])\n",
    "uniprot_allergen_df = pd.DataFrame(dict(tuple(zip(columns, columns_data))))\n",
    "\n",
    "columns = protein_dict.itervalues().next().keys()\n",
    "columns_data = [[] for c in columns]\n",
    "non_allergen_set = set()\n",
    "for k,v in protein_dict.iteritems():\n",
    "    if v['sequence'] not in allergen_set and v['sequence'] not in non_allergen_set:\n",
    "        non_allergen_set.add(v['sequence'])\n",
    "        for i,c in enumerate(columns):\n",
    "            columns_data[i].append(v[c])\n",
    "uniprot_non_allergen_df = pd.DataFrame(dict(tuple(zip(columns, columns_data))))"
   ]
  },
  {
   "cell_type": "code",
   "execution_count": 5,
   "metadata": {
    "collapsed": false
   },
   "outputs": [
    {
     "data": {
      "text/html": [
       "<div>\n",
       "<table border=\"1\" class=\"dataframe\">\n",
       "  <thead>\n",
       "    <tr style=\"text-align: right;\">\n",
       "      <th></th>\n",
       "      <th>acc_num</th>\n",
       "      <th>allergen</th>\n",
       "      <th>db</th>\n",
       "      <th>ec_num</th>\n",
       "      <th>entry_name</th>\n",
       "      <th>gene_names</th>\n",
       "      <th>organism_name</th>\n",
       "      <th>other_acc_nums</th>\n",
       "      <th>protein_name</th>\n",
       "      <th>sequence</th>\n",
       "    </tr>\n",
       "  </thead>\n",
       "  <tbody>\n",
       "    <tr>\n",
       "      <th>0</th>\n",
       "      <td>Q4WCS7</td>\n",
       "      <td>True</td>\n",
       "      <td>Swiss-Prot</td>\n",
       "      <td>1.11.1.15</td>\n",
       "      <td>PMP20_ASPFU</td>\n",
       "      <td>[pmp20, AFUA_6G02280]</td>\n",
       "      <td>330879</td>\n",
       "      <td>[O43099]</td>\n",
       "      <td>Putative peroxiredoxin pmp20</td>\n",
       "      <td>MSGLKAGDSFPSDVVFSYIPWSEDKGEITACGIPINYNASKEWADK...</td>\n",
       "    </tr>\n",
       "  </tbody>\n",
       "</table>\n",
       "</div>"
      ],
      "text/plain": [
       "  acc_num allergen          db     ec_num   entry_name             gene_names  \\\n",
       "0  Q4WCS7     True  Swiss-Prot  1.11.1.15  PMP20_ASPFU  [pmp20, AFUA_6G02280]   \n",
       "\n",
       "  organism_name other_acc_nums                  protein_name  \\\n",
       "0        330879       [O43099]  Putative peroxiredoxin pmp20   \n",
       "\n",
       "                                            sequence  \n",
       "0  MSGLKAGDSFPSDVVFSYIPWSEDKGEITACGIPINYNASKEWADK...  "
      ]
     },
     "execution_count": 5,
     "metadata": {},
     "output_type": "execute_result"
    }
   ],
   "source": [
    "uniprot_allergen_df.head(1)"
   ]
  },
  {
   "cell_type": "code",
   "execution_count": 6,
   "metadata": {
    "collapsed": false
   },
   "outputs": [
    {
     "data": {
      "text/html": [
       "<div>\n",
       "<table border=\"1\" class=\"dataframe\">\n",
       "  <thead>\n",
       "    <tr style=\"text-align: right;\">\n",
       "      <th></th>\n",
       "      <th>acc_num</th>\n",
       "      <th>allergen</th>\n",
       "      <th>db</th>\n",
       "      <th>ec_num</th>\n",
       "      <th>entry_name</th>\n",
       "      <th>gene_names</th>\n",
       "      <th>organism_name</th>\n",
       "      <th>other_acc_nums</th>\n",
       "      <th>protein_name</th>\n",
       "      <th>sequence</th>\n",
       "    </tr>\n",
       "  </thead>\n",
       "  <tbody>\n",
       "    <tr>\n",
       "      <th>0</th>\n",
       "      <td>C6DJ78</td>\n",
       "      <td>False</td>\n",
       "      <td>Swiss-Prot</td>\n",
       "      <td>None</td>\n",
       "      <td>TTCA_PECCP</td>\n",
       "      <td>[ttcA, PC1_2316]</td>\n",
       "      <td>561230</td>\n",
       "      <td>[]</td>\n",
       "      <td>tRNA 2-thiocytidine biosynthesis protein TtcA</td>\n",
       "      <td>MSENQQINQKQQYNLNKLQKRLRRNVGEAIADFNMIEEGDRIMVCL...</td>\n",
       "    </tr>\n",
       "  </tbody>\n",
       "</table>\n",
       "</div>"
      ],
      "text/plain": [
       "  acc_num allergen          db ec_num  entry_name        gene_names  \\\n",
       "0  C6DJ78    False  Swiss-Prot   None  TTCA_PECCP  [ttcA, PC1_2316]   \n",
       "\n",
       "  organism_name other_acc_nums                                   protein_name  \\\n",
       "0        561230             []  tRNA 2-thiocytidine biosynthesis protein TtcA   \n",
       "\n",
       "                                            sequence  \n",
       "0  MSENQQINQKQQYNLNKLQKRLRRNVGEAIADFNMIEEGDRIMVCL...  "
      ]
     },
     "execution_count": 6,
     "metadata": {},
     "output_type": "execute_result"
    }
   ],
   "source": [
    "uniprot_non_allergen_df.head(1)"
   ]
  },
  {
   "cell_type": "code",
   "execution_count": 7,
   "metadata": {
    "collapsed": false
   },
   "outputs": [
    {
     "name": "stdout",
     "output_type": "stream",
     "text": [
      "(601, 10) (464738, 10)\n"
     ]
    }
   ],
   "source": [
    "print uniprot_allergen_df.shape, uniprot_non_allergen_df.shape"
   ]
  },
  {
   "cell_type": "code",
   "execution_count": null,
   "metadata": {
    "collapsed": true
   },
   "outputs": [],
   "source": []
  },
  {
   "cell_type": "code",
   "execution_count": 8,
   "metadata": {
    "collapsed": false
   },
   "outputs": [],
   "source": [
    "fasta_columns = ['db', 'identifier', 'entry_name', 'protein_name', 'organism_name', 'gene_name', 'sequence']\n",
    "parsed_fasta = parse_fasta_str(open('data/allergen_online_allergens.fasta').read())\n",
    "ao_df = pd.DataFrame(data=parsed_fasta, columns=fasta_columns)\n",
    "\n",
    "ao_identifiers = ao_df['identifier'].tolist()\n",
    "for i in range(0, len(ao_identifiers), 200):\n",
    "    if i == 0:\n",
    "        ao_df = convert_acc_nums_to_df(str(ao_identifiers[i:i+200]))\n",
    "    else:\n",
    "        ao_df = ao_df.append(convert_acc_nums_to_df(str(ao_identifiers[i:i+200])))"
   ]
  },
  {
   "cell_type": "code",
   "execution_count": 9,
   "metadata": {
    "collapsed": false
   },
   "outputs": [
    {
     "data": {
      "text/html": [
       "<div>\n",
       "<table border=\"1\" class=\"dataframe\">\n",
       "  <thead>\n",
       "    <tr style=\"text-align: right;\">\n",
       "      <th></th>\n",
       "      <th>db</th>\n",
       "      <th>identifier</th>\n",
       "      <th>entry_name</th>\n",
       "      <th>protein_name</th>\n",
       "      <th>organism_name</th>\n",
       "      <th>gene_name</th>\n",
       "      <th>sequence</th>\n",
       "    </tr>\n",
       "  </thead>\n",
       "  <tbody>\n",
       "    <tr>\n",
       "      <th>0</th>\n",
       "      <td>tr</td>\n",
       "      <td>B0KZJ6</td>\n",
       "      <td>B0KZJ6_ACASI</td>\n",
       "      <td>Allergen Aca s 13</td>\n",
       "      <td>Acarus siro</td>\n",
       "      <td>None</td>\n",
       "      <td>MVQINGSYKLEKSDNFDAFLKELGLNFVTRNLAKSATPTVEVSVNG...</td>\n",
       "    </tr>\n",
       "  </tbody>\n",
       "</table>\n",
       "</div>"
      ],
      "text/plain": [
       "   db identifier    entry_name       protein_name organism_name gene_name  \\\n",
       "0  tr     B0KZJ6  B0KZJ6_ACASI  Allergen Aca s 13   Acarus siro      None   \n",
       "\n",
       "                                            sequence  \n",
       "0  MVQINGSYKLEKSDNFDAFLKELGLNFVTRNLAKSATPTVEVSVNG...  "
      ]
     },
     "execution_count": 9,
     "metadata": {},
     "output_type": "execute_result"
    }
   ],
   "source": [
    "ao_df[ao_df['db'] == 'tr'].head(1)"
   ]
  },
  {
   "cell_type": "code",
   "execution_count": 10,
   "metadata": {
    "collapsed": false
   },
   "outputs": [
    {
     "name": "stdout",
     "output_type": "stream",
     "text": [
      "582\n",
      "405\n",
      "529\n",
      "352\n"
     ]
    }
   ],
   "source": [
    "#includes entries from the tremble database as well as swiss-prot\n",
    "ao_set = set(ao_df['sequence'])\n",
    "print len(ao_set)\n",
    "print len(ao_set.difference(allergen_set))\n",
    "print len(ao_set.difference(non_allergen_set))\n",
    "print len(ao_set.difference(allergen_set, non_allergen_set))"
   ]
  },
  {
   "cell_type": "code",
   "execution_count": 11,
   "metadata": {
    "collapsed": false
   },
   "outputs": [],
   "source": [
    "final_allergen_sequences = [s for s in allergen_set.union(ao_set.difference(non_allergen_set))] "
   ]
  },
  {
   "cell_type": "code",
   "execution_count": 12,
   "metadata": {
    "collapsed": false
   },
   "outputs": [
    {
     "data": {
      "text/plain": [
       "(953, 1)"
      ]
     },
     "execution_count": 12,
     "metadata": {},
     "output_type": "execute_result"
    }
   ],
   "source": [
    "allergen_df = pd.DataFrame({'sequence': final_allergen_sequences})\n",
    "allergen_df.shape"
   ]
  },
  {
   "cell_type": "code",
   "execution_count": 13,
   "metadata": {
    "collapsed": false
   },
   "outputs": [
    {
     "data": {
      "text/plain": [
       "(464685, 1)"
      ]
     },
     "execution_count": 13,
     "metadata": {},
     "output_type": "execute_result"
    }
   ],
   "source": [
    "non_allergen_sequences = [s for s in non_allergen_set.difference(ao_set)]\n",
    "non_allergen_df = pd.DataFrame({'sequence': non_allergen_sequences})\n",
    "non_allergen_df.shape"
   ]
  },
  {
   "cell_type": "code",
   "execution_count": 14,
   "metadata": {
    "collapsed": true
   },
   "outputs": [],
   "source": [
    "with open('pickles/allergen_df.pkl', 'w') as fout:\n",
    "    pickle.dump(allergen_df, fout)\n",
    "    \n",
    "with open('pickles/non_allergen_df.pkl', 'w') as fout:\n",
    "    pickle.dump(non_allergen_df, fout)"
   ]
  },
  {
   "cell_type": "code",
   "execution_count": 15,
   "metadata": {
    "collapsed": true
   },
   "outputs": [],
   "source": [
    "# Uncomment this code to run this cell without running whole notebook\n",
    "# with open('pickles/non_allergen_df.pkl', 'r') as fin:\n",
    "#     non_allergen_df = pickle.load(fin)\n",
    "# with open('pickles/allergen_df.pkl', 'r') as fin:\n",
    "#     allergen_df = pickle.load(fin)\n",
    "\n",
    "allergen_df['allergen'] = 1\n",
    "non_allergen_df['allergen'] = 0\n",
    "allergen_df = add_protein_characteristics(allergen_df)\n",
    "non_allergen_df = add_protein_characteristics(non_allergen_df)\n",
    "\n",
    "with open('pickles/allergen_df_with_features.pkl', 'w') as fout:\n",
    "    pickle.dump(allergen_df, fout)\n",
    "    \n",
    "with open('pickles/non_allergen_df_with_features.pkl', 'w') as fout:\n",
    "    pickle.dump(non_allergen_df, fout)"
   ]
  },
  {
   "cell_type": "code",
   "execution_count": 16,
   "metadata": {
    "collapsed": true
   },
   "outputs": [],
   "source": []
  },
  {
   "cell_type": "code",
   "execution_count": null,
   "metadata": {
    "collapsed": true
   },
   "outputs": [],
   "source": []
  }
 ],
 "metadata": {
  "kernelspec": {
   "display_name": "Python 2",
   "language": "python",
   "name": "python2"
  },
  "language_info": {
   "codemirror_mode": {
    "name": "ipython",
    "version": 2
   },
   "file_extension": ".py",
   "mimetype": "text/x-python",
   "name": "python",
   "nbconvert_exporter": "python",
   "pygments_lexer": "ipython2",
   "version": "2.7.11"
  }
 },
 "nbformat": 4,
 "nbformat_minor": 0
}
